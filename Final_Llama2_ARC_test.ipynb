{
 "cells": [
  {
   "cell_type": "markdown",
   "id": "g0H_Tv3EoEaR",
   "metadata": {
    "id": "g0H_Tv3EoEaR"
   },
   "source": [
    "# ARC Test on Llama 2"
   ]
  },
  {
   "cell_type": "code",
   "execution_count": 1,
   "id": "cVd_Z48EoLkZ",
   "metadata": {
    "id": "cVd_Z48EoLkZ"
   },
   "outputs": [],
   "source": [
    "import os\n",
    "import json\n",
    "import replicate\n",
    "import re\n",
    "import pandas as pd\n",
    "from tqdm import tqdm\n",
    "from transformers import LlamaTokenizer"
   ]
  },
  {
   "cell_type": "markdown",
   "id": "JFFNUBCapI_u",
   "metadata": {
    "id": "JFFNUBCapI_u"
   },
   "source": [
    "## Connection to the API"
   ]
  },
  {
   "cell_type": "code",
   "execution_count": 2,
   "id": "078f35b4",
   "metadata": {
    "id": "078f35b4"
   },
   "outputs": [],
   "source": [
    "os.environ['REPLICATE_API_TOKEN'] = 'r8_TPbThLzct109l1IBPqPDWoLB1GdVPPD4f3CaT'"
   ]
  },
  {
   "cell_type": "markdown",
   "id": "ec48b2f6",
   "metadata": {},
   "source": [
    "## Number of Tokens"
   ]
  },
  {
   "cell_type": "markdown",
   "id": "d07b38be",
   "metadata": {},
   "source": [
    "Since the number of tokens which can be fed to Llama 2 is limited to 4096, we need to count the number of tokens present in each prompt we are generating before sending them. System prompt is always sent to the model together with the main prompt. Let's calculate the number of tokens in system prompt:"
   ]
  },
  {
   "cell_type": "code",
   "execution_count": 3,
   "id": "67f6e993",
   "metadata": {
    "id": "67f6e993"
   },
   "outputs": [],
   "source": [
    "system_prompt = \"\"\"\n",
    "You will be given a list of input-output pairs labeled \"Case 0\" \"Case 1\" and so on.\n",
    "\n",
    "Each input and output is a grid of numbers representing a visual grid. There is a SINGLE rule that transforms each input\n",
    "grid to the corresponding output grid.\n",
    "\n",
    "The pattern may involve counting or sorting objects (e.g. sorting by size) comparing numbers (e.g. which shape or symbol\n",
    "appears the most? Which is the largest object? Which objects are the same size?) or repeating a pattern for a fixed number\n",
    "of time.\n",
    "\n",
    "There are other concepts that may be relevant.\n",
    "\n",
    "- Lines rectangular shapes\n",
    "\n",
    "- Symmetries rotations translations.\n",
    "\n",
    "- Shape upscaling or downscaling elastic distortions.\n",
    "\n",
    "- Containing / being contained / being inside or outside of a perimeter.\n",
    "- Drawing lines connecting points orthogonal projections.\n",
    "\n",
    "- Copying repeating objects.\n",
    "\n",
    "You should treat cells with 0 as empty cells (backgrounds) .\n",
    "\n",
    "Please generate the Output grid that corresponds to the last given Input grid using the transformation rule you induced\n",
    "from the previous input-output pairs. Just give the output with no further words.\n",
    "\"\"\""
   ]
  },
  {
   "cell_type": "markdown",
   "id": "212d11d6",
   "metadata": {},
   "source": [
    "We will use the below tokenizer througout the code:"
   ]
  },
  {
   "cell_type": "code",
   "execution_count": 4,
   "id": "0f1743f6",
   "metadata": {},
   "outputs": [
    {
     "name": "stderr",
     "output_type": "stream",
     "text": [
      "You are using the default legacy behaviour of the <class 'transformers.models.llama.tokenization_llama.LlamaTokenizer'>. This is expected, and simply means that the `legacy` (previous) behavior will be used so nothing changes for you. If you want to use the new behaviour, set `legacy=False`. This should only be set if you understand what it means, and thoroughly read the reason why this was added as explained in https://github.com/huggingface/transformers/pull/24565\n"
     ]
    }
   ],
   "source": [
    "# Initialize the tokenizer\n",
    "tokenizer = LlamaTokenizer.from_pretrained(\"hf-internal-testing/llama-tokenizer\")"
   ]
  },
  {
   "cell_type": "code",
   "execution_count": 5,
   "id": "d0a801a7",
   "metadata": {},
   "outputs": [
    {
     "name": "stdout",
     "output_type": "stream",
     "text": [
      "The number of tokens in the system prompt is 269.\n"
     ]
    }
   ],
   "source": [
    "# Encode the system prompt\n",
    "encoded_prompt = tokenizer.encode(system_prompt)\n",
    "\n",
    "# Calculate the number of tokens\n",
    "num_tokens = len(encoded_prompt)\n",
    "\n",
    "print(f\"The number of tokens in the system prompt is {num_tokens}.\")"
   ]
  },
  {
   "cell_type": "markdown",
   "id": "b1c93e1c",
   "metadata": {},
   "source": [
    "Therefore, for the main prompt we can tolerate 4096 - 269 = 3827 ~ 3820 tokens."
   ]
  },
  {
   "cell_type": "markdown",
   "id": "ba553731",
   "metadata": {},
   "source": [
    "A couple of useful functions for the rest of the code:"
   ]
  },
  {
   "cell_type": "code",
   "execution_count": 6,
   "id": "mqDiizp-thfZ",
   "metadata": {
    "id": "mqDiizp-thfZ"
   },
   "outputs": [],
   "source": [
    "def keep_numbers_only(input_string):         # this is a function  to create a serial version of the results\n",
    "    # Use regular expression to remove non-numeric characters\n",
    "    numbers_only = re.sub(r'[^0-9]', '', input_string)\n",
    "    return numbers_only"
   ]
  },
  {
   "cell_type": "code",
   "execution_count": 7,
   "id": "b0dfCCS2yPc_",
   "metadata": {
    "id": "b0dfCCS2yPc_"
   },
   "outputs": [],
   "source": [
    "def new_content(result , file_content ):\n",
    "\n",
    "  new_content = re.sub(r\"[^0-9\\s\\[\\]\\n]\", \"\", result).replace(\"\\n\", \"\")\n",
    "\n",
    "  file_content += new_content + '\\n [INST] The last output you produced is wrong, try again by predicting another output for the last input given. [/INST]' + '\\n output:'\n",
    "\n",
    "  return file_content"
   ]
  },
  {
   "cell_type": "markdown",
   "id": "WI55YH5ItTT4",
   "metadata": {
    "id": "WI55YH5ItTT4"
   },
   "source": [
    "# Run The Full Test on The Model"
   ]
  },
  {
   "cell_type": "code",
   "execution_count": 20,
   "id": "0u1rfdXC4MB6",
   "metadata": {
    "colab": {
     "base_uri": "https://localhost:8080/"
    },
    "id": "0u1rfdXC4MB6",
    "outputId": "d67dfd4f-ad12-4c51-ccd6-8304111aceeb"
   },
   "outputs": [
    {
     "name": "stdout",
     "output_type": "stream",
     "text": [
      "480\n"
     ]
    }
   ],
   "source": [
    "Comparison = []\n",
    "\n",
    "folder_path = 'New_Prompts/'\n",
    "\n",
    "# Get list of files with their sizes\n",
    "files_with_sizes = [(f, os.path.getsize(os.path.join(folder_path, f))) for f in os.listdir(folder_path)]\n",
    "\n",
    "# Filter files to keep only those smaller than 5 KB (5 * 1024 bytes)\n",
    "filtered_files = [(name, size) for name, size in files_with_sizes if size < 5 * 1024]\n",
    "\n",
    "# Sort filtered files based on their sizes in descending order\n",
    "sorted_files = sorted(filtered_files, key=lambda x: x[1], reverse=True)\n",
    "\n",
    "# Extract only the filenames from the sorted list\n",
    "sorted_filenames = [f[0] for f in sorted_files]\n",
    "\n",
    "print(len(sorted_filenames))"
   ]
  },
  {
   "cell_type": "code",
   "execution_count": 25,
   "id": "864c96b8",
   "metadata": {},
   "outputs": [],
   "source": [
    "processed_files = set()\n",
    "\n",
    "# Collect the names of already processed files\n",
    "for entry in Comparison:\n",
    "    processed_files.add(entry[0])"
   ]
  },
  {
   "cell_type": "code",
   "execution_count": 26,
   "id": "dd9a3f8b",
   "metadata": {},
   "outputs": [
    {
     "data": {
      "text/plain": [
       "{'AboveBelow10_0.json',\n",
       " 'AboveBelow10_1.json',\n",
       " 'AboveBelow10_2.json',\n",
       " 'AboveBelow1_0.json',\n",
       " 'AboveBelow1_1.json',\n",
       " 'AboveBelow1_2.json',\n",
       " 'AboveBelow2_0.json',\n",
       " 'AboveBelow2_1.json',\n",
       " 'AboveBelow2_2.json',\n",
       " 'AboveBelow7_0.json',\n",
       " 'AboveBelow7_1.json',\n",
       " 'AboveBelow7_2.json',\n",
       " 'AboveBelow8_0.json',\n",
       " 'AboveBelow8_1.json',\n",
       " 'AboveBelow8_2.json',\n",
       " 'AboveBelow9_0.json',\n",
       " 'AboveBelow9_1.json',\n",
       " 'AboveBelow9_2.json',\n",
       " 'Center1_2.json',\n",
       " 'Center3_0.json',\n",
       " 'Center3_1.json',\n",
       " 'Center3_2.json',\n",
       " 'Center5_0.json',\n",
       " 'Center5_1.json',\n",
       " 'Center5_2.json',\n",
       " 'Center6_0.json',\n",
       " 'Center6_1.json',\n",
       " 'Center6_2.json',\n",
       " 'Center8_0.json',\n",
       " 'Center8_1.json',\n",
       " 'Center8_2.json',\n",
       " 'Center9_1.json',\n",
       " 'CleanUp1_0.json',\n",
       " 'CleanUp3_0.json',\n",
       " 'CleanUp3_1.json',\n",
       " 'CleanUp3_2.json',\n",
       " 'CleanUp4_0.json',\n",
       " 'CleanUp4_1.json',\n",
       " 'CleanUp4_2.json',\n",
       " 'CleanUp5_0.json',\n",
       " 'CleanUp5_1.json',\n",
       " 'CleanUp5_2.json',\n",
       " 'CleanUp6_0.json',\n",
       " 'CleanUp6_1.json',\n",
       " 'CleanUp6_2.json',\n",
       " 'CleanUp7_0.json',\n",
       " 'CleanUp7_1.json',\n",
       " 'CleanUp7_2.json',\n",
       " 'CleanUp8_1.json',\n",
       " 'CompleteShape10_0.json',\n",
       " 'CompleteShape10_1.json',\n",
       " 'CompleteShape10_2.json',\n",
       " 'CompleteShape3_1.json',\n",
       " 'CompleteShape3_2.json',\n",
       " 'CompleteShape9_0.json',\n",
       " 'CompleteShape9_1.json',\n",
       " 'CompleteShape9_2.json',\n",
       " 'Copy10_0.json',\n",
       " 'Copy10_1.json',\n",
       " 'Copy10_2.json',\n",
       " 'Copy2_0.json',\n",
       " 'Copy2_1.json',\n",
       " 'Copy2_2.json',\n",
       " 'Copy3_0.json',\n",
       " 'Copy3_1.json',\n",
       " 'Copy3_2.json',\n",
       " 'Copy4_0.json',\n",
       " 'Copy4_1.json',\n",
       " 'Copy4_2.json',\n",
       " 'Copy8_0.json',\n",
       " 'Copy8_1.json',\n",
       " 'Copy8_2.json',\n",
       " 'Copy9_0.json',\n",
       " 'Copy9_1.json',\n",
       " 'Copy9_2.json',\n",
       " 'Count2_0.json',\n",
       " 'Count2_1.json',\n",
       " 'Count2_2.json',\n",
       " 'ExtendToBoundary10_0.json',\n",
       " 'ExtendToBoundary10_1.json',\n",
       " 'ExtendToBoundary10_2.json',\n",
       " 'ExtendToBoundary2_0.json',\n",
       " 'ExtendToBoundary2_1.json',\n",
       " 'ExtendToBoundary2_2.json',\n",
       " 'ExtendToBoundary3_0.json',\n",
       " 'ExtendToBoundary3_1.json',\n",
       " 'ExtendToBoundary3_2.json',\n",
       " 'ExtendToBoundary6_0.json',\n",
       " 'ExtendToBoundary6_1.json',\n",
       " 'ExtendToBoundary6_2.json',\n",
       " 'ExtendToBoundary7_0.json',\n",
       " 'ExtendToBoundary7_1.json',\n",
       " 'ExtendToBoundary7_2.json',\n",
       " 'ExtendToBoundary8_0.json',\n",
       " 'ExtendToBoundary8_1.json',\n",
       " 'ExtendToBoundary8_2.json',\n",
       " 'ExtendToBoundary9_0.json',\n",
       " 'ExtendToBoundary9_1.json',\n",
       " 'ExtendToBoundary9_2.json',\n",
       " 'ExtractObjects2_0.json',\n",
       " 'ExtractObjects2_1.json',\n",
       " 'ExtractObjects2_2.json',\n",
       " 'ExtractObjects3_0.json',\n",
       " 'ExtractObjects4_0.json',\n",
       " 'ExtractObjects5_0.json',\n",
       " 'ExtractObjects5_1.json',\n",
       " 'ExtractObjects5_2.json',\n",
       " 'FilledNotFilled10_0.json',\n",
       " 'FilledNotFilled10_1.json',\n",
       " 'FilledNotFilled10_2.json',\n",
       " 'FilledNotFilled4_0.json',\n",
       " 'FilledNotFilled4_1.json',\n",
       " 'FilledNotFilled4_2.json',\n",
       " 'FilledNotFilled5_1.json',\n",
       " 'FilledNotFilled5_2.json',\n",
       " 'FilledNotFilled7_0.json',\n",
       " 'FilledNotFilled7_1.json',\n",
       " 'FilledNotFilled7_2.json',\n",
       " 'FilledNotFilled8_0.json',\n",
       " 'FilledNotFilled8_1.json',\n",
       " 'FilledNotFilled8_2.json',\n",
       " 'FilledNotFilled9_0.json',\n",
       " 'FilledNotFilled9_1.json',\n",
       " 'FilledNotFilled9_2.json',\n",
       " 'HorizontalVertical1_0.json',\n",
       " 'HorizontalVertical1_1.json',\n",
       " 'HorizontalVertical1_2.json',\n",
       " 'HorizontalVertical2_0.json',\n",
       " 'HorizontalVertical2_1.json',\n",
       " 'HorizontalVertical2_2.json',\n",
       " 'HorizontalVertical3_0.json',\n",
       " 'HorizontalVertical3_1.json',\n",
       " 'HorizontalVertical3_2.json',\n",
       " 'HorizontalVertical4_0.json',\n",
       " 'HorizontalVertical4_1.json',\n",
       " 'HorizontalVertical4_2.json',\n",
       " 'HorizontalVertical5_0.json',\n",
       " 'HorizontalVertical5_1.json',\n",
       " 'HorizontalVertical5_2.json',\n",
       " 'HorizontalVertical6_0.json',\n",
       " 'HorizontalVertical6_1.json',\n",
       " 'HorizontalVertical6_2.json',\n",
       " 'HorizontalVertical7_0.json',\n",
       " 'HorizontalVertical7_1.json',\n",
       " 'HorizontalVertical7_2.json',\n",
       " 'HorizontalVertical8_0.json',\n",
       " 'HorizontalVertical8_1.json',\n",
       " 'HorizontalVertical8_2.json',\n",
       " 'InsideOutside10_0.json',\n",
       " 'InsideOutside10_1.json',\n",
       " 'InsideOutside10_2.json',\n",
       " 'InsideOutside2_0.json',\n",
       " 'InsideOutside2_1.json',\n",
       " 'InsideOutside2_2.json',\n",
       " 'InsideOutside3_0.json',\n",
       " 'InsideOutside3_1.json',\n",
       " 'InsideOutside3_2.json',\n",
       " 'InsideOutside4_0.json',\n",
       " 'InsideOutside4_1.json',\n",
       " 'InsideOutside4_2.json',\n",
       " 'InsideOutside5_0.json',\n",
       " 'InsideOutside5_1.json',\n",
       " 'InsideOutside5_2.json',\n",
       " 'InsideOutside6_0.json',\n",
       " 'InsideOutside6_1.json',\n",
       " 'InsideOutside6_2.json',\n",
       " 'InsideOutside8_0.json',\n",
       " 'InsideOutside8_1.json',\n",
       " 'InsideOutside8_2.json',\n",
       " 'MoveToBoundary10_0.json',\n",
       " 'MoveToBoundary10_1.json',\n",
       " 'MoveToBoundary10_2.json',\n",
       " 'MoveToBoundary2_0.json',\n",
       " 'MoveToBoundary2_1.json',\n",
       " 'MoveToBoundary2_2.json',\n",
       " 'MoveToBoundary7_0.json',\n",
       " 'MoveToBoundary7_1.json',\n",
       " 'MoveToBoundary7_2.json',\n",
       " 'MoveToBoundary8_0.json',\n",
       " 'MoveToBoundary8_1.json',\n",
       " 'MoveToBoundary8_2.json',\n",
       " 'MoveToBoundary9_0.json',\n",
       " 'MoveToBoundary9_1.json',\n",
       " 'MoveToBoundary9_2.json',\n",
       " 'Order10_0.json',\n",
       " 'Order10_1.json',\n",
       " 'Order10_2.json',\n",
       " 'Order1_0.json',\n",
       " 'Order1_1.json',\n",
       " 'Order1_2.json',\n",
       " 'Order4_1.json',\n",
       " 'Order5_0.json',\n",
       " 'Order5_1.json',\n",
       " 'Order5_2.json',\n",
       " 'Order6_1.json',\n",
       " 'Order6_2.json',\n",
       " 'Order7_0.json',\n",
       " 'Order7_1.json',\n",
       " 'Order7_2.json',\n",
       " 'SameDifferent10_0.json',\n",
       " 'SameDifferent10_1.json',\n",
       " 'SameDifferent10_2.json',\n",
       " 'SameDifferent1_0.json',\n",
       " 'SameDifferent1_1.json',\n",
       " 'SameDifferent1_2.json',\n",
       " 'SameDifferent2_0.json',\n",
       " 'SameDifferent2_1.json',\n",
       " 'SameDifferent2_2.json',\n",
       " 'SameDifferent3_0.json',\n",
       " 'SameDifferent3_1.json',\n",
       " 'SameDifferent3_2.json',\n",
       " 'SameDifferent5_1.json',\n",
       " 'SameDifferent5_2.json',\n",
       " 'SameDifferent6_0.json',\n",
       " 'SameDifferent6_1.json',\n",
       " 'SameDifferent6_2.json',\n",
       " 'SameDifferent7_0.json',\n",
       " 'SameDifferent7_1.json',\n",
       " 'SameDifferent7_2.json',\n",
       " 'SameDifferent8_0.json',\n",
       " 'SameDifferent8_1.json',\n",
       " 'SameDifferent8_2.json',\n",
       " 'SameDifferent9_0.json',\n",
       " 'SameDifferent9_1.json',\n",
       " 'SameDifferent9_2.json',\n",
       " 'TopBottom2D3_0.json',\n",
       " 'TopBottom2D3_1.json',\n",
       " 'TopBottom2D4_0.json',\n",
       " 'TopBottom2D4_1.json',\n",
       " 'TopBottom2D4_2.json',\n",
       " 'TopBottom2D5_0.json',\n",
       " 'TopBottom2D5_1.json',\n",
       " 'TopBottom2D5_2.json',\n",
       " 'TopBottom2D8_0.json',\n",
       " 'TopBottom2D8_1.json',\n",
       " 'TopBottom2D8_2.json',\n",
       " 'TopBottom3D10_0.json',\n",
       " 'TopBottom3D10_1.json',\n",
       " 'TopBottom3D10_2.json',\n",
       " 'TopBottom3D4_0.json',\n",
       " 'TopBottom3D4_1.json',\n",
       " 'TopBottom3D4_2.json',\n",
       " 'TopBottom3D7_0.json',\n",
       " 'TopBottom3D7_1.json',\n",
       " 'TopBottom3D7_2.json',\n",
       " 'TopBottom3D9_0.json',\n",
       " 'TopBottom3D9_1.json',\n",
       " 'TopBottom3D9_2.json'}"
      ]
     },
     "execution_count": 26,
     "metadata": {},
     "output_type": "execute_result"
    }
   ],
   "source": [
    "processed_files"
   ]
  },
  {
   "cell_type": "code",
   "execution_count": 27,
   "id": "g4C4AAwK0vfu",
   "metadata": {
    "colab": {
     "base_uri": "https://localhost:8080/",
     "height": 904
    },
    "id": "g4C4AAwK0vfu",
    "outputId": "0f380626-0c99-4f81-8af0-5c00de4f7313"
   },
   "outputs": [
    {
     "name": "stderr",
     "output_type": "stream",
     "text": [
      "\r",
      "Processing files:   0%|          | 0/480 [00:00<?, ?file/s]"
     ]
    },
    {
     "name": "stdout",
     "output_type": "stream",
     "text": [
      "ExtendToBoundary2_1.json already processed. Skipping...\n",
      "AboveBelow2_2.json already processed. Skipping...\n",
      "ExtendToBoundary2_2.json already processed. Skipping...\n",
      "InsideOutside4_0.json already processed. Skipping...\n",
      "InsideOutside4_1.json already processed. Skipping...\n",
      "InsideOutside4_2.json already processed. Skipping...\n",
      "ExtendToBoundary2_0.json already processed. Skipping...\n",
      "AboveBelow2_1.json already processed. Skipping...\n",
      "AboveBelow2_0.json already processed. Skipping...\n",
      "InsideOutside5_2.json already processed. Skipping...\n",
      "InsideOutside5_1.json already processed. Skipping...\n",
      "HorizontalVertical8_1.json already processed. Skipping...\n",
      "InsideOutside5_0.json already processed. Skipping...\n",
      "ExtendToBoundary9_0.json already processed. Skipping...\n",
      "HorizontalVertical8_0.json already processed. Skipping...\n",
      "ExtendToBoundary9_1.json already processed. Skipping...\n",
      "HorizontalVertical4_2.json already processed. Skipping...\n",
      "Count2_2.json already processed. Skipping...\n",
      "HorizontalVertical8_2.json already processed. Skipping...\n",
      "ExtendToBoundary9_2.json already processed. Skipping...\n",
      "HorizontalVertical6_0.json already processed. Skipping...\n",
      "HorizontalVertical6_1.json already processed. Skipping...\n",
      "HorizontalVertical6_2.json already processed. Skipping...\n",
      "HorizontalVertical4_0.json already processed. Skipping...\n",
      "CompleteShape10_1.json already processed. Skipping...\n",
      "FilledNotFilled10_2.json already processed. Skipping...\n",
      "Center6_1.json already processed. Skipping...\n",
      "Center6_2.json already processed. Skipping...\n",
      "CleanUp4_1.json already processed. Skipping...\n",
      "FilledNotFilled10_0.json already processed. Skipping...\n",
      "Count2_1.json already processed. Skipping...\n",
      "CompleteShape10_2.json already processed. Skipping...\n",
      "HorizontalVertical4_1.json already processed. Skipping...\n",
      "Center6_0.json already processed. Skipping...\n",
      "FilledNotFilled9_2.json already processed. Skipping...\n",
      "CompleteShape10_0.json already processed. Skipping...\n",
      "FilledNotFilled10_1.json already processed. Skipping...\n",
      "FilledNotFilled9_0.json already processed. Skipping...\n",
      "Center3_1.json already processed. Skipping...\n",
      "Center3_2.json already processed. Skipping...\n",
      "CleanUp4_0.json already processed. Skipping...\n",
      "FilledNotFilled9_1.json already processed. Skipping...\n",
      "SameDifferent7_0.json already processed. Skipping...\n",
      "Copy10_1.json already processed. Skipping...\n",
      "ExtendToBoundary3_1.json already processed. Skipping...\n",
      "SameDifferent7_2.json already processed. Skipping...\n",
      "Count2_0.json already processed. Skipping...\n",
      "TopBottom3D10_2.json already processed. Skipping...\n",
      "SameDifferent2_2.json already processed. Skipping...\n",
      "CleanUp4_2.json already processed. Skipping...\n",
      "SameDifferent7_1.json already processed. Skipping...\n",
      "AboveBelow1_0.json already processed. Skipping...\n",
      "FilledNotFilled4_0.json already processed. Skipping...\n",
      "FilledNotFilled4_1.json already processed. Skipping...\n",
      "HorizontalVertical3_0.json already processed. Skipping...\n",
      "HorizontalVertical3_1.json already processed. Skipping...\n",
      "HorizontalVertical3_2.json already processed. Skipping...\n",
      "Copy4_0.json already processed. Skipping...\n",
      "AboveBelow1_2.json already processed. Skipping...\n",
      "TopBottom3D10_0.json already processed. Skipping...\n",
      "FilledNotFilled4_2.json already processed. Skipping...\n",
      "SameDifferent9_1.json already processed. Skipping...\n",
      "Copy2_1.json already processed. Skipping...\n",
      "TopBottom3D9_2.json already processed. Skipping...\n",
      "TopBottom3D9_0.json already processed. Skipping...\n",
      "Copy4_1.json already processed. Skipping...\n",
      "CleanUp3_1.json already processed. Skipping...\n",
      "TopBottom2D4_0.json already processed. Skipping...\n",
      "SameDifferent10_2.json already processed. Skipping...\n",
      "Order1_1.json already processed. Skipping...\n",
      "AboveBelow1_1.json already processed. Skipping...\n",
      "TopBottom2D4_1.json already processed. Skipping...\n",
      "MoveToBoundary8_2.json already processed. Skipping...\n",
      "InsideOutside6_2.json already processed. Skipping...\n",
      "Copy4_2.json already processed. Skipping...\n",
      "Order1_0.json already processed. Skipping...\n",
      "InsideOutside2_0.json already processed. Skipping...\n",
      "InsideOutside2_1.json already processed. Skipping...\n",
      "InsideOutside2_2.json already processed. Skipping...\n",
      "InsideOutside3_0.json already processed. Skipping...\n",
      "InsideOutside3_1.json already processed. Skipping...\n",
      "InsideOutside3_2.json already processed. Skipping...\n",
      "SameDifferent9_0.json already processed. Skipping...\n",
      "SameDifferent9_2.json already processed. Skipping...\n",
      "MoveToBoundary8_0.json already processed. Skipping...\n",
      "InsideOutside6_0.json already processed. Skipping...\n",
      "InsideOutside6_1.json already processed. Skipping...\n",
      "MoveToBoundary7_1.json already processed. Skipping...\n",
      "AboveBelow8_1.json already processed. Skipping...\n",
      "TopBottom2D4_2.json already processed. Skipping...\n",
      "Center8_1.json already processed. Skipping...\n",
      "TopBottom3D10_1.json already processed. Skipping...\n",
      "Copy3_1.json already processed. Skipping...\n",
      "Center3_0.json already processed. Skipping...\n",
      "SameDifferent10_1.json already processed. Skipping...\n",
      "SameDifferent2_0.json already processed. Skipping...\n",
      "SameDifferent2_1.json already processed. Skipping...\n",
      "MoveToBoundary7_2.json already processed. Skipping...\n",
      "HorizontalVertical1_0.json already processed. Skipping...\n",
      "Copy10_2.json already processed. Skipping...\n",
      "Order1_2.json already processed. Skipping...\n",
      "SameDifferent6_2.json already processed. Skipping...\n",
      "SameDifferent10_0.json already processed. Skipping...\n",
      "Center8_0.json already processed. Skipping...\n",
      "Center8_2.json already processed. Skipping...\n",
      "TopBottom3D9_1.json already processed. Skipping...\n",
      "AboveBelow8_0.json already processed. Skipping...\n",
      "AboveBelow8_2.json already processed. Skipping...\n",
      "CleanUp3_2.json already processed. Skipping...\n",
      "Copy3_2.json already processed. Skipping...\n",
      "Copy10_0.json already processed. Skipping...\n",
      "CleanUp3_0.json already processed. Skipping...\n",
      "Order7_0.json already processed. Skipping...\n",
      "Order7_1.json already processed. Skipping...\n",
      "Order7_2.json already processed. Skipping...\n",
      "MoveToBoundary8_1.json already processed. Skipping...\n",
      "ExtractObjects5_2.json already processed. Skipping...\n",
      "HorizontalVertical1_2.json already processed. Skipping...\n",
      "SameDifferent6_0.json already processed. Skipping...\n",
      "SameDifferent6_1.json already processed. Skipping...\n",
      "Copy3_0.json already processed. Skipping...\n",
      "ExtendToBoundary3_2.json already processed. Skipping...\n",
      "HorizontalVertical2_2.json already processed. Skipping...\n",
      "ExtendToBoundary3_0.json already processed. Skipping...\n",
      "ExtendToBoundary8_0.json already processed. Skipping...\n",
      "MoveToBoundary7_0.json already processed. Skipping...\n",
      "ExtractObjects2_0.json already processed. Skipping...\n",
      "ExtractObjects2_2.json already processed. Skipping...\n",
      "AboveBelow7_1.json already processed. Skipping...\n",
      "AboveBelow9_0.json already processed. Skipping...\n",
      "HorizontalVertical2_0.json already processed. Skipping...\n",
      "HorizontalVertical2_1.json already processed. Skipping...\n",
      "Copy8_1.json already processed. Skipping...\n",
      "ExtractObjects2_1.json already processed. Skipping...\n",
      "Copy8_0.json already processed. Skipping...\n",
      "Copy8_2.json already processed. Skipping...\n",
      "Copy9_2.json already processed. Skipping...\n",
      "AboveBelow9_1.json already processed. Skipping...\n",
      "TopBottom3D7_0.json already processed. Skipping...\n",
      "TopBottom3D7_1.json already processed. Skipping...\n",
      "TopBottom3D7_2.json already processed. Skipping...\n",
      "ExtendToBoundary8_2.json already processed. Skipping...\n",
      "ExtendToBoundary8_1.json already processed. Skipping...\n",
      "ExtractObjects5_0.json already processed. Skipping...\n",
      "ExtendToBoundary6_1.json already processed. Skipping...\n",
      "ExtendToBoundary6_2.json already processed. Skipping...\n",
      "AboveBelow7_0.json already processed. Skipping...\n",
      "Copy9_1.json already processed. Skipping...\n",
      "ExtendToBoundary6_0.json already processed. Skipping...\n",
      "AboveBelow7_2.json already processed. Skipping...\n",
      "Copy9_0.json already processed. Skipping...\n",
      "Copy2_0.json already processed. Skipping...\n",
      "InsideOutside10_2.json already processed. Skipping...\n",
      "AboveBelow9_2.json already processed. Skipping...\n",
      "CompleteShape9_2.json already processed. Skipping...\n",
      "Center5_1.json already processed. Skipping...\n",
      "Center5_2.json already processed. Skipping...\n",
      "HorizontalVertical5_0.json already processed. Skipping...\n",
      "HorizontalVertical5_1.json already processed. Skipping...\n",
      "HorizontalVertical5_2.json already processed. Skipping...\n",
      "HorizontalVertical7_0.json already processed. Skipping...\n",
      "HorizontalVertical7_1.json already processed. Skipping...\n",
      "HorizontalVertical7_2.json already processed. Skipping...\n",
      "MoveToBoundary2_0.json already processed. Skipping...\n",
      "MoveToBoundary2_1.json already processed. Skipping...\n",
      "MoveToBoundary2_2.json already processed. Skipping...\n",
      "TopBottom2D5_0.json already processed. Skipping...\n",
      "TopBottom2D5_1.json already processed. Skipping...\n",
      "TopBottom2D8_0.json already processed. Skipping...\n",
      "TopBottom2D8_1.json already processed. Skipping...\n",
      "TopBottom2D8_2.json already processed. Skipping...\n",
      "InsideOutside10_0.json already processed. Skipping...\n",
      "InsideOutside10_1.json already processed. Skipping...\n",
      "FilledNotFilled8_1.json already processed. Skipping...\n",
      "FilledNotFilled7_0.json already processed. Skipping...\n",
      "CompleteShape9_1.json already processed. Skipping...\n",
      "CompleteShape9_0.json already processed. Skipping...\n",
      "FilledNotFilled8_2.json already processed. Skipping...\n",
      "TopBottom2D5_2.json already processed. Skipping...\n",
      "HorizontalVertical1_1.json already processed. Skipping...\n",
      "InsideOutside8_2.json already processed. Skipping...\n",
      "SameDifferent3_1.json already processed. Skipping...\n",
      "SameDifferent3_2.json already processed. Skipping...\n",
      "ExtractObjects3_0.json already processed. Skipping...\n",
      "ExtractObjects5_1.json already processed. Skipping...\n",
      "Order6_1.json already processed. Skipping...\n",
      "Center1_2.json already processed. Skipping...\n",
      "Copy2_2.json already processed. Skipping...\n",
      "CleanUp6_1.json already processed. Skipping...\n",
      "AboveBelow10_1.json already processed. Skipping...\n",
      "FilledNotFilled7_1.json already processed. Skipping...\n",
      "ExtendToBoundary10_0.json already processed. Skipping...\n",
      "InsideOutside8_1.json already processed. Skipping...\n",
      "Center5_0.json already processed. Skipping...\n",
      "ExtendToBoundary10_1.json already processed. Skipping...\n",
      "ExtendToBoundary10_2.json already processed. Skipping...\n",
      "TopBottom3D4_1.json already processed. Skipping...\n",
      "TopBottom3D4_2.json already processed. Skipping...\n",
      "SameDifferent3_0.json already processed. Skipping...\n",
      "Order10_1.json already processed. Skipping...\n",
      "FilledNotFilled7_2.json already processed. Skipping...\n",
      "FilledNotFilled8_0.json already processed. Skipping...\n",
      "MoveToBoundary10_2.json already processed. Skipping...\n",
      "MoveToBoundary9_0.json already processed. Skipping...\n",
      "CleanUp5_2.json already processed. Skipping...\n",
      "CleanUp6_2.json already processed. Skipping...\n",
      "SameDifferent1_0.json already processed. Skipping...\n",
      "SameDifferent8_1.json already processed. Skipping...\n",
      "InsideOutside8_0.json already processed. Skipping...\n",
      "SameDifferent5_1.json already processed. Skipping...\n",
      "FilledNotFilled5_2.json already processed. Skipping...\n",
      "Order6_2.json already processed. Skipping...\n",
      "CleanUp5_0.json already processed. Skipping...\n",
      "SameDifferent8_2.json already processed. Skipping...\n",
      "TopBottom3D4_0.json already processed. Skipping...\n",
      "Order4_1.json already processed. Skipping...\n",
      "CleanUp5_1.json already processed. Skipping...\n",
      "MoveToBoundary10_1.json already processed. Skipping...\n",
      "SameDifferent1_2.json already processed. Skipping...\n",
      "AboveBelow10_2.json already processed. Skipping...\n",
      "CompleteShape3_1.json already processed. Skipping...\n",
      "MoveToBoundary9_1.json already processed. Skipping...\n",
      "Order5_0.json already processed. Skipping...\n",
      "Order5_1.json already processed. Skipping...\n",
      "Order5_2.json already processed. Skipping...\n",
      "AboveBelow10_0.json already processed. Skipping...\n",
      "FilledNotFilled5_1.json already processed. Skipping...\n",
      "ExtractObjects4_0.json already processed. Skipping...\n",
      "SameDifferent5_2.json already processed. Skipping...\n",
      "CleanUp8_1.json already processed. Skipping...\n",
      "SameDifferent8_0.json already processed. Skipping...\n",
      "CleanUp6_0.json already processed. Skipping...\n",
      "CleanUp7_0.json already processed. Skipping...\n",
      "CleanUp7_1.json already processed. Skipping...\n",
      "CleanUp7_2.json already processed. Skipping...\n",
      "TopBottom2D3_1.json already processed. Skipping...\n",
      "Center9_1.json already processed. Skipping...\n",
      "ExtendToBoundary7_1.json already processed. Skipping...\n",
      "ExtendToBoundary7_2.json already processed. Skipping...\n",
      "MoveToBoundary10_0.json already processed. Skipping...\n",
      "SameDifferent1_1.json already processed. Skipping...\n",
      "CompleteShape3_2.json already processed. Skipping...\n",
      "MoveToBoundary9_2.json already processed. Skipping...\n",
      "Order10_0.json already processed. Skipping...\n",
      "Order10_2.json already processed. Skipping...\n",
      "ExtendToBoundary7_0.json already processed. Skipping...\n",
      "CleanUp1_0.json already processed. Skipping...\n",
      "TopBottom2D3_0.json already processed. Skipping...\n"
     ]
    },
    {
     "name": "stderr",
     "output_type": "stream",
     "text": [
      "\r",
      "Processing files:  52%|█████▏    | 249/480 [00:07<00:06, 35.51file/s]"
     ]
    },
    {
     "name": "stdout",
     "output_type": "stream",
     "text": [
      "['ExtractObjects4_2.json', '333', '33333333333333333333', False, False, 3]\n"
     ]
    },
    {
     "name": "stderr",
     "output_type": "stream",
     "text": [
      "Processing files:  52%|█████▏    | 250/480 [00:38<00:48,  4.77file/s]"
     ]
    },
    {
     "name": "stdout",
     "output_type": "stream",
     "text": [
      "['Order6_0.json', '0000000000400000000033333330003333333000333333300033333330003333333000333333300077000000007700000000666660000066666000006666600000666660000012345', '00000000004000000000770000000077000000006666600000666660000066666000006666600000333333300033333330003333333000333333300033333330003333333000', False, False, 3]\n"
     ]
    },
    {
     "name": "stderr",
     "output_type": "stream",
     "text": [
      "\r",
      "Processing files:  52%|█████▏    | 251/480 [00:59<01:26,  2.65file/s]"
     ]
    },
    {
     "name": "stdout",
     "output_type": "stream",
     "text": [
      "['FilledNotFilled6_2.json', '0000000055555550', '00000000000000000001111110000000111111100000111111111100001111111111000011111111110000001111111100000111111111000011111111110000111111111100000000000000000000000000000000007777777770000070000000700000700000007000007000000070000070000000700000777777777000000000000000', False, False, 3]\n"
     ]
    },
    {
     "name": "stderr",
     "output_type": "stream",
     "text": [
      "\r",
      "Processing files:  52%|█████▎    | 252/480 [01:43<03:19,  1.14file/s]"
     ]
    },
    {
     "name": "stdout",
     "output_type": "stream",
     "text": [
      "['CleanUp8_2.json', '77000000000011000000000044000000003300000000005500000000006600000000770000000088', '111100000000111100000000111100000000111100000000000044440000000044440000000044440000000044440000000000008888000000008888000000008888000000008888', False, False, 3]\n"
     ]
    },
    {
     "name": "stderr",
     "output_type": "stream",
     "text": [
      "\r",
      "Processing files:  53%|█████▎    | 253/480 [01:52<03:48,  1.01s/file]"
     ]
    },
    {
     "name": "stdout",
     "output_type": "stream",
     "text": [
      "['AboveBelow3_0.json', '5555555', '000000000000000000000000000001111100005555500005555500005555500005555500005555500000000000000000000001111100', False, False, 3]\n"
     ]
    },
    {
     "name": "stderr",
     "output_type": "stream",
     "text": [
      "Processing files:  53%|█████▎    | 254/480 [02:14<05:33,  1.47s/file]"
     ]
    },
    {
     "name": "stdout",
     "output_type": "stream",
     "text": [
      "['TopBottom2D10_1.json', '00000000000001110000000111000000022200000002220000000333300000003333000000033330000004444440000444444000044444400', '0000000000004444440000444444000044444400000333300000033330000003333000000333300000002200000000220000', False, False, 3]\n"
     ]
    },
    {
     "name": "stderr",
     "output_type": "stream",
     "text": [
      "\r",
      "Processing files:  53%|█████▎    | 255/480 [02:37<08:00,  2.13s/file]"
     ]
    },
    {
     "name": "stdout",
     "output_type": "stream",
     "text": [
      "['AboveBelow6_1.json', '00000000000000000000000000000000000000088888888888888888888822222222288888888888888888888880000000000000000000000000000000000000000', '0000000000000000000000000000000000000008888888888888888888882222222228888222222222888822222000000000000000000000000000000000000000', False, False, 3]\n"
     ]
    },
    {
     "name": "stderr",
     "output_type": "stream",
     "text": [
      "\r",
      "Processing files:  53%|█████▎    | 256/480 [02:44<08:43,  2.34s/file]"
     ]
    },
    {
     "name": "stdout",
     "output_type": "stream",
     "text": [
      "['TopBottom2D3_2.json', '555555555', '000000000000000000000000002222222200000001100000000000000000', False, False, 3]\n"
     ]
    },
    {
     "name": "stderr",
     "output_type": "stream",
     "text": [
      "\r",
      "Processing files:  54%|█████▎    | 257/480 [03:00<11:37,  3.13s/file]"
     ]
    },
    {
     "name": "stdout",
     "output_type": "stream",
     "text": [
      "['AboveBelow3_2.json', '5555555000', '0000000000000000000000055550000005555000000555500000055550000005555000000000000000000000000000000000', False, False, 3]\n"
     ]
    },
    {
     "name": "stderr",
     "output_type": "stream",
     "text": [
      "\r",
      "Processing files:  54%|█████▍    | 258/480 [03:13<14:11,  3.84s/file]"
     ]
    },
    {
     "name": "stdout",
     "output_type": "stream",
     "text": [
      "['ExtractObjects3_1.json', '80008', '555555500005500005500005500005555555', False, False, 3]\n"
     ]
    },
    {
     "name": "stderr",
     "output_type": "stream",
     "text": [
      "\r",
      "Processing files:  54%|█████▍    | 259/480 [03:25<17:22,  4.71s/file]"
     ]
    },
    {
     "name": "stdout",
     "output_type": "stream",
     "text": [
      "['FilledNotFilled5_0.json', '000444000004000400040000040400000004444444444000000000', '000444000004444400044444440444444444444444444000000000', False, True, 3]\n"
     ]
    },
    {
     "name": "stderr",
     "output_type": "stream",
     "text": [
      "\r",
      "Processing files:  54%|█████▍    | 260/480 [03:32<17:56,  4.89s/file]"
     ]
    },
    {
     "name": "stdout",
     "output_type": "stream",
     "text": [
      "['SameDifferent5_0.json', '6', '8', False, True, 3]\n"
     ]
    },
    {
     "name": "stderr",
     "output_type": "stream",
     "text": [
      "\r",
      "Processing files:  54%|█████▍    | 261/480 [03:49<24:44,  6.78s/file]"
     ]
    },
    {
     "name": "stdout",
     "output_type": "stream",
     "text": [
      "['Order4_2.json', '888033307770555888033307770555888033307770555888033307770555888033307770555888033307770555888033307770555', '000000000000000000000000000000000000000000000555088803330777555088803330777555088803330777', False, False, 3]\n"
     ]
    },
    {
     "name": "stderr",
     "output_type": "stream",
     "text": [
      "\r",
      "Processing files:  55%|█████▍    | 262/480 [04:02<28:23,  7.81s/file]"
     ]
    },
    {
     "name": "stdout",
     "output_type": "stream",
     "text": [
      "['Center9_2.json', '5555555000000000000002000000555555500000000000000', '5555555000000020000000000000555555500000000000000', False, True, 3]\n"
     ]
    },
    {
     "name": "stderr",
     "output_type": "stream",
     "text": [
      "\r",
      "Processing files:  55%|█████▍    | 263/480 [05:00<1:04:23, 17.81s/file]"
     ]
    },
    {
     "name": "stdout",
     "output_type": "stream",
     "text": [
      "['Center1_1.json', '0666660000006', '000000000000000000000000000000066600006666666066600006000006066600006000006000000006006006000000006000006066666006000006060006006666666060606000000000060006000000000066666000000000000000000000000000000000000000000000000000000', False, False, 3]\n"
     ]
    },
    {
     "name": "stderr",
     "output_type": "stream",
     "text": [
      "\r",
      "Processing files:  55%|█████▌    | 264/480 [06:59<2:25:21, 40.38s/file]"
     ]
    },
    {
     "name": "stdout",
     "output_type": "stream",
     "text": [
      "['CompleteShape4_1.json', '88888888', '000222222000000000000000000000000000000000000000000000000000000000000000000000000000000000000000000000000000000002222220', False, False, 3]\n"
     ]
    },
    {
     "name": "stderr",
     "output_type": "stream",
     "text": [
      "\r",
      "Processing files:  55%|█████▌    | 265/480 [07:29<2:15:47, 37.90s/file]"
     ]
    },
    {
     "name": "stdout",
     "output_type": "stream",
     "text": [
      "['CompleteShape8_2.json', '0000000000000222000000000050500000000000000000000000006660000000666000000066600000000000000000000000', '000000000000000000000000000000000000000000020000000020200000020002000000202005000002005050000005000500000050500000000500', False, False, 3]\n"
     ]
    },
    {
     "name": "stderr",
     "output_type": "stream",
     "text": [
      "\r",
      "Processing files:  55%|█████▌    | 266/480 [07:49<1:59:04, 33.39s/file]"
     ]
    },
    {
     "name": "stdout",
     "output_type": "stream",
     "text": [
      "['AboveBelow4_0.json', '009333000000000000093330666666666666000000000000000000000000000000333333000000000000000000000000000000000000', '000000000000000133330000000000000000000000000000000000000133111111111111000000000000033333100000000000000331', False, True, 3]\n"
     ]
    },
    {
     "name": "stderr",
     "output_type": "stream",
     "text": [
      "\r",
      "Processing files:  56%|█████▌    | 267/480 [07:59<1:35:59, 27.04s/file]"
     ]
    },
    {
     "name": "stdout",
     "output_type": "stream",
     "text": [
      "['CleanUp1_2.json', '4646464684', '464646464464646464464646464464646464464646464464646464464646464464646464464646464', False, False, 3]\n"
     ]
    },
    {
     "name": "stderr",
     "output_type": "stream",
     "text": [
      "\r",
      "Processing files:  56%|█████▌    | 268/480 [08:06<1:15:26, 21.35s/file]"
     ]
    },
    {
     "name": "stdout",
     "output_type": "stream",
     "text": [
      "['FilledNotFilled1_1.json', '33333333', '8', False, False, 3]\n"
     ]
    },
    {
     "name": "stderr",
     "output_type": "stream",
     "text": [
      "\r",
      "Processing files:  56%|█████▌    | 269/480 [08:12<59:44, 16.99s/file]  "
     ]
    },
    {
     "name": "stdout",
     "output_type": "stream",
     "text": [
      "['Order2_0.json', '777777777', '000000000000000000000000000000000000000000000000000700000000007700000000007700000000077700000000077700000000777700000000', False, False, 3]\n"
     ]
    },
    {
     "name": "stderr",
     "output_type": "stream",
     "text": [
      "\r",
      "Processing files:  56%|█████▋    | 270/480 [08:19<49:23, 14.11s/file]"
     ]
    },
    {
     "name": "stdout",
     "output_type": "stream",
     "text": [
      "['AboveBelow3_1.json', '000011110', '000000000000011100004444400004000400004000400004000400004444400000000000000111100', False, False, 3]\n"
     ]
    },
    {
     "name": "stderr",
     "output_type": "stream",
     "text": [
      "\r",
      "Processing files:  56%|█████▋    | 271/480 [08:24<39:50, 11.44s/file]"
     ]
    },
    {
     "name": "stdout",
     "output_type": "stream",
     "text": [
      "['ExtractObjects4_1.json', '555000', '555555', False, True, 3]\n"
     ]
    },
    {
     "name": "stderr",
     "output_type": "stream",
     "text": [
      "\r",
      "Processing files:  57%|█████▋    | 272/480 [08:33<37:19, 10.77s/file]"
     ]
    },
    {
     "name": "stdout",
     "output_type": "stream",
     "text": [
      "['Order4_0.json', '88803330555', '000000000703010206703010206703010206703010206703010206703010206703010206', False, False, 3]\n"
     ]
    },
    {
     "name": "stderr",
     "output_type": "stream",
     "text": [
      "\r",
      "Processing files:  57%|█████▋    | 273/480 [08:38<31:28,  9.12s/file]"
     ]
    },
    {
     "name": "stdout",
     "output_type": "stream",
     "text": [
      "['Center9_0.json', '030803', '030003030003030803030003030003030003', False, False, 3]\n"
     ]
    },
    {
     "name": "stderr",
     "output_type": "stream",
     "text": [
      "\r",
      "Processing files:  57%|█████▋    | 274/480 [08:44<27:46,  8.09s/file]"
     ]
    },
    {
     "name": "stdout",
     "output_type": "stream",
     "text": [
      "['TopBottom3D5_1.json', '1111111', '444444444444', False, False, 3]\n"
     ]
    },
    {
     "name": "stderr",
     "output_type": "stream",
     "text": [
      "\r",
      "Processing files:  57%|█████▋    | 275/480 [09:04<39:49, 11.66s/file]"
     ]
    },
    {
     "name": "stdout",
     "output_type": "stream",
     "text": [
      "['TopBottom3D1_1.json', '00200020000020002000002000200008888888880088888888800888888888008888888880088888888800020002000', '0020002000002000200000200020000828882880082888288008288828800828882880082888288008288828800020002000', False, False, 3]\n"
     ]
    },
    {
     "name": "stderr",
     "output_type": "stream",
     "text": [
      "\r",
      "Processing files:  57%|█████▊    | 276/480 [09:30<54:11, 15.94s/file]"
     ]
    },
    {
     "name": "stdout",
     "output_type": "stream",
     "text": [
      "['TopBottom3D1_2.json', '044400444403333303333333330333333333033333333303333044400444400000034443000003444300000344430000034443', '0444000000344430000034443000003444300000344430000004440044400000033333000003333300000333330000033333', False, False, 3]\n"
     ]
    },
    {
     "name": "stderr",
     "output_type": "stream",
     "text": [
      "\r",
      "Processing files:  58%|█████▊    | 277/480 [09:41<49:12, 14.54s/file]"
     ]
    },
    {
     "name": "stdout",
     "output_type": "stream",
     "text": [
      "['TopBottom3D3_2.json', '9999999', '9000000000090000000000900000000009000000000090000000000900000000009000000000090000000000900000000009', False, False, 3]\n"
     ]
    },
    {
     "name": "stderr",
     "output_type": "stream",
     "text": [
      "\r",
      "Processing files:  58%|█████▊    | 278/480 [09:46<39:23, 11.70s/file]"
     ]
    },
    {
     "name": "stdout",
     "output_type": "stream",
     "text": [
      "['FilledNotFilled1_2.json', '9', '1', False, True, 3]\n"
     ]
    },
    {
     "name": "stderr",
     "output_type": "stream",
     "text": [
      "\r",
      "Processing files:  58%|█████▊    | 279/480 [09:50<31:44,  9.48s/file]"
     ]
    },
    {
     "name": "stdout",
     "output_type": "stream",
     "text": [
      "['ExtendToBoundary5_0.json', '70000', '700000007070000070007000700000707000000070000000707000007000700070000070700000007', False, False, 3]\n"
     ]
    },
    {
     "name": "stderr",
     "output_type": "stream",
     "text": [
      "\r",
      "Processing files:  58%|█████▊    | 280/480 [09:55<27:04,  8.12s/file]"
     ]
    },
    {
     "name": "stdout",
     "output_type": "stream",
     "text": [
      "['ExtendToBoundary5_1.json', '70000', '000000007000000070700000700070007000007070000000700000007070000070007000700000700', False, False, 3]\n"
     ]
    },
    {
     "name": "stderr",
     "output_type": "stream",
     "text": [
      "\r",
      "Processing files:  59%|█████▊    | 281/480 [10:15<38:48, 11.70s/file]"
     ]
    },
    {
     "name": "stdout",
     "output_type": "stream",
     "text": [
      "['CleanUp8_0.json', '3300030009330300000000220000600022009000000065006004405500000000007700060000476006004000660000000066', '3300000000330000000000220000000022000000000055000000005500000000007700000000770000000000660000000066', False, True, 3]\n"
     ]
    },
    {
     "name": "stderr",
     "output_type": "stream",
     "text": [
      "\r",
      "Processing files:  59%|█████▉    | 282/480 [10:20<31:40,  9.60s/file]"
     ]
    },
    {
     "name": "stdout",
     "output_type": "stream",
     "text": [
      "['CompleteShape3_0.json', '777777777', '0000000000000000000007777777700700000070070000007007000000700700000070070000007007000000700777777770', False, False, 3]\n"
     ]
    },
    {
     "name": "stderr",
     "output_type": "stream",
     "text": [
      "\r",
      "Processing files:  59%|█████▉    | 283/480 [10:33<35:15, 10.74s/file]"
     ]
    },
    {
     "name": "stdout",
     "output_type": "stream",
     "text": [
      "['CompleteShape4_0.json', '0333333333033333333333333333333333333333333333333333333333333333333333333333333333333333333', '0000000000000000000003000000300300000030030000003003000000300000000000000000000000000000000000000000', False, False, 3]\n"
     ]
    },
    {
     "name": "stderr",
     "output_type": "stream",
     "text": [
      "\r",
      "Processing files:  59%|█████▉    | 284/480 [10:49<39:28, 12.08s/file]"
     ]
    },
    {
     "name": "stdout",
     "output_type": "stream",
     "text": [
      "['CompleteShape8_0.json', '00000000000008880000', '0000000000000000000007070000000700000000077700000000000000000000000000000080800000008000000000888000', False, False, 3]\n"
     ]
    },
    {
     "name": "stderr",
     "output_type": "stream",
     "text": [
      "\r",
      "Processing files:  59%|█████▉    | 285/480 [11:02<40:49, 12.56s/file]"
     ]
    },
    {
     "name": "stdout",
     "output_type": "stream",
     "text": [
      "['CompleteShape8_1.json', '00000000000008880000', '0000000000000000000000300000000303000000003000008000000008080090000080090900000000900000000000000000', False, False, 3]\n"
     ]
    },
    {
     "name": "stderr",
     "output_type": "stream",
     "text": [
      "\r",
      "Processing files:  60%|█████▉    | 286/480 [11:23<48:42, 15.07s/file]"
     ]
    },
    {
     "name": "stdout",
     "output_type": "stream",
     "text": [
      "['HorizontalVertical10_0.json', '999999999900000000000000000000000000000000000000000000000000000000000033333000004444400000555550000011111000000000000000', '0000000008000000000800000000080000000008000000000833333000084444400008555550000811111000080000000008', False, False, 3]\n"
     ]
    },
    {
     "name": "stderr",
     "output_type": "stream",
     "text": [
      "\r",
      "Processing files:  60%|█████▉    | 287/480 [11:46<55:52, 17.37s/file]"
     ]
    },
    {
     "name": "stdout",
     "output_type": "stream",
     "text": [
      "['HorizontalVertical10_1.json', '0000000009', '8888888888000000000000000000000000000000000000000000023000000002300000000230000000000000000000000000', False, False, 3]\n"
     ]
    },
    {
     "name": "stderr",
     "output_type": "stream",
     "text": [
      "\r",
      "Processing files:  60%|██████    | 288/480 [12:21<1:12:30, 22.66s/file]"
     ]
    },
    {
     "name": "stdout",
     "output_type": "stream",
     "text": [
      "['HorizontalVertical10_2.json', '8888888888000000000000000000000078910000007891000000789100000078910000000000000000000000000000000000', '0000000008000000000800000000080000000008000000000800000000080044444448006666666800000000080000000008', False, True, 3]\n"
     ]
    },
    {
     "name": "stderr",
     "output_type": "stream",
     "text": [
      "\r",
      "Processing files:  60%|██████    | 289/480 [12:40<1:08:26, 21.50s/file]"
     ]
    },
    {
     "name": "stdout",
     "output_type": "stream",
     "text": [
      "['MoveToBoundary3_0.json', '0000000000000000000000000000000222000000020200000002220000000000000000000000000000000000000000000000', '0000000000000000000000000000000000000222000000020200000002220000000000000000000000000000000000000000', False, True, 3]\n"
     ]
    },
    {
     "name": "stderr",
     "output_type": "stream",
     "text": [
      "\r",
      "Processing files:  60%|██████    | 290/480 [12:54<1:01:32, 19.44s/file]"
     ]
    },
    {
     "name": "stdout",
     "output_type": "stream",
     "text": [
      "['MoveToBoundary3_1.json', '6660000000', '0000000000000000000000000000000000000222000000000200000002220000000000000000000000000000000000000000', False, False, 3]\n"
     ]
    },
    {
     "name": "stderr",
     "output_type": "stream",
     "text": [
      "\r",
      "Processing files:  61%|██████    | 291/480 [13:00<47:59, 15.23s/file]  "
     ]
    },
    {
     "name": "stdout",
     "output_type": "stream",
     "text": [
      "['MoveToBoundary3_2.json', '222222220', '0000000000000000000000222222220000000000000000000000000000000000022222000000000000000000000000000000', False, False, 3]\n"
     ]
    },
    {
     "name": "stderr",
     "output_type": "stream",
     "text": [
      "\r",
      "Processing files:  61%|██████    | 292/480 [13:10<43:08, 13.77s/file]"
     ]
    },
    {
     "name": "stdout",
     "output_type": "stream",
     "text": [
      "['MoveToBoundary4_0.json', '6666000000', '0000000000000000000000000000000060000000666000000000600000006060000000000000000000000000000000000000', False, False, 3]\n"
     ]
    },
    {
     "name": "stderr",
     "output_type": "stream",
     "text": [
      "\r",
      "Processing files:  61%|██████    | 293/480 [13:16<35:12, 11.30s/file]"
     ]
    },
    {
     "name": "stdout",
     "output_type": "stream",
     "text": [
      "['MoveToBoundary4_1.json', '666666666', '0000000000666600000000060000000006000000000600000000060000000666000000000000000000000000000000000000', False, False, 3]\n"
     ]
    },
    {
     "name": "stderr",
     "output_type": "stream",
     "text": [
      "\r",
      "Processing files:  61%|██████▏   | 294/480 [13:22<30:26,  9.82s/file]"
     ]
    },
    {
     "name": "stdout",
     "output_type": "stream",
     "text": [
      "['MoveToBoundary4_2.json', '666666666', '0000000000000000000000000000006666666660000000000060000000006000000000600000000060000000006000000000', False, False, 3]\n"
     ]
    },
    {
     "name": "stderr",
     "output_type": "stream",
     "text": [
      "\r",
      "Processing files:  61%|██████▏   | 295/480 [13:40<37:54, 12.30s/file]"
     ]
    },
    {
     "name": "stdout",
     "output_type": "stream",
     "text": [
      "['MoveToBoundary5_0.json', '000000000000000000000000000000000000000000000000000000000000000000000000000000000000000000', '0004000000000400000000040000000004000000004440000000000000000000000000000000000000000000000000000000', False, False, 3]\n"
     ]
    },
    {
     "name": "stderr",
     "output_type": "stream",
     "text": [
      "\r",
      "Processing files:  62%|██████▏   | 296/480 [15:39<2:15:39, 44.24s/file]"
     ]
    },
    {
     "name": "stdout",
     "output_type": "stream",
     "text": [
      "['MoveToBoundary5_1.json', '000000000000000000000000000000000000000000000000000000000000000000000000000000000000000000', '0000000000000000000000000200000000020000000002000022222200000000020000000002000000000200000000000000', False, False, 3]\n"
     ]
    },
    {
     "name": "stderr",
     "output_type": "stream",
     "text": [
      "\r",
      "Processing files:  62%|██████▏   | 297/480 [15:54<1:48:11, 35.48s/file]"
     ]
    },
    {
     "name": "stdout",
     "output_type": "stream",
     "text": [
      "['MoveToBoundary5_2.json', '00000000000088880000008000000000000000000000888800000000080000000008000000000000', '0000000000000000800000000088880000008000000000000000080000008888000000000800000000000000000000000000', False, False, 3]\n"
     ]
    },
    {
     "name": "stderr",
     "output_type": "stream",
     "text": [
      "\r",
      "Processing files:  62%|██████▏   | 298/480 [16:11<1:30:49, 29.94s/file]"
     ]
    },
    {
     "name": "stdout",
     "output_type": "stream",
     "text": [
      "['SameDifferent4_0.json', '000000333300001000000000000000000000000000000000000000000000077777700000000000000000000000', '0000000000000010000000010000000010000500010000500010000500000000500000000000000000000000000000000000', False, False, 3]\n"
     ]
    },
    {
     "name": "stderr",
     "output_type": "stream",
     "text": [
      "\r",
      "Processing files:  62%|██████▏   | 299/480 [16:24<1:15:25, 25.00s/file]"
     ]
    },
    {
     "name": "stdout",
     "output_type": "stream",
     "text": [
      "['SameDifferent4_1.json', '0000000000002000000000200000000000000000000070000000007000000000700000000070000000000000000000000000', '0000000000002000000000200000000000000000000070000000007000000000700000000070000000000000000000000000', True, True, 2]\n"
     ]
    },
    {
     "name": "stderr",
     "output_type": "stream",
     "text": [
      "\r",
      "Processing files:  62%|██████▎   | 300/480 [16:34<1:01:08, 20.38s/file]"
     ]
    },
    {
     "name": "stdout",
     "output_type": "stream",
     "text": [
      "['SameDifferent4_2.json', '3000400009', '3000400000300040000030004000003000000000300000000030000000003000000000300000000030000000003000000000', False, False, 3]\n"
     ]
    },
    {
     "name": "stderr",
     "output_type": "stream",
     "text": [
      "\r",
      "Processing files:  63%|██████▎   | 301/480 [16:55<1:01:49, 20.72s/file]"
     ]
    },
    {
     "name": "stdout",
     "output_type": "stream",
     "text": [
      "['Order2_1.json', '0111000000011100000000000111100000000000000000000000100000000010000000000000100000000000000000000000', '0000000000000000000000000000000000000000000000000000000000000001000000000100000001110000001111000000', False, True, 3]\n"
     ]
    },
    {
     "name": "stderr",
     "output_type": "stream",
     "text": [
      "\r",
      "Processing files:  63%|██████▎   | 302/480 [17:00<47:12, 15.92s/file]  "
     ]
    },
    {
     "name": "stdout",
     "output_type": "stream",
     "text": [
      "['TopBottom2D10_2.json', '1111111', '00000000000000000000000000000044400004440000110000011000', False, False, 3]\n"
     ]
    },
    {
     "name": "stderr",
     "output_type": "stream",
     "text": [
      "\r",
      "Processing files:  63%|██████▎   | 303/480 [17:14<45:32, 15.44s/file]"
     ]
    },
    {
     "name": "stdout",
     "output_type": "stream",
     "text": [
      "['TopBottom2D10_0.json', '00110000110000220000220000660000660000770000770000000000111100', '007700007700002200002200006600006600001100001100000000', False, False, 3]\n"
     ]
    },
    {
     "name": "stderr",
     "output_type": "stream",
     "text": [
      "\r",
      "Processing files:  63%|██████▎   | 304/480 [17:26<41:48, 14.25s/file]"
     ]
    },
    {
     "name": "stdout",
     "output_type": "stream",
     "text": [
      "['Order2_2.json', '00000055000', '000000000000000000000000000000000000000000000000500000000555000000055550000005555500000055555000000', False, False, 3]\n"
     ]
    },
    {
     "name": "stderr",
     "output_type": "stream",
     "text": [
      "\r",
      "Processing files:  64%|██████▎   | 305/480 [17:31<33:48, 11.59s/file]"
     ]
    },
    {
     "name": "stdout",
     "output_type": "stream",
     "text": [
      "['Count3_0.json', '3333', '33333', False, False, 3]\n"
     ]
    },
    {
     "name": "stderr",
     "output_type": "stream",
     "text": [
      "\r",
      "Processing files:  64%|██████▍   | 306/480 [17:33<25:07,  8.66s/file]"
     ]
    },
    {
     "name": "stdout",
     "output_type": "stream",
     "text": [
      "['Count4_0.json', '0000', '0000', True, True, 1]\n"
     ]
    },
    {
     "name": "stderr",
     "output_type": "stream",
     "text": [
      "\r",
      "Processing files:  64%|██████▍   | 307/480 [18:00<40:28, 14.04s/file]"
     ]
    },
    {
     "name": "stdout",
     "output_type": "stream",
     "text": [
      "['MoveToBoundary1_1.json', '000111020000110020000100020000110020000111020000110020000100020000110020000111020000110020000100020000110020000111020', '000011120000011020000010020000011020000011120000011020000010020000011020000011120', False, False, 3]\n"
     ]
    },
    {
     "name": "stderr",
     "output_type": "stream",
     "text": [
      "\r",
      "Processing files:  64%|██████▍   | 308/480 [18:10<37:16, 13.00s/file]"
     ]
    },
    {
     "name": "stdout",
     "output_type": "stream",
     "text": [
      "['MoveToBoundary1_2.json', '2222222', '000000000000000000000000000000000000000000000010001000101010101000100010222222222', False, False, 3]\n"
     ]
    },
    {
     "name": "stderr",
     "output_type": "stream",
     "text": [
      "\r",
      "Processing files:  64%|██████▍   | 309/480 [18:35<47:11, 16.56s/file]"
     ]
    },
    {
     "name": "stdout",
     "output_type": "stream",
     "text": [
      "['AboveBelow6_0.json', '00000000000000000000000033333302203333330330222222033000000003300000000330000000', '00000000000000000000000033333302203333330220222222022000000002200000000220000000', False, True, 3]\n"
     ]
    },
    {
     "name": "stderr",
     "output_type": "stream",
     "text": [
      "\r",
      "Processing files:  65%|██████▍   | 310/480 [18:48<43:30, 15.35s/file]"
     ]
    },
    {
     "name": "stdout",
     "output_type": "stream",
     "text": [
      "['TopBottom2D7_1.json', '', '4444', False, False, 3]\n"
     ]
    },
    {
     "name": "stderr",
     "output_type": "stream",
     "text": [
      "\r",
      "Processing files:  65%|██████▍   | 311/480 [18:53<34:35, 12.28s/file]"
     ]
    },
    {
     "name": "stdout",
     "output_type": "stream",
     "text": [
      "['TopBottom2D7_2.json', '3333333', '777777777777777', False, False, 3]\n"
     ]
    },
    {
     "name": "stderr",
     "output_type": "stream",
     "text": [
      "\r",
      "Processing files:  65%|██████▌   | 312/480 [18:59<29:10, 10.42s/file]"
     ]
    },
    {
     "name": "stdout",
     "output_type": "stream",
     "text": [
      "['CleanUp2_0.json', '1', '111111111111111111111111111111111111111111111111111111111111111111111111111111111111111111111111111111111111111111111111', False, False, 3]\n"
     ]
    },
    {
     "name": "stderr",
     "output_type": "stream",
     "text": [
      "\r",
      "Processing files:  65%|██████▌   | 313/480 [19:15<33:32, 12.05s/file]"
     ]
    },
    {
     "name": "stdout",
     "output_type": "stream",
     "text": [
      "['Copy7_1.json', '393300444400393000444003900004440030000000400000000000000000000000000000000000', '000000000000300000000400390000009400393000049400393300449400393000049400390000009400300000000400000000000000000000000000000000000000', False, False, 3]\n"
     ]
    },
    {
     "name": "stderr",
     "output_type": "stream",
     "text": [
      "\r",
      "Processing files:  65%|██████▌   | 314/480 [19:20<27:35,  9.97s/file]"
     ]
    },
    {
     "name": "stdout",
     "output_type": "stream",
     "text": [
      "['ExtractObjects3_2.json', '9999999', '999999999999900000000009900000000009900000000009900000000009900000000009900000000009900000000009900000000009900000000009900000000009999999999999', False, False, 3]\n"
     ]
    },
    {
     "name": "stderr",
     "output_type": "stream",
     "text": [
      "\r",
      "Processing files:  66%|██████▌   | 315/480 [19:29<26:56,  9.80s/file]"
     ]
    },
    {
     "name": "stdout",
     "output_type": "stream",
     "text": [
      "['ExtractObjects9_1.json', '8888333188888888', '10001111111101101110', False, False, 3]\n"
     ]
    },
    {
     "name": "stderr",
     "output_type": "stream",
     "text": [
      "\r",
      "Processing files:  66%|██████▌   | 316/480 [19:37<24:44,  9.05s/file]"
     ]
    },
    {
     "name": "stdout",
     "output_type": "stream",
     "text": [
      "['TopBottom3D5_0.json', '888666366', '4444044404444444', False, False, 3]\n"
     ]
    },
    {
     "name": "stderr",
     "output_type": "stream",
     "text": [
      "\r",
      "Processing files:  66%|██████▌   | 317/480 [19:57<33:48, 12.45s/file]"
     ]
    },
    {
     "name": "stdout",
     "output_type": "stream",
     "text": [
      "['CleanUp1_1.json', '88888899999988882899999988888899999988888899999988882899999988888899999901342341117223411821939', '888888999999888888999999888888999999', False, False, 3]\n"
     ]
    },
    {
     "name": "stderr",
     "output_type": "stream",
     "text": [
      "\r",
      "Processing files:  66%|██████▋   | 318/480 [20:02<27:50, 10.31s/file]"
     ]
    },
    {
     "name": "stdout",
     "output_type": "stream",
     "text": [
      "['ExtractObjects1_0.json', '8848', '88888880008000000800000080000008000', False, False, 3]\n"
     ]
    },
    {
     "name": "stderr",
     "output_type": "stream",
     "text": [
      "\r",
      "Processing files:  66%|██████▋   | 319/480 [20:10<25:45,  9.60s/file]"
     ]
    },
    {
     "name": "stdout",
     "output_type": "stream",
     "text": [
      "['ExtractObjects1_1.json', '333', '2222220002200022000222222', False, False, 3]\n"
     ]
    },
    {
     "name": "stderr",
     "output_type": "stream",
     "text": [
      "\r",
      "Processing files:  67%|██████▋   | 320/480 [20:16<22:20,  8.38s/file]"
     ]
    },
    {
     "name": "stdout",
     "output_type": "stream",
     "text": [
      "['ExtractObjects1_2.json', '773', '7777777', False, False, 3]\n"
     ]
    },
    {
     "name": "stderr",
     "output_type": "stream",
     "text": [
      "\r",
      "Processing files:  67%|██████▋   | 321/480 [20:25<22:56,  8.66s/file]"
     ]
    },
    {
     "name": "stdout",
     "output_type": "stream",
     "text": [
      "['AboveBelow4_1.json', '0033300000', '000034000000000000003333333333000000000000004444430000000000', False, False, 3]\n"
     ]
    },
    {
     "name": "stderr",
     "output_type": "stream",
     "text": [
      "\r",
      "Processing files:  67%|██████▋   | 322/480 [20:39<27:10, 10.32s/file]"
     ]
    },
    {
     "name": "stdout",
     "output_type": "stream",
     "text": [
      "['AboveBelow6_2.json', '000000000000000000000220002111000111100011110001111000111100011', '000000000000000000000220002122000212200021220002122000212200021', False, True, 3]\n"
     ]
    },
    {
     "name": "stderr",
     "output_type": "stream",
     "text": [
      "\r",
      "Processing files:  67%|██████▋   | 323/480 [20:54<30:08, 11.52s/file]"
     ]
    },
    {
     "name": "stdout",
     "output_type": "stream",
     "text": [
      "['TopBottom3D1_0.json', '000500000888888008888880055555500000000000000000000000000', '0000000000050000088588000885880000050000000000000000000000000000', False, False, 3]\n"
     ]
    },
    {
     "name": "stderr",
     "output_type": "stream",
     "text": [
      "\r",
      "Processing files:  68%|██████▊   | 324/480 [21:11<34:43, 13.36s/file]"
     ]
    },
    {
     "name": "stdout",
     "output_type": "stream",
     "text": [
      "['TopBottom3D3_0.json', '0000000000050000088588000885880000050000000000000000000000000000', '0000000000000000088888000888880000000000000000000000000000000000', False, True, 3]\n"
     ]
    },
    {
     "name": "stderr",
     "output_type": "stream",
     "text": [
      "\r",
      "Processing files:  68%|██████▊   | 325/480 [21:30<38:33, 14.93s/file]"
     ]
    },
    {
     "name": "stdout",
     "output_type": "stream",
     "text": [
      "['AboveBelow4_2.json', '06666666666066666666665555555555506666666666000000000000666666666606666666666555555555550666666666600000000000', '0000000000005666666666555555555550666666666500000000000', False, False, 3]\n"
     ]
    },
    {
     "name": "stderr",
     "output_type": "stream",
     "text": [
      "\r",
      "Processing files:  68%|██████▊   | 326/480 [21:47<39:58, 15.57s/file]"
     ]
    },
    {
     "name": "stdout",
     "output_type": "stream",
     "text": [
      "['ExtractObjects6_2.json', '99999999999', '2222222222222222', False, False, 3]\n"
     ]
    },
    {
     "name": "stderr",
     "output_type": "stream",
     "text": [
      "\r",
      "Processing files:  68%|██████▊   | 327/480 [21:53<32:28, 12.73s/file]"
     ]
    },
    {
     "name": "stdout",
     "output_type": "stream",
     "text": [
      "['TopBottom2D1_1.json', '2222', '4444444444', False, False, 3]\n"
     ]
    },
    {
     "name": "stderr",
     "output_type": "stream",
     "text": [
      "\r",
      "Processing files:  68%|██████▊   | 328/480 [22:17<40:36, 16.03s/file]"
     ]
    },
    {
     "name": "stdout",
     "output_type": "stream",
     "text": [
      "['Center4_2.json', '000000000000000800000000077770000000077770006600077770006600000004000000000000000000000022200000000022200000000002220000000000000000000', '0000000000000000000008000007777000000000777700000000077770006600007777000660000000000000000000000000000000002220000000000222000000000022200000000000000000000000000000000', False, False, 3]\n"
     ]
    },
    {
     "name": "stderr",
     "output_type": "stream",
     "text": [
      "\r",
      "Processing files:  69%|██████▊   | 329/480 [22:35<41:44, 16.59s/file]"
     ]
    },
    {
     "name": "stdout",
     "output_type": "stream",
     "text": [
      "['Count6_0.json', '8', '4440000', False, False, 3]\n"
     ]
    },
    {
     "name": "stderr",
     "output_type": "stream",
     "text": [
      "\r",
      "Processing files:  69%|██████▉   | 330/480 [22:41<33:32, 13.42s/file]"
     ]
    },
    {
     "name": "stdout",
     "output_type": "stream",
     "text": [
      "['ExtractObjects9_0.json', '97775', '77777770777000777777', False, False, 3]\n"
     ]
    },
    {
     "name": "stderr",
     "output_type": "stream",
     "text": [
      "\r",
      "Processing files:  69%|██████▉   | 331/480 [23:07<42:52, 17.27s/file]"
     ]
    },
    {
     "name": "stdout",
     "output_type": "stream",
     "text": [
      "['CompleteShape1_0.json', '000000000000000000000000020000000040400000040004000040000040020000000000400000400004000400000040400000000200000000000000', '000000000000000000000000020000000040400000040004000040000040020000000200400000400004000400000040400000000200000000000000', False, True, 3]\n"
     ]
    },
    {
     "name": "stderr",
     "output_type": "stream",
     "text": [
      "\r",
      "Processing files:  69%|██████▉   | 332/480 [23:14<34:48, 14.11s/file]"
     ]
    },
    {
     "name": "stdout",
     "output_type": "stream",
     "text": [
      "['FilledNotFilled2_0.json', '00000088800000005555', '000000000000000000', False, False, 3]\n"
     ]
    },
    {
     "name": "stderr",
     "output_type": "stream",
     "text": [
      "\r",
      "Processing files:  69%|██████▉   | 333/480 [23:28<34:38, 14.14s/file]"
     ]
    },
    {
     "name": "stdout",
     "output_type": "stream",
     "text": [
      "['TopBottom3D3_1.json', '0555000055500075557770555000055500000000000000000055500005550007555777055500000000000000000', '0000000000000000000007777777000000000000000000000', False, False, 3]\n"
     ]
    },
    {
     "name": "stderr",
     "output_type": "stream",
     "text": [
      "\r",
      "Processing files:  70%|██████▉   | 334/480 [23:34<28:34, 11.74s/file]"
     ]
    },
    {
     "name": "stdout",
     "output_type": "stream",
     "text": [
      "['Count7_0.json', '666', '222222', False, False, 3]\n"
     ]
    },
    {
     "name": "stderr",
     "output_type": "stream",
     "text": [
      "\r",
      "Processing files:  70%|██████▉   | 335/480 [23:41<24:52, 10.29s/file]"
     ]
    },
    {
     "name": "stdout",
     "output_type": "stream",
     "text": [
      "['TopBottom2D7_0.json', '2', '11', False, False, 3]\n"
     ]
    },
    {
     "name": "stderr",
     "output_type": "stream",
     "text": [
      "\r",
      "Processing files:  70%|███████   | 336/480 [23:48<22:18,  9.29s/file]"
     ]
    },
    {
     "name": "stdout",
     "output_type": "stream",
     "text": [
      "['Count8_0.json', '4', '22222', False, False, 3]\n"
     ]
    },
    {
     "name": "stderr",
     "output_type": "stream",
     "text": [
      "\r",
      "Processing files:  70%|███████   | 337/480 [23:57<21:49,  9.16s/file]"
     ]
    },
    {
     "name": "stdout",
     "output_type": "stream",
     "text": [
      "['MoveToBoundary1_0.json', '000020000020111120', '000020000020011120000020000020000020', False, False, 3]\n"
     ]
    },
    {
     "name": "stderr",
     "output_type": "stream",
     "text": [
      "\r",
      "Processing files:  70%|███████   | 338/480 [24:38<44:37, 18.86s/file]"
     ]
    },
    {
     "name": "stdout",
     "output_type": "stream",
     "text": [
      "['Center4_1.json', '000000000000000000000000111111100000000000000000000000000000006600000000006600000000000000000000444444000000400004000000444444000000000000000', '000000000000000000000000001111111100000000000000000000000000000000000000000000000000000000000000000444444000000400004000000444444000000000000000', False, False, 3]\n"
     ]
    },
    {
     "name": "stderr",
     "output_type": "stream",
     "text": [
      "\r",
      "Processing files:  71%|███████   | 339/480 [25:38<1:13:28, 31.27s/file]"
     ]
    },
    {
     "name": "stdout",
     "output_type": "stream",
     "text": [
      "['CompleteShape1_2.json', '0000000000000000000000022202220002220222000000000000022202220002220222000000000000022200000002220000', '0000000000000000000000022202220002220222000000000000022202220002220222000000000000022202220002220222', False, True, 3]\n"
     ]
    },
    {
     "name": "stderr",
     "output_type": "stream",
     "text": [
      "\r",
      "Processing files:  71%|███████   | 340/480 [25:46<56:41, 24.30s/file]  "
     ]
    },
    {
     "name": "stdout",
     "output_type": "stream",
     "text": [
      "['CompleteShape4_2.json', '055500', '000000005000000000005000000000000000', False, False, 3]\n"
     ]
    },
    {
     "name": "stderr",
     "output_type": "stream",
     "text": [
      "\r",
      "Processing files:  71%|███████   | 341/480 [26:04<51:18, 22.15s/file]"
     ]
    },
    {
     "name": "stdout",
     "output_type": "stream",
     "text": [
      "['ExtendToBoundary1_0.json', '0666666606666666066666660666666606666666066666660000000000000000000000000000000000000000', '000000000666666606666666066666660666666606666666066666660000600000006000000060000000600000006000', False, False, 3]\n"
     ]
    },
    {
     "name": "stderr",
     "output_type": "stream",
     "text": [
      "\r",
      "Processing files:  71%|███████▏  | 342/480 [26:50<1:07:35, 29.39s/file]"
     ]
    },
    {
     "name": "stdout",
     "output_type": "stream",
     "text": [
      "['InsideOutside9_2.json', '0000040000002000020002000000200020400200020000002000240002000200040020002000020040004000000000000400', '0000000000002000020002000000200020400200020000002000240002000200040020002000020000000000000000000000', False, True, 3]\n"
     ]
    },
    {
     "name": "stderr",
     "output_type": "stream",
     "text": [
      "\r",
      "Processing files:  71%|███████▏  | 343/480 [27:50<1:28:18, 38.67s/file]"
     ]
    },
    {
     "name": "stdout",
     "output_type": "stream",
     "text": [
      "['InsideOutside9_1.json', '200002000000000000000000000000000000000000000000000000000000000000000000000000000000000000000000000000000000000000000000000000000000000000000000000000000000000000000000000000000000000000000000000000000000000000000000000000000000000000000000000000000000000000000000000000000000000000000000000000000000000000000000000000000000000000000000000000000000000000000000000000000000000000000000000000000000000000000000000000000000000000000000000000000000000000000000000000000000000000000000000000000000000000000000000000000000000000000000000000000000000000000000000000000000000000000000000000000000000000000000000000000000000000000000000000000000000000000000000000000000000000000000000000000000000000000000000000000000000000000000000000000000000000000000000000000000000000000000000000000000000000000000000000000000000000000000000000000000000000000000000000000000000000000000000000000000000000000000000000000000000000000000000000000000000000000000000000000000000000000000000000000000000000000000000000000000000000000000000000000000', '200002000000000000200402000000000000200002000000000000200402000000000000200002000000000000000000000000', False, False, 3]\n"
     ]
    },
    {
     "name": "stderr",
     "output_type": "stream",
     "text": [
      "\r",
      "Processing files:  72%|███████▏  | 344/480 [28:55<1:45:22, 46.49s/file]"
     ]
    },
    {
     "name": "stdout",
     "output_type": "stream",
     "text": [
      "['Count7_1.json', '333333333333', '22', False, False, 3]\n"
     ]
    },
    {
     "name": "stderr",
     "output_type": "stream",
     "text": [
      "\r",
      "Processing files:  72%|███████▏  | 345/480 [29:00<1:16:26, 33.97s/file]"
     ]
    },
    {
     "name": "stdout",
     "output_type": "stream",
     "text": [
      "['FilledNotFilled2_1.json', '5555555', '0000000000000000000000000000', False, False, 3]\n"
     ]
    },
    {
     "name": "stderr",
     "output_type": "stream",
     "text": [
      "\r",
      "Processing files:  72%|███████▏  | 346/480 [29:01<54:13, 24.28s/file]  "
     ]
    },
    {
     "name": "stdout",
     "output_type": "stream",
     "text": [
      "['Count9_2.json', '0000', '0000', True, True, 1]\n"
     ]
    },
    {
     "name": "stderr",
     "output_type": "stream",
     "text": [
      "\r",
      "Processing files:  72%|███████▏  | 347/480 [29:07<41:42, 18.81s/file]"
     ]
    },
    {
     "name": "stdout",
     "output_type": "stream",
     "text": [
      "['Count8_1.json', '8', '2', False, True, 3]\n"
     ]
    },
    {
     "name": "stderr",
     "output_type": "stream",
     "text": [
      "\r",
      "Processing files:  72%|███████▎  | 348/480 [29:32<44:54, 20.41s/file]"
     ]
    },
    {
     "name": "stdout",
     "output_type": "stream",
     "text": [
      "['FilledNotFilled6_0.json', '00000000000002222222000002000002000002000002000002222222000000000000000000777777700000066666660000006666666000000666666600000000000000000', '000000000000022222220000022222220000022222220000022222220000000000000000000000077770006660070070006060070070006660077770000000000000000000000000', False, False, 3]\n"
     ]
    },
    {
     "name": "stderr",
     "output_type": "stream",
     "text": [
      "\r",
      "Processing files:  73%|███████▎  | 349/480 [29:39<35:52, 16.43s/file]"
     ]
    },
    {
     "name": "stdout",
     "output_type": "stream",
     "text": [
      "['ExtendToBoundary5_2.json', '700', '700070007', False, False, 3]\n"
     ]
    },
    {
     "name": "stderr",
     "output_type": "stream",
     "text": [
      "\r",
      "Processing files:  73%|███████▎  | 350/480 [29:55<35:45, 16.50s/file]"
     ]
    },
    {
     "name": "stdout",
     "output_type": "stream",
     "text": [
      "['CleanUp2_1.json', '000990000000077777777900777777700007797777000077777970900000000000', '000000000000077777770000777777700007777777000077777770000000000000', False, True, 3]\n"
     ]
    },
    {
     "name": "stderr",
     "output_type": "stream",
     "text": [
      "\r",
      "Processing files:  73%|███████▎  | 351/480 [30:25<44:05, 20.51s/file]"
     ]
    },
    {
     "name": "stdout",
     "output_type": "stream",
     "text": [
      "['ExtractObjects10_0.json', '8888777778888', '7777777777774777777777777', False, False, 3]\n"
     ]
    },
    {
     "name": "stderr",
     "output_type": "stream",
     "text": [
      "\r",
      "Processing files:  73%|███████▎  | 352/480 [30:43<42:15, 19.80s/file]"
     ]
    },
    {
     "name": "stdout",
     "output_type": "stream",
     "text": [
      "['InsideOutside9_0.json', '222222004040400000222222000000000400000000040000000400000000000000044000004440000000', '222222004040400000222222000000000000000000000000000000000000000000000000000000000000', False, True, 3]\n"
     ]
    },
    {
     "name": "stderr",
     "output_type": "stream",
     "text": [
      "\r",
      "Processing files:  74%|███████▎  | 353/480 [30:53<35:43, 16.88s/file]"
     ]
    },
    {
     "name": "stdout",
     "output_type": "stream",
     "text": [
      "['InsideOutside1_0.json', '000033030', '0000', False, False, 3]\n"
     ]
    },
    {
     "name": "stderr",
     "output_type": "stream",
     "text": [
      "\r",
      "Processing files:  74%|███████▍  | 354/480 [31:04<31:35, 15.04s/file]"
     ]
    },
    {
     "name": "stdout",
     "output_type": "stream",
     "text": [
      "['ExtractObjects7_2.json', '9999999999', '666666666666666666666666', False, False, 3]\n"
     ]
    },
    {
     "name": "stderr",
     "output_type": "stream",
     "text": [
      "\r",
      "Processing files:  74%|███████▍  | 355/480 [31:12<27:01, 12.97s/file]"
     ]
    },
    {
     "name": "stdout",
     "output_type": "stream",
     "text": [
      "['InsideOutside1_1.json', '113', '00000', False, False, 3]\n"
     ]
    },
    {
     "name": "stderr",
     "output_type": "stream",
     "text": [
      "\r",
      "Processing files:  74%|███████▍  | 356/480 [31:20<23:45, 11.50s/file]"
     ]
    },
    {
     "name": "stdout",
     "output_type": "stream",
     "text": [
      "['Count1_0.json', '333333', '400000', False, True, 3]\n"
     ]
    },
    {
     "name": "stderr",
     "output_type": "stream",
     "text": [
      "\r",
      "Processing files:  74%|███████▍  | 357/480 [31:40<28:49, 14.06s/file]"
     ]
    },
    {
     "name": "stdout",
     "output_type": "stream",
     "text": [
      "['Center1_0.json', '0000000000088800000008080888880888080008000008000800000800080000088888000000000000000000000000000000', '0000000000000000000000000222220000002000200000020202000000200020000002222200000000000000000000000000000000000000000000000', False, False, 3]\n"
     ]
    },
    {
     "name": "stderr",
     "output_type": "stream",
     "text": [
      "\r",
      "Processing files:  75%|███████▍  | 358/480 [31:47<24:12, 11.90s/file]"
     ]
    },
    {
     "name": "stdout",
     "output_type": "stream",
     "text": [
      "['TopBottom3D5_2.json', '666636666', '300000030000003000000300000030000003', False, False, 3]\n"
     ]
    },
    {
     "name": "stderr",
     "output_type": "stream",
     "text": [
      "\r",
      "Processing files:  75%|███████▍  | 359/480 [31:53<20:06,  9.97s/file]"
     ]
    },
    {
     "name": "stdout",
     "output_type": "stream",
     "text": [
      "['FilledNotFilled3_0.json', '85858585', '33', False, False, 3]\n"
     ]
    },
    {
     "name": "stderr",
     "output_type": "stream",
     "text": [
      "\r",
      "Processing files:  75%|███████▌  | 360/480 [32:11<24:59, 12.50s/file]"
     ]
    },
    {
     "name": "stdout",
     "output_type": "stream",
     "text": [
      "['CompleteShape1_1.json', '000000000000000000005555500005500500005555500005555500005555500000000000000000000', '000000000000000000003333300003333300003333300003333300003333300000000000000000000', False, True, 3]\n"
     ]
    },
    {
     "name": "stderr",
     "output_type": "stream",
     "text": [
      "\r",
      "Processing files:  75%|███████▌  | 361/480 [32:24<25:10, 12.69s/file]"
     ]
    },
    {
     "name": "stdout",
     "output_type": "stream",
     "text": [
      "['ExtendToBoundary1_1.json', '000000000000', '00000000000000111111101111100011100000100000010000001000000100000010000001000', False, False, 3]\n"
     ]
    },
    {
     "name": "stderr",
     "output_type": "stream",
     "text": [
      "\r",
      "Processing files:  75%|███████▌  | 362/480 [32:40<26:47, 13.62s/file]"
     ]
    },
    {
     "name": "stdout",
     "output_type": "stream",
     "text": [
      "['Copy7_0.json', '111111111112221111111111100000000007777777777777777777777777', '111111111112221111111111100000000007777777777722277777777777', False, True, 3]\n"
     ]
    },
    {
     "name": "stderr",
     "output_type": "stream",
     "text": [
      "\r",
      "Processing files:  76%|███████▌  | 363/480 [33:00<30:19, 15.55s/file]"
     ]
    },
    {
     "name": "stdout",
     "output_type": "stream",
     "text": [
      "['Copy7_2.json', '877780200028777802000287778020002877780200028777802000288888022222', '888880222228777802777287778027772877780277728777802777288888022222', False, True, 3]\n"
     ]
    },
    {
     "name": "stderr",
     "output_type": "stream",
     "text": [
      "\r",
      "Processing files:  76%|███████▌  | 364/480 [33:06<24:18, 12.57s/file]"
     ]
    },
    {
     "name": "stdout",
     "output_type": "stream",
     "text": [
      "['Count1_1.json', '4446666', '444400', False, False, 3]\n"
     ]
    },
    {
     "name": "stderr",
     "output_type": "stream",
     "text": [
      "\r",
      "Processing files:  76%|███████▌  | 365/480 [33:13<20:58, 10.94s/file]"
     ]
    },
    {
     "name": "stdout",
     "output_type": "stream",
     "text": [
      "['FilledNotFilled1_0.json', '0', '3', False, True, 3]\n"
     ]
    },
    {
     "name": "stderr",
     "output_type": "stream",
     "text": [
      "\r",
      "Processing files:  76%|███████▋  | 366/480 [33:19<17:52,  9.41s/file]"
     ]
    },
    {
     "name": "stdout",
     "output_type": "stream",
     "text": [
      "['FilledNotFilled2_2.json', '111111110', '00000000', False, False, 3]\n"
     ]
    },
    {
     "name": "stderr",
     "output_type": "stream",
     "text": [
      "\r",
      "Processing files:  76%|███████▋  | 367/480 [33:24<15:31,  8.24s/file]"
     ]
    },
    {
     "name": "stdout",
     "output_type": "stream",
     "text": [
      "['ExtractObjects9_2.json', '99998', '00800000880000888888808800000080000', False, False, 3]\n"
     ]
    },
    {
     "name": "stderr",
     "output_type": "stream",
     "text": [
      "\r",
      "Processing files:  77%|███████▋  | 368/480 [33:53<26:56, 14.44s/file]"
     ]
    },
    {
     "name": "stdout",
     "output_type": "stream",
     "text": [
      "['TopBottom3D2_2.json', '000000000000060600005556555555000606000055565555550006060000000000000000000000000000000000000000000000060600005556555555000606000055565555550006060000000000000000000000000000000000', '000000000000060000005556555555000600000055565555550006000000000000000000000000000000000000', False, False, 3]\n"
     ]
    },
    {
     "name": "stderr",
     "output_type": "stream",
     "text": [
      "\r",
      "Processing files:  77%|███████▋  | 369/480 [34:02<23:21, 12.63s/file]"
     ]
    },
    {
     "name": "stdout",
     "output_type": "stream",
     "text": [
      "['ExtractObjects6_0.json', '1111112333', '88885555', False, False, 3]\n"
     ]
    },
    {
     "name": "stderr",
     "output_type": "stream",
     "text": [
      "\r",
      "Processing files:  77%|███████▋  | 370/480 [34:07<19:02, 10.38s/file]"
     ]
    },
    {
     "name": "stdout",
     "output_type": "stream",
     "text": [
      "['TopBottom2D1_0.json', '444', '444444', False, False, 3]\n"
     ]
    },
    {
     "name": "stderr",
     "output_type": "stream",
     "text": [
      "\r",
      "Processing files:  77%|███████▋  | 371/480 [34:13<16:44,  9.21s/file]"
     ]
    },
    {
     "name": "stdout",
     "output_type": "stream",
     "text": [
      "['CleanUp2_2.json', '', '000000000000000000000000000000000000', False, False, 3]\n"
     ]
    },
    {
     "name": "stderr",
     "output_type": "stream",
     "text": [
      "\r",
      "Processing files:  78%|███████▊  | 372/480 [34:18<14:24,  8.01s/file]"
     ]
    },
    {
     "name": "stdout",
     "output_type": "stream",
     "text": [
      "['FilledNotFilled3_1.json', '1', '2222222222', False, False, 3]\n"
     ]
    },
    {
     "name": "stderr",
     "output_type": "stream",
     "text": [
      "\r",
      "Processing files:  78%|███████▊  | 373/480 [34:24<13:07,  7.36s/file]"
     ]
    },
    {
     "name": "stdout",
     "output_type": "stream",
     "text": [
      "['FilledNotFilled3_2.json', '1', '4444444444444444444444444444444444444444444444444', False, False, 3]\n"
     ]
    },
    {
     "name": "stderr",
     "output_type": "stream",
     "text": [
      "\r",
      "Processing files:  78%|███████▊  | 374/480 [34:39<16:41,  9.44s/file]"
     ]
    },
    {
     "name": "stdout",
     "output_type": "stream",
     "text": [
      "['ExtractObjects7_1.json', '111155333311115530031001553003100155333311115500000000550000', '11113333100130031001300311113333', False, False, 3]\n"
     ]
    },
    {
     "name": "stderr",
     "output_type": "stream",
     "text": [
      "\r",
      "Processing files:  78%|███████▊  | 375/480 [34:53<19:17, 11.03s/file]"
     ]
    },
    {
     "name": "stdout",
     "output_type": "stream",
     "text": [
      "['TopBottom3D2_1.json', '000000000003300000999999999999999999003300000003300000003300000003300000000000000', '000000000000000000999999999999999999000000000000000000000000000000000000000000000', False, True, 3]\n"
     ]
    },
    {
     "name": "stderr",
     "output_type": "stream",
     "text": [
      "\r",
      "Processing files:  78%|███████▊  | 376/480 [34:58<15:59,  9.22s/file]"
     ]
    },
    {
     "name": "stdout",
     "output_type": "stream",
     "text": [
      "['TopBottom2D1_2.json', '33333', '333303333', False, False, 3]\n"
     ]
    },
    {
     "name": "stderr",
     "output_type": "stream",
     "text": [
      "\r",
      "Processing files:  79%|███████▊  | 377/480 [35:05<14:34,  8.49s/file]"
     ]
    },
    {
     "name": "stdout",
     "output_type": "stream",
     "text": [
      "['ExtendToBoundary1_2.json', '01212121212121212', '000000000040000000044444444040000000000000000000000000', False, False, 3]\n"
     ]
    },
    {
     "name": "stderr",
     "output_type": "stream",
     "text": [
      "\r",
      "Processing files:  79%|███████▉  | 378/480 [35:16<15:51,  9.33s/file]"
     ]
    },
    {
     "name": "stdout",
     "output_type": "stream",
     "text": [
      "['AboveBelow5_0.json', '00060005', '0006000000060000000600000005000660050006600500065005000550050005', False, False, 3]\n"
     ]
    },
    {
     "name": "stderr",
     "output_type": "stream",
     "text": [
      "\r",
      "Processing files:  79%|███████▉  | 379/480 [35:29<17:24, 10.34s/file]"
     ]
    },
    {
     "name": "stdout",
     "output_type": "stream",
     "text": [
      "['Center10_1.json', '055000050000001000000500005500000000000055', '055000050000000000000100000000000005000055000000', False, False, 3]\n"
     ]
    },
    {
     "name": "stderr",
     "output_type": "stream",
     "text": [
      "\r",
      "Processing files:  79%|███████▉  | 380/480 [35:35<14:54,  8.95s/file]"
     ]
    },
    {
     "name": "stdout",
     "output_type": "stream",
     "text": [
      "['Count1_2.json', '333333333', '444000', False, False, 3]\n"
     ]
    },
    {
     "name": "stderr",
     "output_type": "stream",
     "text": [
      "\r",
      "Processing files:  79%|███████▉  | 381/480 [35:50<17:43, 10.74s/file]"
     ]
    },
    {
     "name": "stdout",
     "output_type": "stream",
     "text": [
      "['AboveBelow5_1.json', '188888188888182888188888188888188888288888188888188288', '000000282200282200282200288200288200288200288200888200888200', False, False, 3]\n"
     ]
    },
    {
     "name": "stderr",
     "output_type": "stream",
     "text": [
      "\r",
      "Processing files:  80%|███████▉  | 382/480 [35:56<15:09,  9.28s/file]"
     ]
    },
    {
     "name": "stdout",
     "output_type": "stream",
     "text": [
      "['Count9_0.json', '8888', '00', False, False, 3]\n"
     ]
    },
    {
     "name": "stderr",
     "output_type": "stream",
     "text": [
      "\r",
      "Processing files:  80%|███████▉  | 383/480 [36:05<15:13,  9.41s/file]"
     ]
    },
    {
     "name": "stdout",
     "output_type": "stream",
     "text": [
      "['Count9_1.json', '7000700070000000000000000000', '0', False, False, 3]\n"
     ]
    },
    {
     "name": "stderr",
     "output_type": "stream",
     "text": [
      "\r",
      "Processing files:  80%|████████  | 384/480 [36:31<23:00, 14.38s/file]"
     ]
    },
    {
     "name": "stdout",
     "output_type": "stream",
     "text": [
      "['FilledNotFilled6_1.json', '0000880000000800800000800008000800000080888888888833333333333333333333033333330000333333000003333000123456708', '0000880000000888800000888888000888888880888888888833333333333000000003030000003000300003000003333000', False, False, 3]\n"
     ]
    },
    {
     "name": "stderr",
     "output_type": "stream",
     "text": [
      "\r",
      "Processing files:  80%|████████  | 385/480 [36:40<20:08, 12.72s/file]"
     ]
    },
    {
     "name": "stdout",
     "output_type": "stream",
     "text": [
      "['ExtractObjects7_0.json', '111111111122222888882222200000', '77772222', False, False, 3]\n"
     ]
    },
    {
     "name": "stderr",
     "output_type": "stream",
     "text": [
      "\r",
      "Processing files:  80%|████████  | 386/480 [37:00<23:10, 14.80s/file]"
     ]
    },
    {
     "name": "stdout",
     "output_type": "stream",
     "text": [
      "['Order3_1.json', '4444440444444888888044444444444404444444444440888884444444044444444444404444448888880444444444444044444444444408888844444440444444', '000000000000044444404444444444440888888444444044444488888404444444444440444444', False, False, 3]\n"
     ]
    },
    {
     "name": "stderr",
     "output_type": "stream",
     "text": [
      "\r",
      "Processing files:  81%|████████  | 387/480 [37:20<25:17, 16.32s/file]"
     ]
    },
    {
     "name": "stdout",
     "output_type": "stream",
     "text": [
      "['Order3_2.json', '2202202202200220220220020002022022002002002002200200220220220220022022022022002202202200200020220220020020020022002002202202202200', '000000000000022022022022002202202200200220220020020022020020002002202202202200', False, False, 3]\n"
     ]
    },
    {
     "name": "stderr",
     "output_type": "stream",
     "text": [
      "\r",
      "Processing files:  81%|████████  | 388/480 [37:30<22:24, 14.62s/file]"
     ]
    },
    {
     "name": "stdout",
     "output_type": "stream",
     "text": [
      "['Center10_0.json', '055050', '000000000000055000051500005500000000', False, False, 3]\n"
     ]
    },
    {
     "name": "stderr",
     "output_type": "stream",
     "text": [
      "\r",
      "Processing files:  81%|████████  | 389/480 [39:19<1:04:54, 42.80s/file]"
     ]
    },
    {
     "name": "stdout",
     "output_type": "stream",
     "text": [
      "['Center10_2.json', '550000', '000055000005000100050000055000000000', False, False, 3]\n"
     ]
    },
    {
     "name": "stderr",
     "output_type": "stream",
     "text": [
      "\r",
      "Processing files:  81%|████████▏ | 390/480 [39:30<50:00, 33.34s/file]  "
     ]
    },
    {
     "name": "stdout",
     "output_type": "stream",
     "text": [
      "['ExtractObjects8_2.json', '55055555555', '050555555555555555', False, False, 3]\n"
     ]
    },
    {
     "name": "stderr",
     "output_type": "stream",
     "text": [
      "\r",
      "Processing files:  81%|████████▏ | 391/480 [39:37<37:51, 25.53s/file]"
     ]
    },
    {
     "name": "stdout",
     "output_type": "stream",
     "text": [
      "['ExtractObjects6_1.json', '02222222', '770001000770011100770111110771111111', False, False, 3]\n"
     ]
    },
    {
     "name": "stderr",
     "output_type": "stream",
     "text": [
      "\r",
      "Processing files:  82%|████████▏ | 392/480 [39:47<30:16, 20.64s/file]"
     ]
    },
    {
     "name": "stdout",
     "output_type": "stream",
     "text": [
      "['ExtractObjects10_2.json', '55551115555111555511155551915555191555111155511115551111', '111111111191191111111111', False, False, 3]\n"
     ]
    },
    {
     "name": "stderr",
     "output_type": "stream",
     "text": [
      "\r",
      "Processing files:  82%|████████▏ | 393/480 [39:53<23:53, 16.47s/file]"
     ]
    },
    {
     "name": "stdout",
     "output_type": "stream",
     "text": [
      "['InsideOutside7_0.json', '82', '1113', False, False, 3]\n"
     ]
    },
    {
     "name": "stderr",
     "output_type": "stream",
     "text": [
      "\r",
      "Processing files:  82%|████████▏ | 394/480 [40:02<20:04, 14.01s/file]"
     ]
    },
    {
     "name": "stdout",
     "output_type": "stream",
     "text": [
      "['InsideOutside7_1.json', '53', '11113333', False, False, 3]\n"
     ]
    },
    {
     "name": "stderr",
     "output_type": "stream",
     "text": [
      "\r",
      "Processing files:  82%|████████▏ | 395/480 [40:08<16:33, 11.68s/file]"
     ]
    },
    {
     "name": "stdout",
     "output_type": "stream",
     "text": [
      "['InsideOutside7_2.json', '63', '1', False, False, 3]\n"
     ]
    },
    {
     "name": "stderr",
     "output_type": "stream",
     "text": [
      "\r",
      "Processing files:  82%|████████▎ | 396/480 [40:16<14:40, 10.48s/file]"
     ]
    },
    {
     "name": "stdout",
     "output_type": "stream",
     "text": [
      "['AboveBelow5_2.json', '999999999999', '111111111111111111111111111111111111111111111111', False, False, 3]\n"
     ]
    },
    {
     "name": "stderr",
     "output_type": "stream",
     "text": [
      "\r",
      "Processing files:  83%|████████▎ | 397/480 [40:23<13:22,  9.66s/file]"
     ]
    },
    {
     "name": "stdout",
     "output_type": "stream",
     "text": [
      "['Count10_1.json', '0003000300030003', '00', False, False, 3]\n"
     ]
    },
    {
     "name": "stderr",
     "output_type": "stream",
     "text": [
      "\r",
      "Processing files:  83%|████████▎ | 398/480 [40:37<14:49, 10.85s/file]"
     ]
    },
    {
     "name": "stdout",
     "output_type": "stream",
     "text": [
      "['Order3_0.json', '11111111151101101105100110110110051011011111111115', '000000000000000000000011011051015110110110511105105101111011011051', False, False, 3]\n"
     ]
    },
    {
     "name": "stderr",
     "output_type": "stream",
     "text": [
      "\r",
      "Processing files:  83%|████████▎ | 399/480 [40:52<16:11, 11.99s/file]"
     ]
    },
    {
     "name": "stdout",
     "output_type": "stream",
     "text": [
      "['TopBottom3D2_0.json', '0101002010100155555530101002010100155555530101002', '0000001000000155555510000001000000155555510000001', False, True, 3]\n"
     ]
    },
    {
     "name": "stderr",
     "output_type": "stream",
     "text": [
      "\r",
      "Processing files:  83%|████████▎ | 400/480 [40:58<13:43, 10.30s/file]"
     ]
    },
    {
     "name": "stdout",
     "output_type": "stream",
     "text": [
      "['Count3_1.json', '5', '33', False, False, 3]\n"
     ]
    },
    {
     "name": "stderr",
     "output_type": "stream",
     "text": [
      "\r",
      "Processing files:  84%|████████▎ | 401/480 [41:07<13:04,  9.93s/file]"
     ]
    },
    {
     "name": "stdout",
     "output_type": "stream",
     "text": [
      "['ExtendToBoundary4_0.json', '006077', '000000000000006000006000006777006000', False, False, 3]\n"
     ]
    },
    {
     "name": "stderr",
     "output_type": "stream",
     "text": [
      "\r",
      "Processing files:  84%|████████▍ | 402/480 [41:23<15:21, 11.81s/file]"
     ]
    },
    {
     "name": "stdout",
     "output_type": "stream",
     "text": [
      "['ExtendToBoundary4_1.json', '000800000000033333000000000000000000000800000000033333000000000000000000', '000800000800033333000000000000000000', False, False, 3]\n"
     ]
    },
    {
     "name": "stderr",
     "output_type": "stream",
     "text": [
      "\r",
      "Processing files:  84%|████████▍ | 403/480 [41:34<14:38, 11.41s/file]"
     ]
    },
    {
     "name": "stdout",
     "output_type": "stream",
     "text": [
      "['ExtendToBoundary4_2.json', '280800080800080080008000080080800800', '200008020080002800008000080000800000', False, True, 3]\n"
     ]
    },
    {
     "name": "stderr",
     "output_type": "stream",
     "text": [
      "\r",
      "Processing files:  84%|████████▍ | 404/480 [41:41<13:02, 10.29s/file]"
     ]
    },
    {
     "name": "stdout",
     "output_type": "stream",
     "text": [
      "['MoveToBoundary6_0.json', '100000', '000000000000000000000000000001000000', False, False, 3]\n"
     ]
    },
    {
     "name": "stderr",
     "output_type": "stream",
     "text": [
      "\r",
      "Processing files:  84%|████████▍ | 405/480 [41:50<12:10,  9.74s/file]"
     ]
    },
    {
     "name": "stdout",
     "output_type": "stream",
     "text": [
      "['MoveToBoundary6_1.json', '410000', '010000000000000000000000000000000000', False, False, 3]\n"
     ]
    },
    {
     "name": "stderr",
     "output_type": "stream",
     "text": [
      "\r",
      "Processing files:  85%|████████▍ | 406/480 [42:02<13:01, 10.56s/file]"
     ]
    },
    {
     "name": "stdout",
     "output_type": "stream",
     "text": [
      "['MoveToBoundary6_2.json', '666666000000900000000000000000000000000090', '000000000000000009000000000000000000', False, False, 3]\n"
     ]
    },
    {
     "name": "stderr",
     "output_type": "stream",
     "text": [
      "\r",
      "Processing files:  85%|████████▍ | 407/480 [42:11<12:02,  9.90s/file]"
     ]
    },
    {
     "name": "stdout",
     "output_type": "stream",
     "text": [
      "['TopBottom2D9_0.json', '987654', '900550990055099005009900900990990099', False, False, 3]\n"
     ]
    },
    {
     "name": "stderr",
     "output_type": "stream",
     "text": [
      "\r",
      "Processing files:  85%|████████▌ | 408/480 [42:18<10:56,  9.12s/file]"
     ]
    },
    {
     "name": "stdout",
     "output_type": "stream",
     "text": [
      "['TopBottom2D9_1.json', '777770', '000555555500500007007777777000000077', False, False, 3]\n"
     ]
    },
    {
     "name": "stderr",
     "output_type": "stream",
     "text": [
      "\r",
      "Processing files:  85%|████████▌ | 409/480 [42:23<09:28,  8.01s/file]"
     ]
    },
    {
     "name": "stdout",
     "output_type": "stream",
     "text": [
      "['TopBottom2D9_2.json', '111111', '005058555058000058555558000008888888', False, False, 3]\n"
     ]
    },
    {
     "name": "stderr",
     "output_type": "stream",
     "text": [
      "\r",
      "Processing files:  85%|████████▌ | 410/480 [42:33<09:56,  8.52s/file]"
     ]
    },
    {
     "name": "stdout",
     "output_type": "stream",
     "text": [
      "['TopBottom3D8_0.json', '090001090000090000333333090000090001', '090000090000090000393333090000090000', False, True, 3]\n"
     ]
    },
    {
     "name": "stderr",
     "output_type": "stream",
     "text": [
      "\r",
      "Processing files:  86%|████████▌ | 411/480 [42:46<11:10,  9.71s/file]"
     ]
    },
    {
     "name": "stdout",
     "output_type": "stream",
     "text": [
      "['TopBottom3D8_1.json', '040000888888040000040000747777040000040000888888040000040000747777', '040000848888040000040000777777040000', False, False, 3]\n"
     ]
    },
    {
     "name": "stderr",
     "output_type": "stream",
     "text": [
      "\r",
      "Processing files:  86%|████████▌ | 412/480 [43:06<14:45, 13.02s/file]"
     ]
    },
    {
     "name": "stdout",
     "output_type": "stream",
     "text": [
      "['TopBottom3D8_2.json', '053000350000030000053000050300050030053000350000030000053000050300050030', '050000350000050000053000050300050030', False, False, 3]\n"
     ]
    },
    {
     "name": "stderr",
     "output_type": "stream",
     "text": [
      "\r",
      "Processing files:  86%|████████▌ | 413/480 [43:19<14:24, 12.91s/file]"
     ]
    },
    {
     "name": "stdout",
     "output_type": "stream",
     "text": [
      "['CompleteShape2_2.json', '333333', '0000000060000000006066666666660000000060000000006000000000600000000060000000006000000000600000000060', False, False, 3]\n"
     ]
    },
    {
     "name": "stderr",
     "output_type": "stream",
     "text": [
      "\r",
      "Processing files:  86%|████████▋ | 414/480 [43:25<11:47, 10.72s/file]"
     ]
    },
    {
     "name": "stdout",
     "output_type": "stream",
     "text": [
      "['InsideOutside1_2.json', '5', '0', False, True, 3]\n"
     ]
    },
    {
     "name": "stderr",
     "output_type": "stream",
     "text": [
      "\r",
      "Processing files:  86%|████████▋ | 415/480 [43:29<09:34,  8.84s/file]"
     ]
    },
    {
     "name": "stdout",
     "output_type": "stream",
     "text": [
      "['Count4_1.json', '99999', '0', False, False, 3]\n"
     ]
    },
    {
     "name": "stderr",
     "output_type": "stream",
     "text": [
      "\r",
      "Processing files:  87%|████████▋ | 416/480 [43:44<11:15, 10.56s/file]"
     ]
    },
    {
     "name": "stdout",
     "output_type": "stream",
     "text": [
      "['ExtractObjects8_1.json', '111111111111111111111111111111111111111111111111111111111111111111111111111111111111111111111111111', '11111111', False, False, 3]\n"
     ]
    },
    {
     "name": "stderr",
     "output_type": "stream",
     "text": [
      "\r",
      "Processing files:  87%|████████▋ | 417/480 [43:52<10:29,  9.99s/file]"
     ]
    },
    {
     "name": "stdout",
     "output_type": "stream",
     "text": [
      "['Count4_2.json', '666666', '000', False, False, 3]\n"
     ]
    },
    {
     "name": "stderr",
     "output_type": "stream",
     "text": [
      "\r",
      "Processing files:  87%|████████▋ | 418/480 [44:00<09:37,  9.32s/file]"
     ]
    },
    {
     "name": "stdout",
     "output_type": "stream",
     "text": [
      "['Center4_0.json', '000033030004033', '0000000033333003000300300030030003003333300000000', False, False, 3]\n"
     ]
    },
    {
     "name": "stderr",
     "output_type": "stream",
     "text": [
      "\r",
      "Processing files:  87%|████████▋ | 419/480 [44:05<08:06,  7.97s/file]"
     ]
    },
    {
     "name": "stdout",
     "output_type": "stream",
     "text": [
      "['ExtractObjects8_0.json', '66666666', '066660666666066660', False, False, 3]\n"
     ]
    },
    {
     "name": "stderr",
     "output_type": "stream",
     "text": [
      "\r",
      "Processing files:  88%|████████▊ | 420/480 [44:12<07:49,  7.83s/file]"
     ]
    },
    {
     "name": "stdout",
     "output_type": "stream",
     "text": [
      "['Count6_1.json', '4', '4444000', False, False, 3]\n"
     ]
    },
    {
     "name": "stderr",
     "output_type": "stream",
     "text": [
      "\r",
      "Processing files:  88%|████████▊ | 421/480 [44:19<07:14,  7.37s/file]"
     ]
    },
    {
     "name": "stdout",
     "output_type": "stream",
     "text": [
      "['Count10_0.json', '6000000', '0000', False, False, 3]\n"
     ]
    },
    {
     "name": "stderr",
     "output_type": "stream",
     "text": [
      "\r",
      "Processing files:  88%|████████▊ | 422/480 [44:26<07:01,  7.27s/file]"
     ]
    },
    {
     "name": "stdout",
     "output_type": "stream",
     "text": [
      "['ExtractObjects10_1.json', '6666444', '616661661', False, False, 3]\n"
     ]
    },
    {
     "name": "stderr",
     "output_type": "stream",
     "text": [
      "\r",
      "Processing files:  88%|████████▊ | 423/480 [44:31<06:14,  6.57s/file]"
     ]
    },
    {
     "name": "stdout",
     "output_type": "stream",
     "text": [
      "['Count3_2.json', '6', '3', False, True, 3]\n"
     ]
    },
    {
     "name": "stderr",
     "output_type": "stream",
     "text": [
      "\r",
      "Processing files:  88%|████████▊ | 424/480 [44:43<07:53,  8.45s/file]"
     ]
    },
    {
     "name": "stdout",
     "output_type": "stream",
     "text": [
      "['CompleteShape2_0.json', '000200000002000000020000888888800020000000200000002000000020000888888800020000', '0002000000020000000200000002000000020000000200008888888800020000', False, False, 3]\n"
     ]
    },
    {
     "name": "stderr",
     "output_type": "stream",
     "text": [
      "\r",
      "Processing files:  89%|████████▊ | 425/480 [44:46<06:10,  6.73s/file]"
     ]
    },
    {
     "name": "stdout",
     "output_type": "stream",
     "text": [
      "['Order8_1.json', '7164', '7164', True, True, 1]\n"
     ]
    },
    {
     "name": "stderr",
     "output_type": "stream",
     "text": [
      "\r",
      "Processing files:  89%|████████▉ | 426/480 [44:58<07:27,  8.28s/file]"
     ]
    },
    {
     "name": "stdout",
     "output_type": "stream",
     "text": [
      "['Order9_0.json', '000000000000000333333333333000333333000333000333333333', '000000000000000333333333333000333333333000333333000333', False, True, 3]\n"
     ]
    },
    {
     "name": "stderr",
     "output_type": "stream",
     "text": [
      "\r",
      "Processing files:  89%|████████▉ | 427/480 [45:08<07:41,  8.71s/file]"
     ]
    },
    {
     "name": "stdout",
     "output_type": "stream",
     "text": [
      "['Order9_1.json', '000000000000000000333', '000000000000000000000333333333333333000333333333000333', False, False, 3]\n"
     ]
    },
    {
     "name": "stderr",
     "output_type": "stream",
     "text": [
      "\r",
      "Processing files:  89%|████████▉ | 428/480 [45:25<09:50, 11.36s/file]"
     ]
    },
    {
     "name": "stdout",
     "output_type": "stream",
     "text": [
      "['Order9_2.json', '000000333333333000333000333333333333333000333333333333333333333', '000000333333333333333000333333333333000333333333000333', False, False, 3]\n"
     ]
    },
    {
     "name": "stderr",
     "output_type": "stream",
     "text": [
      "\r",
      "Processing files:  89%|████████▉ | 429/480 [45:34<08:51, 10.43s/file]"
     ]
    },
    {
     "name": "stdout",
     "output_type": "stream",
     "text": [
      "['TopBottom2D6_2.json', '8', '222222200002200002200002222222', False, False, 3]\n"
     ]
    },
    {
     "name": "stderr",
     "output_type": "stream",
     "text": [
      "\r",
      "Processing files:  90%|████████▉ | 430/480 [45:45<08:50, 10.62s/file]"
     ]
    },
    {
     "name": "stdout",
     "output_type": "stream",
     "text": [
      "['CompleteShape2_1.json', '900400000000000400909090000400000000', '000400000400000400999999000400000400', False, True, 3]\n"
     ]
    },
    {
     "name": "stderr",
     "output_type": "stream",
     "text": [
      "\r",
      "Processing files:  90%|████████▉ | 431/480 [45:52<08:00,  9.80s/file]"
     ]
    },
    {
     "name": "stdout",
     "output_type": "stream",
     "text": [
      "['Count10_2.json', '7777777', '0', False, False, 3]\n"
     ]
    },
    {
     "name": "stderr",
     "output_type": "stream",
     "text": [
      "\r",
      "Processing files:  90%|█████████ | 432/480 [46:14<10:35, 13.24s/file]"
     ]
    },
    {
     "name": "stdout",
     "output_type": "stream",
     "text": [
      "['CleanUp10_2.json', '00000000000200000000002000000000020200000000200000022222222200002000000000000000', '000000020000200000200000020002000000002020000000000200000000002020000000020002000000200000200000000000020000000000002000000000000200000000000020', False, False, 3]\n"
     ]
    },
    {
     "name": "stderr",
     "output_type": "stream",
     "text": [
      "\r",
      "Processing files:  90%|█████████ | 433/480 [46:41<13:36, 17.36s/file]"
     ]
    },
    {
     "name": "stdout",
     "output_type": "stream",
     "text": [
      "['CleanUp9_2.json', '000000000000011111000000010002002000210022000000010001002000021111000000000000000000000002021111020000020001000200010001000000010001000002021112', '000000000000011111000000010001000000010001000000010001000000011111000000000000000000000000011111000000010001000000010001000000010001000000011111', False, True, 3]\n"
     ]
    },
    {
     "name": "stderr",
     "output_type": "stream",
     "text": [
      "\r",
      "Processing files:  90%|█████████ | 434/480 [46:50<11:31, 15.04s/file]"
     ]
    },
    {
     "name": "stdout",
     "output_type": "stream",
     "text": [
      "['TopBottom2D2_0.json', '8888', '777777777', False, False, 3]\n"
     ]
    },
    {
     "name": "stderr",
     "output_type": "stream",
     "text": [
      "\r",
      "Processing files:  91%|█████████ | 435/480 [46:57<09:24, 12.55s/file]"
     ]
    },
    {
     "name": "stdout",
     "output_type": "stream",
     "text": [
      "['TopBottom2D6_0.json', '333', '6666', False, False, 3]\n"
     ]
    },
    {
     "name": "stderr",
     "output_type": "stream",
     "text": [
      "\r",
      "Processing files:  91%|█████████ | 436/480 [47:02<07:33, 10.30s/file]"
     ]
    },
    {
     "name": "stdout",
     "output_type": "stream",
     "text": [
      "['Order8_0.json', '831', '87315', False, False, 3]\n"
     ]
    },
    {
     "name": "stderr",
     "output_type": "stream",
     "text": [
      "\r",
      "Processing files:  91%|█████████ | 437/480 [47:08<06:21,  8.88s/file]"
     ]
    },
    {
     "name": "stdout",
     "output_type": "stream",
     "text": [
      "['Order8_2.json', '24103', '2438249', False, False, 3]\n"
     ]
    },
    {
     "name": "stderr",
     "output_type": "stream",
     "text": [
      "\r",
      "Processing files:  91%|█████████▏| 438/480 [47:15<05:47,  8.28s/file]"
     ]
    },
    {
     "name": "stdout",
     "output_type": "stream",
     "text": [
      "['Count6_2.json', '3', '4400000', False, False, 3]\n"
     ]
    },
    {
     "name": "stderr",
     "output_type": "stream",
     "text": [
      "\r",
      "Processing files:  91%|█████████▏| 439/480 [47:22<05:29,  8.04s/file]"
     ]
    },
    {
     "name": "stdout",
     "output_type": "stream",
     "text": [
      "['Count7_2.json', '989999998', '2', False, False, 3]\n"
     ]
    },
    {
     "name": "stderr",
     "output_type": "stream",
     "text": [
      "\r",
      "Processing files:  92%|█████████▏| 440/480 [47:31<05:26,  8.17s/file]"
     ]
    },
    {
     "name": "stdout",
     "output_type": "stream",
     "text": [
      "['Count8_2.json', '4', '22', False, False, 3]\n"
     ]
    },
    {
     "name": "stderr",
     "output_type": "stream",
     "text": [
      "\r",
      "Processing files:  92%|█████████▏| 441/480 [47:42<05:59,  9.21s/file]"
     ]
    },
    {
     "name": "stdout",
     "output_type": "stream",
     "text": [
      "['Copy6_2.json', '4444444444000004444444444000004444444444', '4444404444444444044444000000000004444404444444444044444000000000004444404444444444044444', False, False, 3]\n"
     ]
    },
    {
     "name": "stderr",
     "output_type": "stream",
     "text": [
      "\r",
      "Processing files:  92%|█████████▏| 442/480 [47:57<06:57, 10.99s/file]"
     ]
    },
    {
     "name": "stdout",
     "output_type": "stream",
     "text": [
      "['Copy6_1.json', '070717070000050565050000010131010131070717070000050565050000010131010', '07000707170717070007000000000500050565056505000500000000010001013101310100010', False, False, 3]\n"
     ]
    },
    {
     "name": "stderr",
     "output_type": "stream",
     "text": [
      "\r",
      "Processing files:  92%|█████████▏| 443/480 [48:22<09:13, 14.95s/file]"
     ]
    },
    {
     "name": "stdout",
     "output_type": "stream",
     "text": [
      "['Copy6_0.json', '666601111644601331644601331666601111666601111644601331644601331666601111111101331111101331111101331666601111644601331644601331666601111666601111644601331644601331666601111111101331111101331111101331', '666601111644601331644601331666601111000000000666601111644601331644601331666601111', False, False, 3]\n"
     ]
    },
    {
     "name": "stderr",
     "output_type": "stream",
     "text": [
      "\r",
      "Processing files:  92%|█████████▎| 444/480 [48:31<07:54, 13.18s/file]"
     ]
    },
    {
     "name": "stdout",
     "output_type": "stream",
     "text": [
      "['TopBottom2D6_1.json', '3330', '30003000300030003333', False, False, 3]\n"
     ]
    },
    {
     "name": "stderr",
     "output_type": "stream",
     "text": [
      "\r",
      "Processing files:  93%|█████████▎| 445/480 [48:50<08:46, 15.05s/file]"
     ]
    },
    {
     "name": "stdout",
     "output_type": "stream",
     "text": [
      "['CompleteShape5_1.json', '030330000033044030000003303300000000000003000000003303000000000330003000000000430003000000', '4300000000330340430000033033000000000000430000000033034000000003300034000000003300430000000033000000', False, False, 3]\n"
     ]
    },
    {
     "name": "stderr",
     "output_type": "stream",
     "text": [
      "\r",
      "Processing files:  93%|█████████▎| 446/480 [48:58<07:22, 13.02s/file]"
     ]
    },
    {
     "name": "stdout",
     "output_type": "stream",
     "text": [
      "['CompleteShape5_2.json', '44444444', '4300000034440000004400034034004304404400440000000000034004304304400440440000000000340000000044000000', False, False, 3]\n"
     ]
    },
    {
     "name": "stderr",
     "output_type": "stream",
     "text": [
      "\r",
      "Processing files:  93%|█████████▎| 447/480 [49:46<12:55, 23.50s/file]"
     ]
    },
    {
     "name": "stdout",
     "output_type": "stream",
     "text": [
      "['CompleteShape6_2.json', '666666666666666666666660000006666000000666600000066660000006666000000666600000066660000006666000000666666666666666666666666666666666666666666666666666666666666666666666666666666666666666666666699666666666666666666660000006660000006660000006660000006660000006660000006660000006162366666666666666666660000066600000666000006660000066600000666000006469666666666666666666660000006660000006660000006660000006660000006660000006660000006', '6666666666666666666666666666666666666666666666666666666666666666666666666666666666666666666666666666', False, False, 3]\n"
     ]
    },
    {
     "name": "stderr",
     "output_type": "stream",
     "text": [
      "\r",
      "Processing files:  93%|█████████▎| 448/480 [50:16<13:32, 25.39s/file]"
     ]
    },
    {
     "name": "stdout",
     "output_type": "stream",
     "text": [
      "['CompleteShape7_1.json', '0000000000000000000007700007000000000000000000000000007700000000000000000000000007770007000000000000902', '0000000000000000000007777777000777777700077777770007777777000777777700077777770007777777000000000000', False, False, 3]\n"
     ]
    },
    {
     "name": "stderr",
     "output_type": "stream",
     "text": [
      "\r",
      "Processing files:  94%|█████████▎| 449/480 [50:26<10:45, 20.83s/file]"
     ]
    },
    {
     "name": "stdout",
     "output_type": "stream",
     "text": [
      "['TopBottom2D2_2.json', '3333333', '666666666666666666666', False, False, 3]\n"
     ]
    },
    {
     "name": "stderr",
     "output_type": "stream",
     "text": [
      "\r",
      "Processing files:  94%|█████████▍| 450/480 [50:40<09:19, 18.65s/file]"
     ]
    },
    {
     "name": "stdout",
     "output_type": "stream",
     "text": [
      "['Copy5_1.json', '99991999902299099990999909999199990229909999099990', '999909999999909999922909229999909999999909999', False, False, 3]\n"
     ]
    },
    {
     "name": "stderr",
     "output_type": "stream",
     "text": [
      "\r",
      "Processing files:  94%|█████████▍| 451/480 [50:56<08:42, 18.01s/file]"
     ]
    },
    {
     "name": "stdout",
     "output_type": "stream",
     "text": [
      "['CompleteShape7_2.json', '000000000000000000000000001110000000010000000000001000000000000000000000', '00000000000000000000000000111100001111000011110000111100000000000000000000000000', False, False, 3]\n"
     ]
    },
    {
     "name": "stderr",
     "output_type": "stream",
     "text": [
      "\r",
      "Processing files:  94%|█████████▍| 452/480 [51:06<07:16, 15.58s/file]"
     ]
    },
    {
     "name": "stdout",
     "output_type": "stream",
     "text": [
      "['Copy5_0.json', '77707370777010001000', '777737777000777737777000777737777', False, False, 3]\n"
     ]
    },
    {
     "name": "stderr",
     "output_type": "stream",
     "text": [
      "\r",
      "Processing files:  94%|█████████▍| 453/480 [51:23<07:12, 16.02s/file]"
     ]
    },
    {
     "name": "stdout",
     "output_type": "stream",
     "text": [
      "['Copy5_2.json', '11116111110011116111110016161161616111116111110016', '111161111000111161111', False, False, 3]\n"
     ]
    },
    {
     "name": "stderr",
     "output_type": "stream",
     "text": [
      "\r",
      "Processing files:  95%|█████████▍| 454/480 [51:34<06:15, 14.44s/file]"
     ]
    },
    {
     "name": "stdout",
     "output_type": "stream",
     "text": [
      "['Count5_0.json', '3330', '0000', False, True, 3]\n"
     ]
    },
    {
     "name": "stderr",
     "output_type": "stream",
     "text": [
      "\r",
      "Processing files:  95%|█████████▍| 455/480 [51:43<05:18, 12.74s/file]"
     ]
    },
    {
     "name": "stdout",
     "output_type": "stream",
     "text": [
      "['Count5_1.json', '333330', '000', False, False, 3]\n"
     ]
    },
    {
     "name": "stderr",
     "output_type": "stream",
     "text": [
      "\r",
      "Processing files:  95%|█████████▌| 456/480 [51:49<04:22, 10.92s/file]"
     ]
    },
    {
     "name": "stdout",
     "output_type": "stream",
     "text": [
      "['Count5_2.json', '111100', '00000000', False, False, 3]\n"
     ]
    },
    {
     "name": "stderr",
     "output_type": "stream",
     "text": [
      "\r",
      "Processing files:  95%|█████████▌| 457/480 [52:09<05:08, 13.42s/file]"
     ]
    },
    {
     "name": "stdout",
     "output_type": "stream",
     "text": [
      "['CleanUp10_1.json', '222222000200020200022202000200200202002202200200020202200202', '222222000200000200000200000200000200000200000200000200000200', False, True, 3]\n"
     ]
    },
    {
     "name": "stderr",
     "output_type": "stream",
     "text": [
      "\r",
      "Processing files:  95%|█████████▌| 458/480 [52:20<04:38, 12.68s/file]"
     ]
    },
    {
     "name": "stdout",
     "output_type": "stream",
     "text": [
      "['TopBottom3D6_1.json', '55544445', '33333333', False, True, 3]\n"
     ]
    },
    {
     "name": "stderr",
     "output_type": "stream",
     "text": [
      "\r",
      "Processing files:  96%|█████████▌| 459/480 [52:31<04:20, 12.41s/file]"
     ]
    },
    {
     "name": "stdout",
     "output_type": "stream",
     "text": [
      "['TopBottom3D6_2.json', '5522112200', '555555555', False, False, 3]\n"
     ]
    },
    {
     "name": "stderr",
     "output_type": "stream",
     "text": [
      "\r",
      "Processing files:  96%|█████████▌| 460/480 [52:43<04:04, 12.23s/file]"
     ]
    },
    {
     "name": "stdout",
     "output_type": "stream",
     "text": [
      "['Center7_1.json', '5555500000', '555', False, False, 3]\n"
     ]
    },
    {
     "name": "stderr",
     "output_type": "stream",
     "text": [
      "\r",
      "Processing files:  96%|█████████▌| 461/480 [52:55<03:50, 12.13s/file]"
     ]
    },
    {
     "name": "stdout",
     "output_type": "stream",
     "text": [
      "['TopBottom2D2_1.json', '222044', '888', False, False, 3]\n"
     ]
    },
    {
     "name": "stderr",
     "output_type": "stream",
     "text": [
      "\r",
      "Processing files:  96%|█████████▋| 462/480 [53:04<03:21, 11.22s/file]"
     ]
    },
    {
     "name": "stdout",
     "output_type": "stream",
     "text": [
      "['TopBottom3D6_0.json', '88888', '4444444444', False, False, 3]\n"
     ]
    },
    {
     "name": "stderr",
     "output_type": "stream",
     "text": [
      "\r",
      "Processing files:  96%|█████████▋| 463/480 [53:32<04:32, 16.04s/file]"
     ]
    },
    {
     "name": "stdout",
     "output_type": "stream",
     "text": [
      "['CleanUp10_0.json', '00020020020220022022222200220020202200020020020220022022222200220020202212023142250220210211220032122220040220220050', '002000002000002000222222002000002000', False, False, 3]\n"
     ]
    },
    {
     "name": "stderr",
     "output_type": "stream",
     "text": [
      "\r",
      "Processing files:  97%|█████████▋| 464/480 [53:51<04:34, 17.14s/file]"
     ]
    },
    {
     "name": "stdout",
     "output_type": "stream",
     "text": [
      "['CleanUp9_0.json', '000809844740400040470070990799448490000809844740400040470070990799448490000809844740400040470070990799', '000000444440400040400040400040444440', False, False, 3]\n"
     ]
    },
    {
     "name": "stderr",
     "output_type": "stream",
     "text": [
      "\r",
      "Processing files:  97%|█████████▋| 465/480 [54:07<04:12, 16.83s/file]"
     ]
    },
    {
     "name": "stdout",
     "output_type": "stream",
     "text": [
      "['CleanUp9_1.json', '343436300003400044300003204003322434333436000003000044000003044003322434355555', '333333300003300003300003300003333333', False, False, 3]\n"
     ]
    },
    {
     "name": "stderr",
     "output_type": "stream",
     "text": [
      "\r",
      "Processing files:  97%|█████████▋| 466/480 [54:22<03:47, 16.23s/file]"
     ]
    },
    {
     "name": "stdout",
     "output_type": "stream",
     "text": [
      "['CompleteShape5_0.json', '340340340340430000000330040033000003340340340340430000000330040033000003', '340000330340000330440000340033000043', False, False, 3]\n"
     ]
    },
    {
     "name": "stderr",
     "output_type": "stream",
     "text": [
      "\r",
      "Processing files:  97%|█████████▋| 467/480 [54:34<03:14, 15.00s/file]"
     ]
    },
    {
     "name": "stdout",
     "output_type": "stream",
     "text": [
      "['CompleteShape6_0.json', '555500005500005500000000007777007777', '555500555500555500000000007770007770', False, True, 3]\n"
     ]
    },
    {
     "name": "stderr",
     "output_type": "stream",
     "text": [
      "\r",
      "Processing files:  98%|█████████▊| 468/480 [54:46<02:46, 13.91s/file]"
     ]
    },
    {
     "name": "stdout",
     "output_type": "stream",
     "text": [
      "['CompleteShape6_1.json', '00000000026000002600088800000022000022', '000000088800088800088800000022000022', False, False, 3]\n"
     ]
    },
    {
     "name": "stderr",
     "output_type": "stream",
     "text": [
      "\r",
      "Processing files:  98%|█████████▊| 469/480 [54:58<02:27, 13.39s/file]"
     ]
    },
    {
     "name": "stdout",
     "output_type": "stream",
     "text": [
      "['CompleteShape7_0.json', '00000006666606666006666000666600666690', '000000066666066666066666066666066666', False, False, 3]\n"
     ]
    },
    {
     "name": "stderr",
     "output_type": "stream",
     "text": [
      "\r",
      "Processing files:  98%|█████████▊| 470/480 [55:18<02:33, 15.37s/file]"
     ]
    },
    {
     "name": "stdout",
     "output_type": "stream",
     "text": [
      "['HorizontalVertical9_0.json', '6080006080006080006080000099990033336012000601200060120006012000001515151500444460120006012000601200060120000015151515004444', '404000404000404000404000007777007777', False, False, 3]\n"
     ]
    },
    {
     "name": "stderr",
     "output_type": "stream",
     "text": [
      "\r",
      "Processing files:  98%|█████████▊| 471/480 [55:28<02:04, 13.83s/file]"
     ]
    },
    {
     "name": "stdout",
     "output_type": "stream",
     "text": [
      "['HorizontalVertical9_1.json', '777777333338333338333338333338077777', '777700400004400004400004400004007777', False, True, 3]\n"
     ]
    },
    {
     "name": "stderr",
     "output_type": "stream",
     "text": [
      "\r",
      "Processing files:  98%|█████████▊| 472/480 [55:39<01:44, 13.07s/file]"
     ]
    },
    {
     "name": "stdout",
     "output_type": "stream",
     "text": [
      "['HorizontalVertical9_2.json', '685555680000680000680000066666000000687777', '407777440000440000440000077777000000', False, False, 3]\n"
     ]
    },
    {
     "name": "stderr",
     "output_type": "stream",
     "text": [
      "\r",
      "Processing files:  99%|█████████▊| 473/480 [55:45<01:16, 10.96s/file]"
     ]
    },
    {
     "name": "stdout",
     "output_type": "stream",
     "text": [
      "['Center7_2.json', '55555', '55555', True, True, 1]\n"
     ]
    },
    {
     "name": "stderr",
     "output_type": "stream",
     "text": [
      "\r",
      "Processing files:  99%|█████████▉| 474/480 [55:59<01:10, 11.78s/file]"
     ]
    },
    {
     "name": "stdout",
     "output_type": "stream",
     "text": [
      "['Copy1_2.json', '222222222222211112211112222222222222', '222222222222222222222222211112211112211112211112222222222222222222222222', False, False, 3]\n"
     ]
    },
    {
     "name": "stderr",
     "output_type": "stream",
     "text": [
      "\r",
      "Processing files:  99%|█████████▉| 475/480 [56:04<00:48,  9.77s/file]"
     ]
    },
    {
     "name": "stdout",
     "output_type": "stream",
     "text": [
      "['Center7_0.json', '666', '66', False, False, 3]\n"
     ]
    },
    {
     "name": "stderr",
     "output_type": "stream",
     "text": [
      "\r",
      "Processing files:  99%|█████████▉| 476/480 [56:15<00:40, 10.01s/file]"
     ]
    },
    {
     "name": "stdout",
     "output_type": "stream",
     "text": [
      "['Copy1_0.json', '808000000800080000000080808008808000000800080000000080808008', '808808000000080080000000808808', False, False, 3]\n"
     ]
    },
    {
     "name": "stderr",
     "output_type": "stream",
     "text": [
      "\r",
      "Processing files:  99%|█████████▉| 477/480 [56:24<00:29,  9.84s/file]"
     ]
    },
    {
     "name": "stdout",
     "output_type": "stream",
     "text": [
      "['Copy1_1.json', '666666666666666666666666666666666666666666', '66666666666666666666', False, False, 3]\n"
     ]
    },
    {
     "name": "stderr",
     "output_type": "stream",
     "text": [
      "\r",
      "Processing files: 100%|█████████▉| 478/480 [56:26<00:14,  7.39s/file]"
     ]
    },
    {
     "name": "stdout",
     "output_type": "stream",
     "text": [
      "['Center2_1.json', '6', '6', True, True, 1]\n"
     ]
    },
    {
     "name": "stderr",
     "output_type": "stream",
     "text": [
      "\r",
      "Processing files: 100%|█████████▉| 479/480 [56:29<00:05,  5.99s/file]"
     ]
    },
    {
     "name": "stdout",
     "output_type": "stream",
     "text": [
      "['Center2_2.json', '0', '0', True, True, 2]\n"
     ]
    },
    {
     "name": "stderr",
     "output_type": "stream",
     "text": [
      "Processing files: 100%|██████████| 480/480 [56:32<00:00,  7.07s/file]"
     ]
    },
    {
     "name": "stdout",
     "output_type": "stream",
     "text": [
      "['Center2_0.json', '5', '5', True, True, 2]\n"
     ]
    },
    {
     "name": "stderr",
     "output_type": "stream",
     "text": [
      "\n"
     ]
    }
   ],
   "source": [
    "for f in tqdm(sorted_filenames, desc=\"Processing files\", unit=\"file\"):\n",
    "    \n",
    "    # Check if the file has already been processed\n",
    "    if f in processed_files:\n",
    "        print(f\"{f} already processed. Skipping...\")\n",
    "        continue\n",
    "    \n",
    "    ignore_file = False\n",
    "    \n",
    "    prompt_path = os.path.join('New_Prompts/', f)\n",
    "    correctanswer_path = os.path.join('New_Correct_Answers/', f)\n",
    "\n",
    "    with open(prompt_path, 'r') as file:\n",
    "        prompt_content = file.read()\n",
    "\n",
    "    with open(correctanswer_path, 'r') as file:\n",
    "        answer_content = file.read()\n",
    "\n",
    "    prompt = ' \"\"\" ' + prompt_content + ' \"\"\" '\n",
    "    \n",
    "    trial = 0\n",
    "\n",
    "    for i in range(3):\n",
    "        encoded_prompt = tokenizer.encode(prompt)\n",
    "        \n",
    "        if len(encoded_prompt) < 3810:\n",
    "            trial += 1\n",
    "\n",
    "            output_generator = replicate.run(\n",
    "                \"meta/llama-2-13b-chat:f4e2de70d66816a838a89eeeb621910adffb0dd0baba3976c96980970978018d\",\n",
    "                input={\n",
    "                    \"prompt\": prompt,\n",
    "                    \"system_prompt\": system_prompt,\n",
    "                    \"max_new_tokens\": 2048,\n",
    "                    \"temperature\": 0.5\n",
    "                }\n",
    "            )\n",
    "\n",
    "            output_list = list(output_generator)\n",
    "            output_string = \" \".join(output_list)\n",
    "            result = output_string\n",
    "\n",
    "            model_answer = keep_numbers_only(result)\n",
    "            correct_answer = keep_numbers_only(answer_content)\n",
    "\n",
    "            if model_answer == correct_answer:\n",
    "                break\n",
    "\n",
    "            prompt_content = new_content(result, prompt_content)\n",
    "            prompt = ' \"\"\" ' + prompt_content + ' \"\"\" '\n",
    "        else:\n",
    "            if trial == 0:\n",
    "                ignore_file = True\n",
    "                break\n",
    "            else:\n",
    "                break\n",
    "    \n",
    "    if ignore_file:\n",
    "        Comparison.append([f, \"NA\", \"NA\", \"NA\", \"NA\", trial])\n",
    "    else:\n",
    "        Comparison.append([f, model_answer, correct_answer, model_answer == correct_answer,\n",
    "                           len(model_answer) == len(correct_answer), trial])\n",
    "\n",
    "    processed_files.add(f)\n",
    "    print(Comparison[-1])\n"
   ]
  },
  {
   "cell_type": "code",
   "execution_count": 28,
   "id": "d0sFLgv8SznK",
   "metadata": {
    "colab": {
     "base_uri": "https://localhost:8080/"
    },
    "id": "d0sFLgv8SznK",
    "outputId": "6d51b6a6-0ea4-4cb8-eaba-ae93b80ed8e6"
   },
   "outputs": [
    {
     "data": {
      "text/plain": [
       "[['ExtendToBoundary2_1.json',\n",
       "  '55555555555555555555555555555',\n",
       "  '555555555555555555550000003000000000055055555355555550005505000030000005000550500553555500500055050050300050050005505005555555005000550500000000000500055055555555555550005500000000000000000550000000000000000055555555555555555555',\n",
       "  False,\n",
       "  False,\n",
       "  1],\n",
       " ['AboveBelow2_2.json',\n",
       "  '000000000000000055550000000000555500000000000000',\n",
       "  '00000000000000000000000000000000000000000000000000000000000000000000000000000000033000000000000330000000555505500000005555055000000000000000000000000000000000000000000000000000000000',\n",
       "  False,\n",
       "  False,\n",
       "  1],\n",
       " ['ExtendToBoundary2_2.json',\n",
       "  '0000000000000000999999999999009000000000090090999990000900900',\n",
       "  '000000000000000000999999999990000999990999990000999990999990000999010009990000999010009990000999010009990000999010009990000999010009990000999999999990000999999999990000999999999990000000000000000',\n",
       "  False,\n",
       "  False,\n",
       "  1],\n",
       " ['InsideOutside4_0.json',\n",
       "  '0000000000000000000000000000008888888888000080000006080000804444400800008040004008',\n",
       "  '0000000000000000000000000000008888888888000080000000080000804444400800008040004008000080400040080000804000400800008044444008000080000000080000888888888800000000000000000000000000000000000000000000',\n",
       "  False,\n",
       "  False,\n",
       "  1],\n",
       " ['InsideOutside4_1.json',\n",
       "  '0000000000000000000000000000000000000000000000000000000000005555500000000533335000',\n",
       "  '0000000000000000000000000000000000000000000000000000000000005555550000000053333500000000530035000000005306350000000053333500000000555555000000000000000000000000000000000000000000000000000000000000',\n",
       "  False,\n",
       "  False,\n",
       "  1],\n",
       " ['InsideOutside4_2.json',\n",
       "  '000000000000000003333333330033000000033030001111110003300111000110033001100000110',\n",
       "  '0000009999000000099990999000099900000090000990000000900009904444409000099040004099000900400040990009004400400900090004444009000900000440090000900000000900000999000090000000009999900000000000000000',\n",
       "  False,\n",
       "  False,\n",
       "  1],\n",
       " ['ExtendToBoundary2_0.json',\n",
       "  '000000000000000000666666666600600000000600607777778700607000000600607000000600607000000',\n",
       "  '000000000000006666666660006007000060006007000060006007000060006007000060006007000060006007000060006007000060006007000060006007000060006666666660000000000000000000000000',\n",
       "  False,\n",
       "  False,\n",
       "  1],\n",
       " ['AboveBelow2_1.json',\n",
       "  '1111111111',\n",
       "  '00000000000000000000000000000000000000000000000000000000000000000000000000000000000000003300000000033000000000',\n",
       "  False,\n",
       "  False,\n",
       "  3],\n",
       " ['AboveBelow2_0.json',\n",
       "  '',\n",
       "  '0000000000000000000000000000000000000000000333000000033300000003330000000000000000066000000006600000',\n",
       "  False,\n",
       "  False,\n",
       "  2],\n",
       " ['InsideOutside5_2.json',\n",
       "  '333333333333333333333333333333333333333333333333333333333333333333333333333333333333333333333333333333333333333333333333333333',\n",
       "  '000000000000000000000000000000000000000000000000000000002222222077777700002000002070000700002444442070777700002400042070707700002455542070707700002400042070777700002444442070000700002222222077777700000000000000000000000000000000000000000000000000000000000000000000000000',\n",
       "  False,\n",
       "  False,\n",
       "  2],\n",
       " ['InsideOutside5_1.json',\n",
       "  '00000000000000000000777777777777777000000000700000000008030999990000700800000008070900000000700800333300807099999000070080000000807033333330077777777777777703000003000000',\n",
       "  '000000000000000000000000000000000000000000000000000000000000000000000000000000060000000000000000606000000000000006000600000000000000606000000000000000060000000000000000000000000000000000000000000000000000000000000000000000000000000000000000000000000000',\n",
       "  False,\n",
       "  False,\n",
       "  1],\n",
       " ['HorizontalVertical8_1.json',\n",
       "  '0000000000000000008880000000000088800000000000888000000000000300000000000033333000000000333333000000003333333000001110003000444011100030004440111000300044400003333333000000003333000000000003330000',\n",
       "  '000000000000000000000000000000000000000000000000000000000000003000000000000333000000000033333000000003333333000011100030004440111000300044401110003000444000033333330000000033333000000000033300000000000030000000000000000000000000000000000000000000000000',\n",
       "  False,\n",
       "  False,\n",
       "  1],\n",
       " ['InsideOutside5_0.json',\n",
       "  '00000000000000000000000000000000000000000000000000000000000000000000000000000000000000000000000000000000000000000000000000000000000000000000000000000000000000000000000000000000000000000000000000000000',\n",
       "  '000000000000000000000000000000000000000000000000000000000000000222222000000000200002000000000200002000000000222222000000000000000000000000000000000000000000000000000000000000000000000004440000000000000000000000000000000000000',\n",
       "  False,\n",
       "  False,\n",
       "  1],\n",
       " ['ExtendToBoundary9_0.json',\n",
       "  '000000000000000000088888888888880000080000000000800000800000000008000008000000000080000080044000000800000800440000008000008000000000080000080000000000800000800000000008000008888888888880000000000000000000000000000000000001',\n",
       "  '000000000000000000008888888888880000080044000000800000800440000008000008004400000080000080044000000800000844444444448000008444444444480000080044000000800000800440000008000008004400000080000080044000000800000888888888888000000000000000000000000000000000000',\n",
       "  False,\n",
       "  False,\n",
       "  1],\n",
       " ['HorizontalVertical8_0.json',\n",
       "  '00000000000000000000000666000000000000000666000000000000000333',\n",
       "  '00000000000000000000000000000000000000000033333330000003333333000000003330000000002333700000002233377000000023337000000000333000000003333333000000333333300000000000000000000000000000',\n",
       "  False,\n",
       "  False,\n",
       "  2],\n",
       " ['ExtendToBoundary9_1.json',\n",
       "  '0000000000',\n",
       "  '000000000000000000000000000000000000000002000000000020200000000203320000002033332000000233330200000023302000000002020000000000200000000000000000000000000000000000000000000000000000',\n",
       "  False,\n",
       "  False,\n",
       "  3],\n",
       " ['HorizontalVertical4_2.json',\n",
       "  '0000000000000000000000008888888880000000800000000800000080000000008000000800000000080000000080000008000000000888888000000000022222000000082228000000000000000000000000000000000000000000000000000000000000000000000000000000000000000000000000000000000000000000000000000000000000000000000000000000000000000000',\n",
       "  '0000000000000000000888888888000000080000000880000008000000008000000800000000800000088800000080000000080000008000000888088888800000083338000000000008888800000000000000000000000000000000000000000000888888888000000882000000800000080200000080000008020000008000000882000000800000008888000080000000000888888000000000000000000000000000000000000000000000000000',\n",
       "  False,\n",
       "  False,\n",
       "  1],\n",
       " ['Count2_2.json', '999999', '77777777', False, False, 3],\n",
       " ['HorizontalVertical8_2.json',\n",
       "  '000000000000000000',\n",
       "  '000000000000000000000000300000000030000008333332000000300000000030000000000000000000000000',\n",
       "  False,\n",
       "  False,\n",
       "  3],\n",
       " ['ExtendToBoundary9_2.json',\n",
       "  '7777777',\n",
       "  '777777707707707707707707707707777777777777707707707707707707707707777777',\n",
       "  False,\n",
       "  False,\n",
       "  3],\n",
       " ['HorizontalVertical6_0.json',\n",
       "  '99999999999999',\n",
       "  '0000000000000300011100000003000100000000030001100000000300000111000003000000110000030000001000000300000011000003000001100000030000010000000300000110000003000000000000030000000000000300000000000003',\n",
       "  False,\n",
       "  False,\n",
       "  3],\n",
       " ['HorizontalVertical6_1.json',\n",
       "  '99999999999999',\n",
       "  '3333333333333300000000000000000000000000000000000000000000000000000000000000000000000000010000100000000100011110000011100111000101100110000001110000000000000000000000000000000000000000000000000000',\n",
       "  False,\n",
       "  False,\n",
       "  3],\n",
       " ['HorizontalVertical6_2.json',\n",
       "  '242424242424242424242424',\n",
       "  '0000000000000300000000000003000011100000030000000000000300000001000003000000100000030000000000000300000011101003000000000000030000011000000300001100000003000000000000030000000000000300000000000003',\n",
       "  False,\n",
       "  False,\n",
       "  3],\n",
       " ['HorizontalVertical4_0.json',\n",
       "  '0000000000000000000000007777777700007002000700007002000700007002000700007777777700000000000000000055555000000522222500005000000050050000000005005000000050000500000500000055555000000000000000000000000000100000000000000000000000077777777000070020007000070020007000070020007000077777777000000000000000000555550000005222225000050000000500500000000050050000000500005000005000000555550000000000000000000000000001000000000000000000000000',\n",
       "  '000000000000000000000000007777777700007002000700007002000700007002000700007777777700000000000000000055555000000533333500005000000050050000000005005000000050000500000500000055555000000000000000000000000000',\n",
       "  False,\n",
       "  False,\n",
       "  1],\n",
       " ['CompleteShape10_1.json',\n",
       "  '00000000000666600',\n",
       "  '000000000006600000000000066600000000000666600000000006666600000000066666600000000666666600000006666666600000066006666600000066006666600000006666666600000000666666600000000066666600000000006666600000000000666600000000000066600000000000006600',\n",
       "  False,\n",
       "  False,\n",
       "  3],\n",
       " ['FilledNotFilled10_2.json',\n",
       "  '0000000000003333333330034040404300034040403000034040430000034040300003404043000340404030034040404300333333333000000000000',\n",
       "  '0000000000003333333330034040404300034040403000034040430000034040300003404043000340404030034040404300333333333000000000000',\n",
       "  True,\n",
       "  True,\n",
       "  1],\n",
       " ['Center6_1.json',\n",
       "  '8888888888888',\n",
       "  '0000000000000000000000000000000000000000000000070000000000007770000000000777770000000077777770000007777677770000007777777000000007777700000000007770000000000007000000000000000000000000000000000000',\n",
       "  False,\n",
       "  False,\n",
       "  3],\n",
       " ['Center6_2.json',\n",
       "  '000000000000000000000000000000000000000000001111111111000111111111100000000000000000000000000000000000000000',\n",
       "  '0000000000000000000000000000000000000000000011114411110000111144111100000000000000000000000000000000000000000000000000000000000000000000000000000000000000000000000000000000000000000000000000000000',\n",
       "  False,\n",
       "  False,\n",
       "  3],\n",
       " ['CleanUp4_1.json',\n",
       "  '3333333333',\n",
       "  '000000000033330000000000000000300300000004444000003003000000040040000030030000000400400000300300000004004000003003000000044440000033330000000000000000000000000000000000000000000000000066666666666666600000600000000000006099906000000000000060909060000000000000609090600000000000006090906666666666666660909000000000000000009090000000000000000099900000000000000000',\n",
       "  False,\n",
       "  False,\n",
       "  3],\n",
       " ['FilledNotFilled10_0.json',\n",
       "  '0000000000033333333003404040300304040430034040403003040404300340404030030404040003333333300000000000',\n",
       "  '00000000033333300304043003404030030404300340403003040430034040300304043003404030030404300333333000000000',\n",
       "  False,\n",
       "  False,\n",
       "  3],\n",
       " ['Count2_1.json', '999999', '77777', False, False, 3],\n",
       " ['CompleteShape10_2.json',\n",
       "  '0000000000000000000044444444440000000044444444400000000440004400000000400040000000000444000000000000400000000000000400',\n",
       "  '0000000000000004444444444400004444444440000004400044000000004000400000000004440000000000004000000000000040000000000004440000000000400040000000044000440000004444444440000444444444440000000000000000',\n",
       "  False,\n",
       "  False,\n",
       "  3],\n",
       " ['HorizontalVertical4_1.json',\n",
       "  '0000000000000000000000',\n",
       "  '00000000000000006666666666600060000000006000600033330060006020000000600060200020336000602000200060006020002000600066666666666000000000000000',\n",
       "  False,\n",
       "  False,\n",
       "  3],\n",
       " ['Center6_0.json',\n",
       "  '0000000000000000000000000000000000000000000000000000000000000000000000000000000000000000000000000000000000000000000000000000003000000000000',\n",
       "  '0000000000000000000000000000000000000000088888888800008000000080000800030008000080000000800008888888880000000000000000000000000000000000000000000000000000000000000000000',\n",
       "  False,\n",
       "  False,\n",
       "  3],\n",
       " ['FilledNotFilled9_2.json',\n",
       "  '000000000000001111111111111012345678910111200000000000000',\n",
       "  '000000000000000112222222221110012222222221000012222222221000012222222221100011222222222100001122222222100000122222222100001122222221000001222222221000001122222211000000111112210000000000011100000000000000000000000000000000000',\n",
       "  False,\n",
       "  False,\n",
       "  3],\n",
       " ['CompleteShape10_0.json',\n",
       "  '00000000000002200000000022200000000022200000000222200000022002200000220022000002222200000022200000000220000000000000000000',\n",
       "  '000000000000022000000000022200000000022220000000022222000000022002200000022002200000022222000000022220000000022200000000022000000000000000000000',\n",
       "  False,\n",
       "  False,\n",
       "  3],\n",
       " ['FilledNotFilled10_1.json',\n",
       "  '03333333333330',\n",
       "  '0333333333330034040404043003040404040300333333333330',\n",
       "  False,\n",
       "  False,\n",
       "  3],\n",
       " ['FilledNotFilled9_0.json',\n",
       "  '000000000000000122222222221012222222222001222222222210122222222220012222222222101122222222100012222222210001122222221000012222221000001111111100000011110000000000000000000',\n",
       "  '000000000000000122222222221001222222222210012222222222100122222222221001222222222210012222222222100122222222221001222222222210012222222222100111111111111000000000000000',\n",
       "  False,\n",
       "  False,\n",
       "  3],\n",
       " ['Center3_1.json', '9999', '222222222', False, False, 3],\n",
       " ['Center3_2.json',\n",
       "  '2222',\n",
       "  '006600060060600006600006060060006600',\n",
       "  False,\n",
       "  False,\n",
       "  3],\n",
       " ['CleanUp4_0.json',\n",
       "  '333333332222332332332332332222333333',\n",
       "  '000000000000000000000000000000055550005555555050050005000005050050005000005050050005000005055550005000005000000005000005000555005000005000505005555555000505000000000000505000000000000555000000000000000000000000000000000000000',\n",
       "  False,\n",
       "  False,\n",
       "  3],\n",
       " ['FilledNotFilled9_1.json',\n",
       "  '0000000000000012222222222001222222210000122222221000001111000000000000000000',\n",
       "  '000000000000000000000000000000000000000000000000012222222210012222222210001222222100000122221000000011110000000000000000000000000000',\n",
       "  False,\n",
       "  False,\n",
       "  3],\n",
       " ['SameDifferent7_0.json',\n",
       "  '00000000000008',\n",
       "  '000000000000000000000000000000003300000000000003300000000000000000000000000000000000000000000000000000000000000000000000000000001100000000000001100000000000000000000000000000000000000000000000000000000000000000000000000000000',\n",
       "  False,\n",
       "  False,\n",
       "  3],\n",
       " ['Copy10_1.json',\n",
       "  '00000000000000000000000000000000000000000080808080808080808080000000',\n",
       "  '0000000000000000000000000008080808080800000000000000080004004008000004044040000800404404080000040440400008000400400800000000000000080808080808000000000000000000000000000000000000000008080808080800000000000000080004004008000004044040000800404404080000040440400008000400400800000000000000080808080808000000000000000000000000000',\n",
       "  False,\n",
       "  False,\n",
       "  3],\n",
       " ['ExtendToBoundary3_1.json',\n",
       "  '11111111111',\n",
       "  '00000000000000000000000000000000000000000000000000000000000000000000000000000000000000000000000000000000000700000000000000000007000000000000000000070000000000000000000700000000000000000007000000000000000000070000000000000000000700000000000000000007000000000000404040404040404000000000000000000000000000000000000000000000000000000000000000000000000000000000000000000000000000000000',\n",
       "  False,\n",
       "  False,\n",
       "  3],\n",
       " ['SameDifferent7_2.json',\n",
       "  '0000000000666006666666006460064444460064600064446000666000064600006660000060000000000000000000000033433000555555334330005777773343300055777533433000555555334330005555550333000000000000300000000000',\n",
       "  '0000000000000000000000000000004444400000000004440000000000004000000000000000000000000000000000000000000000000000000000000777770000000000777000000000000700000000000000000000000000000000000000000000',\n",
       "  False,\n",
       "  True,\n",
       "  3],\n",
       " ['Count2_0.json', '999999', '7777', False, False, 3],\n",
       " ['TopBottom3D10_2.json',\n",
       "  '222222222222',\n",
       "  '000000000000000000000000000000004444444444400004033330000400004444444444400004030030000400004444444444400004033330000400004444444444400004000000000400004444444444400004000000000400004444444444400000000000000000000000000000000',\n",
       "  False,\n",
       "  False,\n",
       "  3],\n",
       " ['SameDifferent2_2.json',\n",
       "  '000000000000000009900222220000099002222200000900022222000000000000000000000330077777000000330077777000000300000000000000000000000000',\n",
       "  '000000000000000000000000222220000000000200020088888000204020080008000200020080408000222220080008000000000088888000000000000000000000000000000000000000000000000999000007770000999000007770000999000007770000000000000000000000000',\n",
       "  False,\n",
       "  False,\n",
       "  3],\n",
       " ['CleanUp4_2.json',\n",
       "  '222222222224444444421442222242241221224214444444412222222222233331333221322212322333333332',\n",
       "  '2222222222224444444222422222422242222242224222224222444444422222222222223333333222322222322233333332',\n",
       "  False,\n",
       "  False,\n",
       "  3],\n",
       " ['SameDifferent7_1.json',\n",
       "  '4444444333330041114322230041440333230041400333330041400333330044400000008888111110006668177710006868171110006880171100008800171100000000111100009038',\n",
       "  '000000000000000111000000000100000000000100000000000100000000000000000000000000000000000007770000000007000000000007000000000007000000000000000000',\n",
       "  False,\n",
       "  False,\n",
       "  3],\n",
       " ['AboveBelow1_0.json',\n",
       "  '06666006660',\n",
       "  '06600666060660066606000006660044444444440000000000000000000000000000000000000000000000000000000000000000000000000000000000000000000000000000',\n",
       "  False,\n",
       "  False,\n",
       "  3],\n",
       " ['FilledNotFilled4_0.json',\n",
       "  '0000000000000044444440044000000004000000000040000000004000000004400000000400000000040044400',\n",
       "  '000000000000000444400000004444400000004444400000000444400000000444400000004444400000004444400000004444400000004444400000004444000000000000000000',\n",
       "  False,\n",
       "  False,\n",
       "  3],\n",
       " ['FilledNotFilled4_1.json',\n",
       "  '4444444000',\n",
       "  '000000044000000000444400000044444400000044444000000044444000444444444000044444444000004444444000004444000000000000000000000000000000',\n",
       "  False,\n",
       "  False,\n",
       "  3],\n",
       " ['HorizontalVertical3_0.json',\n",
       "  '333333333333',\n",
       "  '111111111111000000000000007000007000077700077700777770777770077700077700007000007000000000000000000000000000000000000000000000000000000000000000',\n",
       "  False,\n",
       "  False,\n",
       "  3],\n",
       " ['HorizontalVertical3_1.json',\n",
       "  '33333333333',\n",
       "  '100000000000108880000000100800000000100800000000100000000000108880000000100800000000100800000000100000000000108880000000100800000000100800000000',\n",
       "  False,\n",
       "  False,\n",
       "  3],\n",
       " ['HorizontalVertical3_2.json',\n",
       "  '22222222222',\n",
       "  '100000000000100555000000100555500000100055500000100005500000100005500000100000000000100555000000100555500000100055500000100005500000100005500000',\n",
       "  False,\n",
       "  False,\n",
       "  3],\n",
       " ['Copy4_0.json',\n",
       "  '0000444400000000044440000000000000000000000222200000000020020000000002002000000000222200000000000000000002000110020000000011000000000001100000000000110000000000011000000',\n",
       "  '0000444400000000044440000000000000000000000222200000000020020000000002002000000000222200000000000000000002222110022220200211002002020021100200202222110022220000011000000',\n",
       "  False,\n",
       "  True,\n",
       "  3],\n",
       " ['AboveBelow1_2.json',\n",
       "  '000000000000008880000000888000000088800000000000000000000000022222222220000000000000000000000000000000000000000000',\n",
       "  '000000000000000000000000000000000000000000000000000000000000000000000000505050505050000000000000000000000000000000000000',\n",
       "  False,\n",
       "  False,\n",
       "  3],\n",
       " ['TopBottom3D10_0.json',\n",
       "  '00000088888000000777775333357777007070753333507070070707533335070700707075555550707007070707070707070070707070707070700777777777777777000000000000000000',\n",
       "  '000000555555000000777777777777777007070757373707070070707573737070700707075757570707007070707070707070070707070707070700777777777777777000000000000000000',\n",
       "  False,\n",
       "  False,\n",
       "  3],\n",
       " ['FilledNotFilled4_2.json',\n",
       "  '00444444000000000000',\n",
       "  '004444400000000000000044444400044440000000444444004444400000004444444444444444000044444444444444440000000044444444444400',\n",
       "  False,\n",
       "  False,\n",
       "  3],\n",
       " ['SameDifferent9_1.json',\n",
       "  '000000000008888000000800800000080080000000000000000007777770000700000700070000070044440007004700477700400040000',\n",
       "  '000000000000000000000000000555555550000500000050000500000050005555500050005500500050005555555550005000500000005555500000000000000000000000000000',\n",
       "  False,\n",
       "  False,\n",
       "  3],\n",
       " ['Copy2_1.json',\n",
       "  '0000000000000000000',\n",
       "  '0000000000000000000000000000000000000000004444444400000000000043333334000000000000435555340000000000004358853400000000000043555534000000000000433333340000000000004444444400000000000000000000000000000000000000000000000000000000008888888888000000000084444444480000000000843333334800000000008435555348000000000084358853480000000000843555534800000000008433333348000000000084444444480000000000888888888800',\n",
       "  False,\n",
       "  False,\n",
       "  3],\n",
       " ['TopBottom3D9_2.json',\n",
       "  '5555500000',\n",
       "  '000000000000000000000000333330000000333330000000333330000000333330000000333330000000333330000000333333000000333333000000000000000000000000000000',\n",
       "  False,\n",
       "  False,\n",
       "  3],\n",
       " ['TopBottom3D9_0.json',\n",
       "  '00000000000000',\n",
       "  '00000000000000000000000000000555555555555005555555555550055555555555500555555555555005555555555550000000555000000000000000000000000000000000',\n",
       "  False,\n",
       "  False,\n",
       "  3],\n",
       " ['Copy4_1.json',\n",
       "  '00000000000555555550055500555000000000000000000000000000000005000000000000000000000000000005000000000000000000',\n",
       "  '00000000000555555550055500555000000000000000000000000000000005555555500555005550000000000005555555500555005550000000000005555555500555005550',\n",
       "  False,\n",
       "  False,\n",
       "  3],\n",
       " ['CleanUp3_1.json',\n",
       "  '33333333333333',\n",
       "  '333333333333333333333333333333333333333333333333333333333333333333333333333333333333333333333333333333333333333333333333333333333333333333333333333333333333333333333333333333333333333333333333333',\n",
       "  False,\n",
       "  False,\n",
       "  3],\n",
       " ['TopBottom2D4_0.json',\n",
       "  '000000000',\n",
       "  '00000000000000000000001111110000111111000011111100001111110000004400000000440000000000000000000000000000000000',\n",
       "  False,\n",
       "  False,\n",
       "  3],\n",
       " ['SameDifferent10_2.json',\n",
       "  '888880000005888880000088888000005888880000088888000005888880000088888000005888880000088888111115888881111100000111111500000111110000011111150000011111',\n",
       "  '888880000058888800000888880000058888800000888880000058888800000888880000058888800000888881111158888811111000001111150000011111000001111150000011111',\n",
       "  False,\n",
       "  False,\n",
       "  3],\n",
       " ['Order1_1.json',\n",
       "  '7777777',\n",
       "  '700000000000770000770000000000777000777000777000000000777770777770777770777770777770',\n",
       "  False,\n",
       "  False,\n",
       "  3],\n",
       " ['AboveBelow1_1.json',\n",
       "  '003333300000000333330000000000000000000000000000000090909090909090000000000000',\n",
       "  '003333300000000333330000000000000000000000000000000090909090909090000000000000',\n",
       "  True,\n",
       "  True,\n",
       "  1],\n",
       " ['TopBottom2D4_1.json',\n",
       "  '0000000000',\n",
       "  '000000000000000000000000000000000000000000333000003330000066600000666000000000000000000000000000',\n",
       "  False,\n",
       "  False,\n",
       "  3],\n",
       " ['MoveToBoundary8_2.json',\n",
       "  '5400000000',\n",
       "  '50000000000005000000000000540000000000050000000000005004000000000000000000000000000400000000000000000000000000000000000000000000000000000000000000000000000000000000000000000000000000',\n",
       "  False,\n",
       "  False,\n",
       "  3],\n",
       " ['InsideOutside6_2.json',\n",
       "  '00000000000000000000099900000000000990000900000000090022099990000090000000000900000090020002090000200000000009000000099202009000000200900000900000000900000000000000090200092000000009000009000002000000000000000000000000000000001000000000000000000000999000000000009900009000000000090022099990000090000000000900000090020002090000200000000009000000099202009000000200900000900000000900000000000000090200092000000009000009000002000000000000000000000000000000001000000000000000000000999000000000009900009000000000900220999900000900000000090000009002',\n",
       "  '000000000200000000000000000000000000000000000000000000000000000000000000000000000000000000000000020000000000000000000000000000000020000000000000000000000000000000000000000200000000000000000000020000000000000200000000000000000000000000000000',\n",
       "  False,\n",
       "  False,\n",
       "  2],\n",
       " ['Copy4_2.json',\n",
       "  '607777706000000000006077777060000000000060737370600000000000607373706000000000006077777060000000000060000000600000000000',\n",
       "  '600000006000000000006077777060007777700060737370600073737000607373706000737370006077777060007777700060000000600000000000',\n",
       "  False,\n",
       "  True,\n",
       "  3],\n",
       " ['Order1_0.json',\n",
       "  '888888000000088888800000008888880000000888888044066688888804406668888880440666',\n",
       "  '000000088888800000008888880000000888888000666088888844066608888884406660888888',\n",
       "  False,\n",
       "  True,\n",
       "  3],\n",
       " ['InsideOutside2_0.json',\n",
       "  '004000000',\n",
       "  '0000000000000000000000000000000020000000000000000000000000000000000000000000000000000000000020000000',\n",
       "  False,\n",
       "  False,\n",
       "  3],\n",
       " ['InsideOutside2_1.json',\n",
       "  '000000000000000000000000000000000000000000000000000000000000000000000000000000000000000000',\n",
       "  '0000000000000000000000000000000000000000000000000000000000000000000000000000000000000000400000000000',\n",
       "  False,\n",
       "  False,\n",
       "  3],\n",
       " ['InsideOutside2_2.json',\n",
       "  '40000000',\n",
       "  '0000000000000000000000000000002000000002000000000000000000000000000000000000000000000000000000000000',\n",
       "  False,\n",
       "  False,\n",
       "  3],\n",
       " ['InsideOutside3_0.json',\n",
       "  '0000000000000020000000000000000020002000000000000020202020200000000000000040000000000000000000000000',\n",
       "  '0000000000000020000000000000000020002000000000000020202020200000000000000000000000000000000000000000',\n",
       "  False,\n",
       "  True,\n",
       "  3],\n",
       " ['InsideOutside3_1.json',\n",
       "  '00000000',\n",
       "  '0000000000000000000000000000000000000000000004000000000000000000000000000000000000000000000000000000',\n",
       "  False,\n",
       "  False,\n",
       "  3],\n",
       " ['InsideOutside3_2.json',\n",
       "  '000000000',\n",
       "  '0202020200000000000002000002020000000000020000000200000000000202020202000000000000000000000000000000',\n",
       "  False,\n",
       "  False,\n",
       "  3],\n",
       " ['SameDifferent9_0.json',\n",
       "  '00000000000888800000080080000008008000000000000000000000555500000077770000007007',\n",
       "  '0000888880000080008000008000800000800080000088888088888000008000800000800080000080008000008888800000',\n",
       "  False,\n",
       "  False,\n",
       "  3],\n",
       " ['SameDifferent9_2.json',\n",
       "  '00000000000044400000004040000000444000000000000000000000777700000070070000007777',\n",
       "  '0000000000000000000000000000008888888888800088000880008800088000880008888888888800000000000000000000',\n",
       "  False,\n",
       "  False,\n",
       "  3],\n",
       " ['MoveToBoundary8_0.json',\n",
       "  '700000000000000000',\n",
       "  '000000000000000000000000000000000000000000000000000000000000000000000000000000070000000000000000000000000007000000000000000000000000000700000111111111100000000000000000',\n",
       "  False,\n",
       "  False,\n",
       "  3],\n",
       " ['InsideOutside6_0.json',\n",
       "  '0000080000',\n",
       "  '000008000008000000000000000000000000000000000000000000000080000000000000000000000000000000000000000000000000000000000000000000000000000000000000000000080000000000000000000000000008000000000000000000000000000000008000000000800',\n",
       "  False,\n",
       "  False,\n",
       "  3],\n",
       " ['InsideOutside6_1.json',\n",
       "  '0000000000000000300000030003000022020000000000022300200000000020000022220000220030000022030000000303002000002003000000200002200003000200000200000000200030220302022200000020022000000003002220303003000000000000000000000000000000',\n",
       "  '000000000000000030000003000300000000000000000000000000000000000000000000000000000000000003000000000000000000000000000000000000000000000000000000000000030000000000000000000000000000003000000303003000000000000000000000000000000',\n",
       "  False,\n",
       "  False,\n",
       "  3],\n",
       " ['MoveToBoundary7_1.json',\n",
       "  '000000000000000000000000000000000000000000000000000000000000000000000000000000000000000000000000000000000000000000000000000000000000000000000000000000000000000000000000000000000000000000000000000000000000000000000000000000000000000000000000000000000000000000000000000000000000000000000000000000000000000000000000000000000000000000000000000000000000000000000000000000000000000000000000',\n",
       "  '000000000000000000000000000000000000000000000000000000000000000000000000000005555000000000005555000000000005555000000000005555000000000333333333000000300000003000000030000030000000003000300000000000303000000000000030000000000',\n",
       "  False,\n",
       "  False,\n",
       "  3],\n",
       " ['AboveBelow8_1.json',\n",
       "  '88888888888888',\n",
       "  '000000000000000000000000000000000000000000000000000000000000000000000000000000008000000000000008888880000000000000080000008888888880000008000000000000000000000000000',\n",
       "  False,\n",
       "  False,\n",
       "  3],\n",
       " ['TopBottom2D4_2.json',\n",
       "  '8888888888',\n",
       "  '000000000000000000000000000000000000000000000000000000000000000000000000',\n",
       "  False,\n",
       "  False,\n",
       "  3],\n",
       " ['Center8_1.json',\n",
       "  '00000000003',\n",
       "  '000000000000000000000000000000300000005555355550000000300000000000000000000000000000000000000000000000000000000000000000000000000000000000000000',\n",
       "  False,\n",
       "  False,\n",
       "  3],\n",
       " ['TopBottom3D10_1.json',\n",
       "  '999990',\n",
       "  '000000099990090090099992090292099992090090099990090090099990090090099990000000',\n",
       "  False,\n",
       "  False,\n",
       "  3],\n",
       " ['Copy3_1.json',\n",
       "  '3333330000000000',\n",
       "  '000000000088888008888800008000800800080000802080080208000080008008000800008888800888880000000000000000000000200000020000000020000002000000000000000000000888888888888880088888888888888000000000',\n",
       "  False,\n",
       "  False,\n",
       "  3],\n",
       " ['Center3_0.json', '888888888', '8888', False, False, 3],\n",
       " ['SameDifferent10_1.json',\n",
       "  '00000000544440000',\n",
       "  '000000005000000000044400050000000000444440500000000004440005000000000000000050000000000000000500000000',\n",
       "  False,\n",
       "  False,\n",
       "  3],\n",
       " ['SameDifferent2_0.json',\n",
       "  '0000000000033300777003030070700333007070000000707044400077704040000000444000000000000000000000000000',\n",
       "  '0000000000033300000003030000000333000000000000000044400000004040000000444000000000000000000000000000',\n",
       "  False,\n",
       "  True,\n",
       "  3],\n",
       " ['SameDifferent2_1.json',\n",
       "  '3300066600330000060033000000000000880440000080040000008804400000000000000077000000007700000000770000',\n",
       "  '3300000000330000000033000000000000880440000080040000008804400000000000000077000000007700000000770000',\n",
       "  False,\n",
       "  True,\n",
       "  3],\n",
       " ['MoveToBoundary7_2.json',\n",
       "  '00000000000666666666',\n",
       "  '00000000000666666000000000011160000600000000001016000060000000000111600006660000000000060000006000000000006666666600000000000000000000000000000000000000000000000000000000000000000000000000000000000000000000000',\n",
       "  False,\n",
       "  False,\n",
       "  3],\n",
       " ['HorizontalVertical1_0.json',\n",
       "  '02222222200444',\n",
       "  '000000000000000000000000000000000000055555555500000000057777777500000000057777777500000000055555555500000000000000000000000000000000000000000000000444400004444444000433400004777774000433400004444444000433400000000000000433400000000000000433400000555000000433400000535000000444400000535000000000000000535000000000000000555000',\n",
       "  False,\n",
       "  False,\n",
       "  3],\n",
       " ['Copy10_2.json',\n",
       "  '000000000000000000000000055555555500000000000000503333000000003333000000503333000000003333000000555555555000000000000000000000000000000000000',\n",
       "  '000000000000000000000000000555555555000555555555000050333300000050333300000005033330000005033330000000555555555000555555555000000000000000000000000000',\n",
       "  False,\n",
       "  False,\n",
       "  3],\n",
       " ['Order1_2.json',\n",
       "  '222200000020020555002002050500222205550677770000007070000000777700000000000000002222000000200205550020020505002222055506',\n",
       "  '0000002222005550200200505020026055502222',\n",
       "  False,\n",
       "  False,\n",
       "  3],\n",
       " ['SameDifferent6_2.json',\n",
       "  '000000088889',\n",
       "  '0000000088888000000000844480000000008888800000000000000000000000003330000000000034300000000000333000000000000000000000000000000000700000000000074700000000007444700000000007470000000000007000000000',\n",
       "  False,\n",
       "  False,\n",
       "  3],\n",
       " ['SameDifferent10_0.json',\n",
       "  '022222050222220',\n",
       "  '000000050000000022222050222220023332050233320023332050233320022222050222220000000050000000',\n",
       "  False,\n",
       "  False,\n",
       "  3],\n",
       " ['Center8_0.json',\n",
       "  '0000000000000000000000000000000000070000000006666666660000000000000000000000000000000000070000000000666666666000000000000',\n",
       "  '0000000000000000000000000000000000000007000000066676660000000700000000000000000000000000000007000000666676666000000700000',\n",
       "  False,\n",
       "  True,\n",
       "  3],\n",
       " ['Center8_2.json',\n",
       "  '0000000000',\n",
       "  '0000000000000000000000000010000000000100000000001000000000777000000000100000000001000000000010000000000000000000000000000',\n",
       "  False,\n",
       "  False,\n",
       "  3],\n",
       " ['TopBottom3D9_1.json',\n",
       "  '11113333',\n",
       "  '000000011110001111111111111111111110011111001111100000000000000',\n",
       "  False,\n",
       "  False,\n",
       "  3],\n",
       " ['AboveBelow8_0.json',\n",
       "  '0000000000000000000000000000000000000000000000000000080000000008000000000888000000000080000000000000',\n",
       "  '000000000000000000000000000000000000000000000000000888000000000800000000000888000000000008000000000008888000000000008000000000008000',\n",
       "  False,\n",
       "  False,\n",
       "  3],\n",
       " ['AboveBelow8_2.json',\n",
       "  '00000000000388833333033383333303888333330383333333038333333301881111110118111111011888811101111181110000000000',\n",
       "  '0000000000000000000000000000000000000000000008000000008800000000800000000880000000080000000008000000000800000000880000000080000000',\n",
       "  False,\n",
       "  False,\n",
       "  3],\n",
       " ['CleanUp3_2.json',\n",
       "  '55555555555555555555555555555555555555555555555555555555755555555555555555555555555555755555555555555555555555555555555555555555555555555555555555555555555555555555555555555555555555',\n",
       "  '555555555555555500005500005555000055000055550000550000555500005500005555555555000055555555550000555555555500005555555555000055',\n",
       "  False,\n",
       "  False,\n",
       "  3],\n",
       " ['Copy3_2.json',\n",
       "  '99990000000000002222000000000004444000000000000999900000000000022220000000000004444000000000000000000000000000000000000000000000000000000000000000000000000000000000000000000000',\n",
       "  '9999000000000000222200000000000044440000000000009999000000000000222200000009999044440000000222200000000000044440000000000009999000000000000222200000000000044440',\n",
       "  False,\n",
       "  False,\n",
       "  3],\n",
       " ['Copy10_0.json',\n",
       "  '00000000000000000000000121212121212120000000000000012131313131313120000000000000121313131313131200000000000000000000000000000000000000000000000000000000000000000000000000000000000000000000000000000000000000000000',\n",
       "  '000000000000000000000006666666606666666600006777777606777777600006777777606777777600006666666606666666600000000000000000000000',\n",
       "  False,\n",
       "  False,\n",
       "  3],\n",
       " ['CleanUp3_0.json',\n",
       "  '00000000000044444400002434400000444440020044444000000000200000000000008888800777838880077788883007270000000000004444440000243440000044444002004444400000000020000000000000888880077783888007778888300727',\n",
       "  '0000000000004444400000444440000044444000004444400000000000000000000000888880077788888007778888800777',\n",
       "  False,\n",
       "  False,\n",
       "  3],\n",
       " ['Order7_0.json',\n",
       "  '000000000050440000000044000000050000000000044000000050000000000000000000050000000000000440000050000000000',\n",
       "  '000000000050004400000000000000050004400000000000000050000000000000000000050004400000000000004450004400000000000004450000000000',\n",
       "  False,\n",
       "  False,\n",
       "  3],\n",
       " ['Order7_1.json',\n",
       "  '000000000050440044044',\n",
       "  '000000000050440044044004400440050440044044004400440050000000000000000000050440044000440000000050440044000440000000050000000000',\n",
       "  False,\n",
       "  False,\n",
       "  3],\n",
       " ['Order7_2.json',\n",
       "  '000000000050440000000044000440050440000440044000440050004400440000000000050004400000000440440050000000000000440440050000000000',\n",
       "  '044000000050000000000044000044050440004400000440044050440004400000440000050000000000000000000050004404400000000000050004404400',\n",
       "  False,\n",
       "  True,\n",
       "  3],\n",
       " ['MoveToBoundary8_1.json',\n",
       "  '000000000000090000000000000009000000000000000900303030000000090000000000000000000000000000000000',\n",
       "  '000000000000090000000000000009000000000000000900000000003030390000000000000000000000000000000000',\n",
       "  False,\n",
       "  True,\n",
       "  3],\n",
       " ['ExtractObjects5_2.json',\n",
       "  '2222222222',\n",
       "  '111111111101101101111111111',\n",
       "  False,\n",
       "  False,\n",
       "  3],\n",
       " ['HorizontalVertical1_2.json',\n",
       "  '02220000004440000000000444000000000044402222222004440200000020044402000000200444022222220007770000000000077700777777700737007000007007370077777770073700000000000777',\n",
       "  '333330666666000000000003333306333360444444444433333063333604777777774333330633336047777777743333306333360477777777433333063333604444444444333330633336000000000003333306333360777007770033333063333607370073700333330633336073700737003333306666660737007370000000000000007770077700',\n",
       "  False,\n",
       "  False,\n",
       "  3],\n",
       " ['SameDifferent6_0.json',\n",
       "  '00000000333000038300003330000000000222200028200001110222181000211100020000002',\n",
       "  '000000000000003330000000003830000000003330000000000000000000000000000000000000000000011100000000018100000000011100000000000000000000000000000000',\n",
       "  False,\n",
       "  False,\n",
       "  3],\n",
       " ['SameDifferent6_1.json',\n",
       "  '00000000033223403223040322304000000000000000004440000',\n",
       "  '000000000000003333000000003223000000003223000000003333000000000000000000000000000000000000000000000000000000000000000000000000000000000000000000',\n",
       "  False,\n",
       "  False,\n",
       "  3],\n",
       " ['Copy3_0.json',\n",
       "  '77777000000777770000004000000000000000000400000000000000008888800000000000000003000000000000000022222000000000000007777700000077777000000400000000000000000040000000000000000888880000000000000000300000000000000002222200000000000000',\n",
       "  '777770000007777700000040000000000400000000400000000004000000888880000008888800000030000000000300000022222000000222220000',\n",
       "  False,\n",
       "  False,\n",
       "  3],\n",
       " ['ExtendToBoundary3_2.json',\n",
       "  '000000000000000000000000000000000000000000000000000000000000000000000000000000000000000000000000000000',\n",
       "  '000000000000000000000000000000000000000000000000000000000000000000000000000000000000000000000060000000000000000000006080000000000008000000600000',\n",
       "  False,\n",
       "  False,\n",
       "  3],\n",
       " ['HorizontalVertical2_2.json',\n",
       "  '32323200000000000000000000000000000000000000000000000000000000000000000000000000000000000000000000000000000000000000000000000000000000000000000000000000000000000000000000000000000000000000000000000000000000000000000000000000000000000000000000000000000000000000000000000000000000000000000000000000000000000000000000000000000000000000000000000000000000000000000000000000000000000000000000000000000000000000000000000000000000000000000000000000000000000000000000000000000000000000000000000000000000000000000000000000000000000000000000000000000000000000000000000000000000000000000000000000000000000000000000000000000000000000000000000000000000000000000000000000000000000000000000000000000000000000000000',\n",
       "  '000000000000000000000000088888000000000000008888888000000000000004444444000000000000008888888000000000000008888888000000000000004444444000000000000008888888880000000000000088888888000000000000088888000000000000000000880000000000000000000000000000000000',\n",
       "  False,\n",
       "  False,\n",
       "  2],\n",
       " ['ExtendToBoundary3_0.json',\n",
       "  '1111111111',\n",
       "  '000000000000000000000000101010101010200000000000200000000000200000000000200000000000200000000000200000000000200000000000200000000000',\n",
       "  False,\n",
       "  False,\n",
       "  3],\n",
       " ['ExtendToBoundary8_0.json',\n",
       "  '0222222222222222222',\n",
       "  '088888888888000080200000008000080200000008000080200000008000082222222228000080200000008000080200000008000080200000008000080200000008000080200000008000080200000008000080200000008000088888888888000000000000000000',\n",
       "  False,\n",
       "  False,\n",
       "  3],\n",
       " ['MoveToBoundary7_0.json',\n",
       "  '0088800007777777000000808000070000070000008880000700000700000000000007000007000000000000077777770000',\n",
       "  '000000888777777700000000008087000007000000000088870000070000000000000700000700000000000007000007000000000000077777770000',\n",
       "  False,\n",
       "  False,\n",
       "  3],\n",
       " ['ExtractObjects2_0.json', '777', '040444040', False, False, 3],\n",
       " ['ExtractObjects2_2.json', '999999999', '000000000', False, True, 3],\n",
       " ['AboveBelow7_1.json',\n",
       "  '3333333333333',\n",
       "  '00000000000000000000000000000111111000000001000010000000010000101111100100001010001001000010100010011111101000100200020011111000222000200020000000000222000000000000000000000000000000',\n",
       "  False,\n",
       "  False,\n",
       "  3],\n",
       " ['AboveBelow9_0.json',\n",
       "  '9999999999',\n",
       "  '008000000000000008888800000000000000800000000000000800000000000088800000000000080000000000000080000000000000088880000000999999999999999000000000000000000000000000000000000000000000',\n",
       "  False,\n",
       "  False,\n",
       "  3],\n",
       " ['HorizontalVertical2_0.json',\n",
       "  '00000000000000000000000000000000000000000000000000000000000000000000000000000000000000000000000000000000000000000000000000000000000000000000000000000000000000000000000000000000000000000000000000000000000000000000000000000000000000000000000000000000000000000000000000000000000000000000000000000000000000000000000000000000000000000000000000000000000000000000000000000000000000000000000000000000000000000000000000000000000000000000000000000000000000000000000000000000000000000000000000000000000000000000000000000000000000000000000000000000000000000000000000000000000000000000000000000000000000000000000000000000000000000000000000000000000000000000000000000000000000000000000000000000000000000000000000000000000000000000000000000000000000000000000000000000000000000000000000000',\n",
       "  '0000000000000000000000000000000000000000000000000000000000000000000000000000000000000000000000000000000000000000000000000011110055555500777700111111007777005555550077770011111100111100555555007777',\n",
       "  False,\n",
       "  False,\n",
       "  2],\n",
       " ['HorizontalVertical2_1.json',\n",
       "  '00000000000004444400000088888016161044444016161088888016161044444016161088888016161044444016161044444016161044444016161000000000000000000000000',\n",
       "  '000000000000000000000000000000000000000000000000000000000000000000000000000000000000000000000000000000000000000000000000000000000000000000000000000000000000000000000000000000000000000000000000',\n",
       "  False,\n",
       "  False,\n",
       "  3],\n",
       " ['Copy8_1.json',\n",
       "  '06550000005500000',\n",
       "  '06550000065500000065050000650500000650050006500500006500050065000500065000050650000500650000056500000506555555565555555066666666666666660000000000000000000000000000000000',\n",
       "  False,\n",
       "  False,\n",
       "  3],\n",
       " ['ExtractObjects2_1.json', '', '2220000222', False, False, 3],\n",
       " ['Copy8_0.json',\n",
       "  '000000000000005555544400005555533300005555522200005555511100005555544430000000000000000000000000',\n",
       "  '000000000000008888877700008888800700008888800700008888800700008888877700000000000000008888877700008888800700008888800700008888800700008888877700000000000000',\n",
       "  False,\n",
       "  False,\n",
       "  3],\n",
       " ['Copy8_2.json',\n",
       "  '0555550555550',\n",
       "  '033333033333003333303333300333330333330033333033333003333303333300003000003000000300000300000030000030000333330333330000000000000000000000000000000000000000',\n",
       "  False,\n",
       "  False,\n",
       "  3],\n",
       " ['Copy9_2.json',\n",
       "  '002000555',\n",
       "  '002000000000200000002222200000002000000000200000000000555555002005005000205055052222200000002000000000200000000000000000',\n",
       "  False,\n",
       "  False,\n",
       "  3],\n",
       " ['AboveBelow9_1.json',\n",
       "  '33333333333',\n",
       "  '000100000000333333333333000000000000000000000000000000000000000000000000000000000000000000000000000000000000000000000000000000000000000000000000',\n",
       "  False,\n",
       "  False,\n",
       "  3],\n",
       " ['TopBottom3D7_0.json',\n",
       "  '09009009090090095555955909009009090090095555555509009009090090090900900909009009090090090900900959559555',\n",
       "  '09009009090090095955955909009009090090095955955909009009090090090900900909009009090090090900900959559559',\n",
       "  False,\n",
       "  True,\n",
       "  3],\n",
       " ['TopBottom3D7_1.json',\n",
       "  '06006006060060060600600644446444060060060600600606006006060060064644444406006006',\n",
       "  '06006006060060060600600646446446060060060600600606006006060060064644644606006006060060060600600606006006',\n",
       "  False,\n",
       "  False,\n",
       "  3],\n",
       " ['TopBottom3D7_2.json',\n",
       "  '4222222222222222222222224000404040004040400040404000404040004040400040404222222240004040',\n",
       "  '40004040422242424222424240004040400040404000404040004040400040404000404040004040422242424000404040004040',\n",
       "  False,\n",
       "  False,\n",
       "  3],\n",
       " ['ExtendToBoundary8_2.json',\n",
       "  '012345678910111213141516171819200',\n",
       "  '000000000000000000000000007070707000070757070700700050000070075555555700700050000070070050000700700050000070070757070700007070707000000000000000',\n",
       "  False,\n",
       "  False,\n",
       "  3],\n",
       " ['ExtendToBoundary8_1.json',\n",
       "  '09999900900009009000090090000900900309009000090090000900900009009000090099999900000000000000000',\n",
       "  '0000000009999990090030900900309009003090090030900900309009333390090030900900309009003090090030900900309009003090099999900000000000000000',\n",
       "  False,\n",
       "  False,\n",
       "  3],\n",
       " ['ExtractObjects5_0.json',\n",
       "  '8883333311177788866666666777666000700046060600000007776660000040001111000800000000077706777006004007077000467077700407000000600600460706000000000444606006004040040000744404407000000000000700006070046006000008030030000888333311070004000888777111',\n",
       "  '666777444606707404666777444',\n",
       "  False,\n",
       "  False,\n",
       "  3],\n",
       " ['ExtendToBoundary6_1.json',\n",
       "  '0000000002',\n",
       "  '000000000000000000222222201222222210000000100000001000000010000000100000001000000',\n",
       "  False,\n",
       "  False,\n",
       "  3],\n",
       " ['ExtendToBoundary6_2.json',\n",
       "  '222222002222220000022220000222200000022000000220000000000010100100',\n",
       "  '000000000000000000000222220000222220000001220000010220000101220001010001010100010',\n",
       "  False,\n",
       "  False,\n",
       "  3],\n",
       " ['AboveBelow7_0.json',\n",
       "  '033303333000300033000444044440040404004004440400400000040040000004004000000444400000000000',\n",
       "  '000000000000000000000000000000044404444004040400400444040040033304004000300400400000044440000003333000000033000000000000',\n",
       "  False,\n",
       "  False,\n",
       "  3],\n",
       " ['Copy9_1.json',\n",
       "  '0000000044403330000400303000040033300004000000000000000008000000000000000000666000000000600000000066600000000000000',\n",
       "  '0000000000033300444003030040400333004440000000000000000000000003330444000303040400033304440000000000',\n",
       "  False,\n",
       "  False,\n",
       "  3],\n",
       " ['ExtendToBoundary6_0.json',\n",
       "  '',\n",
       "  '000000220000000220000000220000001220000010220000100220001000220010000220',\n",
       "  False,\n",
       "  False,\n",
       "  3],\n",
       " ['AboveBelow7_2.json',\n",
       "  '111111111',\n",
       "  '000000000000000000000000000077777770070000070070000070070000070077777770222222222000020000000020000000000000',\n",
       "  False,\n",
       "  False,\n",
       "  3],\n",
       " ['Copy9_0.json',\n",
       "  '999666000',\n",
       "  '099000000999000990090009990000000900000000000000000000000000000666000666066000066006000006',\n",
       "  False,\n",
       "  False,\n",
       "  3],\n",
       " ['Copy2_0.json',\n",
       "  '0003000000003323300000033233000000003000000000888888800008000008000008000008000008000008000008000008000008888888000000000000000',\n",
       "  '000000000000000300000000033233000000033233000000000300000000008888888000008003008000008332338000008332338000008003008000008888888000000000000000',\n",
       "  False,\n",
       "  False,\n",
       "  3],\n",
       " ['InsideOutside10_2.json',\n",
       "  '0000000000000000040000000000404000000004100400000040100040000400101111110040000040000000411140000000040400000000000000000',\n",
       "  '000000000000000000000000000011111111100001000000010000100000001000010000000100001000000010000100000001000010000000100001111111110000000000000000000000000000',\n",
       "  False,\n",
       "  False,\n",
       "  3],\n",
       " ['AboveBelow9_2.json',\n",
       "  '222222222220000500000000005000000000550000000005000000055550000000500000000005555550000000000500000',\n",
       "  '222222222220000000000000000000000000000000000000000000000000000000000000000000000000000000000000000',\n",
       "  False,\n",
       "  True,\n",
       "  3],\n",
       " ['CompleteShape9_2.json',\n",
       "  '444444444444444404444444444444440000000000044440000000000044440000000000044440000000000044440000000000044440000000000044444444444444444444444444444444',\n",
       "  '444444444444444444444444444444440000000000044440000000000044440000000000044440000000000044440000000000044440000000000044444444444444444444444444444444',\n",
       "  False,\n",
       "  True,\n",
       "  3],\n",
       " ['Center5_1.json',\n",
       "  '000000000000000004000000000400000000040000007370000000003000000000000000000000000000000000000000000',\n",
       "  '0000000000000000030000000003000000007370000000030000000003000000000000000000000000000000000000000000',\n",
       "  False,\n",
       "  False,\n",
       "  3],\n",
       " ['Center5_2.json',\n",
       "  '0110000000011000000044444444440110000000011000000000000000000000000000000000000000000000000000000000',\n",
       "  '0000110000000011000044444444440000110000000011000000000000000000000000000000000000000000000000000000',\n",
       "  False,\n",
       "  True,\n",
       "  3],\n",
       " ['HorizontalVertical5_0.json',\n",
       "  '8888888888040000004004000000400444444440040000004004444444400400000040040000004000000000000000000000',\n",
       "  '0000000003040000004304000000430444444443040000004304444444430400000043040000004300000000030000000003',\n",
       "  False,\n",
       "  True,\n",
       "  3],\n",
       " ['HorizontalVertical5_1.json',\n",
       "  '9999999999',\n",
       "  '3333333333000000000004444400000044400000004440000000444000000044400000004440000000444000000444440000',\n",
       "  False,\n",
       "  False,\n",
       "  3],\n",
       " ['HorizontalVertical5_2.json',\n",
       "  '555555555',\n",
       "  '0000000003404040404344040404434000000043404040404344040404434000000043000000000300000000030000000003',\n",
       "  False,\n",
       "  False,\n",
       "  3],\n",
       " ['HorizontalVertical7_0.json',\n",
       "  '9999999999',\n",
       "  '5555555555000000000005777775000007770000000777000000077700000007770000077777770000000000000000000000',\n",
       "  False,\n",
       "  False,\n",
       "  3],\n",
       " ['HorizontalVertical7_1.json',\n",
       "  '88888888',\n",
       "  '2000110000200111100020111111002211111100200010000020001000002211111100201111100020011100002000100000',\n",
       "  False,\n",
       "  False,\n",
       "  3],\n",
       " ['HorizontalVertical7_2.json',\n",
       "  '7777777777',\n",
       "  '2000000000200000000029929999002992999900299999990020009000002999999900299999990029999999002000000000',\n",
       "  False,\n",
       "  False,\n",
       "  3],\n",
       " ['MoveToBoundary2_0.json',\n",
       "  '777777770',\n",
       "  '0000000000000000000000000000000007777777000000000000000077770000000000000000000000000000000000000000',\n",
       "  False,\n",
       "  False,\n",
       "  3],\n",
       " ['MoveToBoundary2_1.json',\n",
       "  '',\n",
       "  '0000000000000000000000000000000000000000000000000000000000000000000000070000000007000700070700070007',\n",
       "  False,\n",
       "  False,\n",
       "  3],\n",
       " ['MoveToBoundary2_2.json',\n",
       "  '777777777',\n",
       "  '0000000000000000000000000000000000007777000000000000000000000000007777000000000000000000000000000000',\n",
       "  False,\n",
       "  False,\n",
       "  3],\n",
       " ['TopBottom2D5_0.json',\n",
       "  '0400000020400000020400000020006000020006000020000600800000060080000000080000000008000',\n",
       "  '0000000000000000000000000000000000000000000000000000000000000000000800000000080000000008000000000800',\n",
       "  False,\n",
       "  False,\n",
       "  3],\n",
       " ['TopBottom2D5_1.json',\n",
       "  '999900000',\n",
       "  '0000000000000000000000000000000000000000000000000000000000000040000000040400000004040000000000000000',\n",
       "  False,\n",
       "  False,\n",
       "  3],\n",
       " ['TopBottom2D8_0.json',\n",
       "  '040000002040000002040000002000600002000600002000060800000060800000000800000000800',\n",
       "  '0800000000080000000008000000080800000008000080000800008000080000800800000080080000000008000000000800',\n",
       "  False,\n",
       "  False,\n",
       "  3],\n",
       " ['TopBottom2D8_1.json',\n",
       "  '002222222000200000200022222220004444444000400000400044444440008888888000800000800088888880000000000000022222220002000002000222222200044444440004000004000444444400088888880008000008000888888800000000000',\n",
       "  '0088888880008000008000888888800088888880008000008000888888800088888880008000008000888888800000000000',\n",
       "  False,\n",
       "  False,\n",
       "  3],\n",
       " ['TopBottom2D8_2.json',\n",
       "  '00001000000',\n",
       "  '0000400000000004000000400040000004000400000040000000000400000000004000040000040000400000400004000000',\n",
       "  False,\n",
       "  False,\n",
       "  3],\n",
       " ['InsideOutside10_0.json',\n",
       "  '000000000000077777770060077777770600077444444440077666666660077000770000077000770000077060770000077600770000076777770000067777770000600000000000',\n",
       "  '000000000000077777770000077777770000077000770000077666770000077000770000077000770000077060770000077600770000077777770000077777770000000000000000',\n",
       "  False,\n",
       "  True,\n",
       "  3],\n",
       " ['InsideOutside10_1.json',\n",
       "  '000000000090000004000000088888880090080099998090088000008800008809990800008800000080008099999080008800000880000888888890000000000090000000000000',\n",
       "  '000000000000000000000000088888880000080099998000088000008800008809990800008800000080008099999080008800000880000888888800000000000000000000000000',\n",
       "  False,\n",
       "  True,\n",
       "  3],\n",
       " ['FilledNotFilled8_1.json',\n",
       "  '000000000000000000000000000000000000000000000000000000000000000000000000000000000000000000000000000',\n",
       "  '000000000000000000000000000000000000000000000000000000000000070000000007000000000700000000070000070007000007000700000700070000070000000007000000000700000000070000000',\n",
       "  False,\n",
       "  False,\n",
       "  3],\n",
       " ['FilledNotFilled7_0.json',\n",
       "  '88888888888888',\n",
       "  '000000000000000000000000000000000000000000000000055555500000000055555500000000055555500000000055555500000000055555500000000000000000000000000000000000',\n",
       "  False,\n",
       "  False,\n",
       "  3],\n",
       " ['CompleteShape9_1.json',\n",
       "  '000000000000000000000000000000000000001000000000101000000011111000001111111000111111111011111111111000000000000000000000000000000000',\n",
       "  '000000000000000000000000000000000000001000000000111000000011111000001111111000111111111011111111111000000000000000000000000000000000',\n",
       "  False,\n",
       "  True,\n",
       "  3],\n",
       " ['CompleteShape9_0.json',\n",
       "  '000007777770000777777777000777777777007777777777077777777777777777777777077777777770007777777770000777770000000077000000',\n",
       "  '000007700000000077770000000777777000007777777700077777777770777777777777077777777770007777777700000777777000000077770000000007700000',\n",
       "  False,\n",
       "  False,\n",
       "  3],\n",
       " ['FilledNotFilled8_2.json',\n",
       "  '0000000000000000000000000000000000000000000033333333000000000000000000000000000000000000000000000000000000000000003333333300000000000000000000000000000000',\n",
       "  '0000000000000000000000000000000000000000000033333333000000333333330000003333333300000033333333000000333333330000003333333300000000000000000000000000000000',\n",
       "  False,\n",
       "  True,\n",
       "  3],\n",
       " ['TopBottom2D5_2.json',\n",
       "  '022220000023320000023320444022220454000000444077700000071700000077700000',\n",
       "  '000000000000000000000000000000000000000000000000000000077700000071700000077700000',\n",
       "  False,\n",
       "  False,\n",
       "  3],\n",
       " ['HorizontalVertical1_1.json',\n",
       "  '0999999990',\n",
       "  '00000000000033333333300377777773003333333330000000000000000333000000003330000000033300000000333000000003330000',\n",
       "  False,\n",
       "  False,\n",
       "  3],\n",
       " ['InsideOutside8_2.json',\n",
       "  '000000000000000000000000000000000000060000000000080000030000006000300000000003000000000033333333333000000000000000000000000000000000',\n",
       "  '000000000000000000000000000000000000000000000000000000000006000000000000000060000000000000000000000000000000000000000000000000000000000000000000000000000000',\n",
       "  False,\n",
       "  False,\n",
       "  3],\n",
       " ['SameDifferent3_1.json',\n",
       "  '000000000000000000000000000440000600000440700600000000700600003330777000000000000000004000400000000404000000000040000000000000000000',\n",
       "  '000000000000000000000000000440000000000440000000000000000000000000000000000000000000004000400000000404000000000040000000000000000000000000000000',\n",
       "  False,\n",
       "  False,\n",
       "  3],\n",
       " ['SameDifferent3_2.json',\n",
       "  '60000000000060666000000060000044444406000000000006000000000000777033300000000000000000000000000000000000000000000007777770000000000000',\n",
       "  '600000000000606660000000600000000000600000000000600000000000077700000000000000000000000000000000000000000000000000000000000000777770000000000000',\n",
       "  False,\n",
       "  False,\n",
       "  3],\n",
       " ['ExtractObjects3_0.json', '99999', '7777700770077777', False, False, 3],\n",
       " ['ExtractObjects5_1.json',\n",
       "  '8888888888888888',\n",
       "  '888888333333888888333333888888333333888888333333888888333333888888333333',\n",
       "  False,\n",
       "  False,\n",
       "  3],\n",
       " ['Order6_1.json',\n",
       "  '22220000008888888888',\n",
       "  '0000000000000088000000000000880000000000003333000000000030030000000000300300000000003333000000000044444000000000400040000000004000400000000040004000000000444440000000005555555500000050000005000000500000050000005000000500000050000005000000500000050000005000000500000055555555000000',\n",
       "  False,\n",
       "  False,\n",
       "  3],\n",
       " ['Center1_2.json',\n",
       "  '000000000088888000',\n",
       "  '0000000000000000000000000010000000909090000001010000000000000000100010000090909000010000010000000000001000100010009090900001000001000000000000001000100000000000000001010000000000000000001000077777000000000000000700070000000008000007070700000000808000070007000000880008800777770000008000008000000000000080080080000000000000800000800000000000008800088000000000000000808000000000000000000800000000000000',\n",
       "  False,\n",
       "  False,\n",
       "  3],\n",
       " ['Copy2_2.json',\n",
       "  '000000088888880',\n",
       "  '000000088888880008000080080080080800080808080800080088000880080800080808080008000080080080000000088888880',\n",
       "  False,\n",
       "  False,\n",
       "  3],\n",
       " ['CleanUp6_1.json',\n",
       "  '0000000000444444444044244240204424400000444000020040002000040000000000020000000000444424444044444440004242400000444000020040000020040000000000202022002000',\n",
       "  '000000000444444444044444440004444400000444000000040000000040000000000000000000000444444444044444440004444400000444000000040000000040000000000000000000000',\n",
       "  False,\n",
       "  False,\n",
       "  3],\n",
       " ['AboveBelow10_1.json',\n",
       "  '000000000000000000000000000000000000000000000000000000000000000000000000000000000000600000000000060000000000006000000000',\n",
       "  '000000000000000000000000000000000000000000000000000000000000000000000000000000000000600000000000660000000000666000000000',\n",
       "  False,\n",
       "  True,\n",
       "  3],\n",
       " ['FilledNotFilled7_1.json',\n",
       "  '00000000000000',\n",
       "  '000000000000000000000000000000000000000000000000000000444440000000000000000000004444400000000000000000000000000000000',\n",
       "  False,\n",
       "  False,\n",
       "  3],\n",
       " ['ExtendToBoundary10_0.json',\n",
       "  '0000000000000000007000000000000000700000000000700004440444400004000000400004000000400004000000400004444444400000000000000000000000000',\n",
       "  '000000000000000000000000000007000000000007000000000007000000004447444400004007000400004007000400004007000400004444444400000000000000000000000000',\n",
       "  False,\n",
       "  False,\n",
       "  3],\n",
       " ['InsideOutside8_1.json',\n",
       "  '000000000000000000000000000000000012000000000012000000000000000000000000000000000000000000000000000000',\n",
       "  '0000000000000000000000000400000000000000000040000000000000000000000000000000000000000000000000000000000000000000000000000000000000',\n",
       "  False,\n",
       "  False,\n",
       "  3],\n",
       " ['Center5_0.json',\n",
       "  '',\n",
       "  '0000000000000000020008888888000200000000000000000',\n",
       "  False,\n",
       "  False,\n",
       "  3],\n",
       " ['ExtendToBoundary10_1.json',\n",
       "  '0000000000000004444400000040004000000400040077777777400000400040000004000400000040004000000400000700004444400000000000700',\n",
       "  '0000000000000000000000000044444000000400040000004000400777777774000000400040000004000400000040004000000477777700004444400',\n",
       "  False,\n",
       "  True,\n",
       "  3],\n",
       " ['ExtendToBoundary10_2.json',\n",
       "  '0000000000000444444440044404044000404040040004040400400040000004000400000040004444444400000000000000000000000000000000000',\n",
       "  '0000000000000007000000044474444000404740040004047400400040070004000400700040004444444400000000000000000000000000000000000',\n",
       "  False,\n",
       "  True,\n",
       "  3],\n",
       " ['TopBottom3D4_1.json',\n",
       "  '7777777777',\n",
       "  '0000000000000000000000000000000000000000077777777007000000700700666660077766666000006666600000000000',\n",
       "  False,\n",
       "  False,\n",
       "  3],\n",
       " ['TopBottom3D4_2.json',\n",
       "  '0000000000040000000004000000000400000000545555555004000000000400000000040000000000000000000000000000',\n",
       "  '0000000000040000000004000000000400000000045555555004000000000400000000040000000000000000000000000000',\n",
       "  False,\n",
       "  True,\n",
       "  3],\n",
       " ['SameDifferent3_0.json',\n",
       "  '0000066600000000060000000000000000880440000080040000008804400000000000000044000000004400000000440000',\n",
       "  '0000000000000000000000000000000000000440000000040000000004400000000000000044000000004400000000440000',\n",
       "  False,\n",
       "  True,\n",
       "  3],\n",
       " ['Order10_1.json', '235', '784235', False, False, 3],\n",
       " ['FilledNotFilled7_2.json',\n",
       "  '',\n",
       "  '999999999999999000000000000000000000000000000000000000000000000000000000000999999999999999',\n",
       "  False,\n",
       "  False,\n",
       "  3],\n",
       " ['FilledNotFilled8_0.json',\n",
       "  '000500000000500000000500000000500000000000000000500000000500000000500000000500000000000005',\n",
       "  '0005000000005550000005555500005555555000055555550000555555500005555500000055500000000500000000000000',\n",
       "  False,\n",
       "  False,\n",
       "  3],\n",
       " ['MoveToBoundary10_2.json',\n",
       "  '99999990033343000000000090009090033443000000000999999900343430000000090009090034433000000009000909003333300000000999999900000000000000000000000000000000000000000000000000000000',\n",
       "  '99999990000000000000333439000909000000000000033443999999900000000000003434390009090000000000000344339000909000000000000033333999999900000000000000000000000000000000000000000000000000000000000000000000',\n",
       "  False,\n",
       "  False,\n",
       "  3],\n",
       " ['MoveToBoundary9_0.json',\n",
       "  '444440000',\n",
       "  '000000000000000000000000000000000000000000000000000000000000000044440000000066664444000000006666444400000000666600000000000066660000000000000000000000000000000000000000000000000000000000000000',\n",
       "  False,\n",
       "  False,\n",
       "  3],\n",
       " ['CleanUp5_2.json',\n",
       "  '000000000000000000000',\n",
       "  '300000030000003000000300000030000300003000030000300000030000003000000300000030000300003000030000300000030000003000',\n",
       "  False,\n",
       "  False,\n",
       "  3],\n",
       " ['CleanUp6_2.json',\n",
       "  '055500777003338',\n",
       "  '050000700003000055000770003300055500777003330055550777703333055500777003330055000770003300050000700003000',\n",
       "  False,\n",
       "  False,\n",
       "  3],\n",
       " ['SameDifferent1_0.json',\n",
       "  '3300000000030000000000330333000000003030000000030300000000303004440003330040400000000404044000004040440000044400000000000',\n",
       "  '0000000000000000000000000333000000003030000000030300000000303004440003330040400000000404000000004040000000044400000000000',\n",
       "  False,\n",
       "  True,\n",
       "  3],\n",
       " ['SameDifferent8_1.json', '4444', '0', False, False, 3],\n",
       " ['InsideOutside8_0.json',\n",
       "  '1111111111',\n",
       "  '000000000000000000000000000000050005000000000005000000000000000000000000000000000000',\n",
       "  False,\n",
       "  False,\n",
       "  3],\n",
       " ['SameDifferent5_1.json', '9', '2', False, True, 3],\n",
       " ['FilledNotFilled5_2.json',\n",
       "  '00000000000000333333330',\n",
       "  '000000000000001111111100001111111100001111111100001111111100000111111100011111111100011111111100011111111100001111111100000111111100000000000000',\n",
       "  False,\n",
       "  False,\n",
       "  3],\n",
       " ['Order6_2.json',\n",
       "  '20202020000000000000000000002000002000000000000000000000200000200000000000000000000020202020000000808000000000000000000000000000808000000000000404040000000000000000000000004000400000000000000000000000004040400000000000000000000077777777777777777777111100000011110000001111000000666666000066666600006666660000444444440044444444004444444400017000000000001777777777777202020200000000000000000000020000020000000000000000000002000002000000000000000000000202020200000008080000000000000000000000000008080000000000004040400000000000000000000000040004000000000000000000000000040404',\n",
       "  '808000000000000000000000000080800000000000404040000000000000000000000040004000000000000000000000004040400000000020202020000000000000000000002000002000000000000000000000200000200000000000000000000020202020000000',\n",
       "  False,\n",
       "  False,\n",
       "  3],\n",
       " ['CleanUp5_0.json',\n",
       "  '000000000020002000020060002000600020000606000006060000206020600060006000060000060602020606600020006000000060',\n",
       "  '000000000000000000000060000000600000000606000006060000006000600060006000060000060600000606600000006000000060',\n",
       "  False,\n",
       "  True,\n",
       "  3],\n",
       " ['SameDifferent8_2.json', '88888888', '000000000000', False, False, 3],\n",
       " ['TopBottom3D4_0.json',\n",
       "  '88880000',\n",
       "  '0000000000000000888800008998000089980000888800000000000000000000',\n",
       "  False,\n",
       "  False,\n",
       "  3],\n",
       " ['Order4_1.json',\n",
       "  '5555506666607777708888888888888888888888888888888888888888888888888888888888888888888888888888888888888888888888888888888888888888888888888888888888888888888888888888888888888888888888888888888888888888888888888888888888888888888888888888888888888888888888888888888888888888888888888888888888888888888888888888888888888888888888888888888888888888888888888888888888888888888888888888888888888888888888888888888888888888888888888888888888888888888888888888888888888888888888888888888888888888888888888888888888888888888888888888888888888888888888888888888888888888888888888888888888888888888888888888888888888888888888888888888888888888888888888888888888888888888888888888888888888888888888888888888888888888888888888888888888888888888888888888888888888888888888888888888888888888888888888888888888888888888888888888888888888888888888888888888888888888888888888888888888888888888888888888888',\n",
       "  '5555504444403333301111155555044444033333011111555550444440333330111115555504444403333301111155555044444033333011111555550444440333330111115555504444403333301111155555044444033333011111',\n",
       "  False,\n",
       "  False,\n",
       "  3],\n",
       " ['CleanUp5_1.json',\n",
       "  '100000010050001000000105500050000001000010500100001000010005100000010050005000000100000010',\n",
       "  '100000010000001000000100000010000001000010000100001000010000100000010000001000000100000010',\n",
       "  False,\n",
       "  True,\n",
       "  3],\n",
       " ['MoveToBoundary10_1.json',\n",
       "  '555500005444450000',\n",
       "  '000000000000000000000000000000000000555000000000555555545000000000544445555000000000544445000000000000544445000000000000555555000000000000000000000000000000000000',\n",
       "  False,\n",
       "  False,\n",
       "  3],\n",
       " ['SameDifferent1_2.json',\n",
       "  '0000000000000000000000000066088040660880406608804066088040000000000000000',\n",
       "  '0000000000000000000000000000000660880440066088044006608804400660880440000000000000000000000000000000',\n",
       "  False,\n",
       "  False,\n",
       "  3],\n",
       " ['AboveBelow10_2.json',\n",
       "  '8',\n",
       "  '0000000088888888888888888888888888888888',\n",
       "  False,\n",
       "  False,\n",
       "  3],\n",
       " ['CompleteShape3_1.json',\n",
       "  '0000000000080000000000088',\n",
       "  '000000000000000000000000000000000000000000008888888888000080000000080000800000000800008000000008000080000000080000800000000800008000000008000080000000080000800000000800008888888888000000000000000000000000000000',\n",
       "  False,\n",
       "  False,\n",
       "  3],\n",
       " ['MoveToBoundary9_1.json',\n",
       "  '11111111111',\n",
       "  '0000000000000000000000000000000000000000005000000000000550000000000005555500000055555000000000000550000000000005000000000000000000000000000000000000000000',\n",
       "  False,\n",
       "  False,\n",
       "  3],\n",
       " ['Order5_0.json',\n",
       "  '300003040030000304003',\n",
       "  '300003040030000304003300003000030000300403304003040030400340003300003000030000300043300003000034040304003300003000030000300003',\n",
       "  False,\n",
       "  False,\n",
       "  3],\n",
       " ['Order5_1.json',\n",
       "  '300003000030000304003',\n",
       "  '300003000030400300003300003000030000300043300003000030400300403300003040030000304003300003000030000340003300003000030000300003',\n",
       "  False,\n",
       "  False,\n",
       "  3],\n",
       " ['Order5_2.json',\n",
       "  '300003000030000300043300003000030000300043',\n",
       "  '300003000030004300003300003000030004300003300003000030004304003300003000030000304003300003040030000304003340003040030000304003',\n",
       "  False,\n",
       "  False,\n",
       "  3],\n",
       " ['AboveBelow10_0.json',\n",
       "  '222200000000',\n",
       "  '002222222222202222222222222222222222222',\n",
       "  False,\n",
       "  False,\n",
       "  3],\n",
       " ['FilledNotFilled5_1.json',\n",
       "  '00000000000066666666600666666666006666666660066666666600666666666006666666660066666666600666666666000000000000',\n",
       "  '0000000000006666666660060000000600600000006006000000060060000000600600000006006000000060060000000600666666666000000000000',\n",
       "  False,\n",
       "  False,\n",
       "  3],\n",
       " ['ExtractObjects4_0.json',\n",
       "  '888888888',\n",
       "  '8888888888888888888888888888888888888888888888888',\n",
       "  False,\n",
       "  False,\n",
       "  3],\n",
       " ['SameDifferent5_2.json', '6', '5', False, True, 3],\n",
       " ['CleanUp8_1.json',\n",
       "  '440000030000003400070000000000770000000000004706060003060004900000000000099000090000000002200000090060022000090000000001770000000000001100000903002000033000000000006930000900000000590000009000055440000030000000340007000000000077000000000000470606000306000490000000000009900009000000000220000',\n",
       "  '4400000000000044000000000000007700000000000077000000000000009900000000000099000000000000002200000000000022000000000000001100000000000011000000000000003300000000000033000000000000005500000000000055',\n",
       "  False,\n",
       "  False,\n",
       "  3],\n",
       " ['SameDifferent8_0.json', '444448844884', '8888', False, False, 3],\n",
       " ['CleanUp6_0.json',\n",
       "  '070700070001000000100111001110011100111071700700100000000000070700070001000000100111001110011100111071700700100000000000',\n",
       "  '000000000001000000100111001110011100111001000000100000000000',\n",
       "  False,\n",
       "  False,\n",
       "  3],\n",
       " ['CleanUp7_0.json',\n",
       "  '099900000090900000090900000000888899000888809009888809009090000009090000000000000',\n",
       "  '099900000090900000090900000000000999000000909009990909009090000009090000000000000',\n",
       "  False,\n",
       "  True,\n",
       "  3],\n",
       " ['CleanUp7_1.json',\n",
       "  '00000000000066000660660066008886060088800000888000000000',\n",
       "  '000000000000006600066066000660006066060000660000000060000066000000660000000060000',\n",
       "  False,\n",
       "  False,\n",
       "  3],\n",
       " ['CleanUp7_2.json',\n",
       "  '8880088888800888010101010010001000000000000100100010101000010000',\n",
       "  '000000000001000010010100101001000010000000000000100010001010101000100010000000000',\n",
       "  False,\n",
       "  False,\n",
       "  3],\n",
       " ['TopBottom2D3_1.json',\n",
       "  '0000000000022000003333000333333033333333333333333333333300000000',\n",
       "  '000000000000000022200003330000333000033300003330000333000033300003330000333000033300003330000000000000000',\n",
       "  False,\n",
       "  False,\n",
       "  3],\n",
       " ['Center9_1.json',\n",
       "  '77777777',\n",
       "  '77777777770000000000000000000000000000000000000000000000070000000000000000000000000000000000000000007777777777',\n",
       "  False,\n",
       "  False,\n",
       "  3],\n",
       " ['ExtendToBoundary7_1.json',\n",
       "  '333355555',\n",
       "  '333350000000500000005000000050000000533300005000000050000000500000005000000350000000500000005000',\n",
       "  False,\n",
       "  False,\n",
       "  3],\n",
       " ['ExtendToBoundary7_2.json',\n",
       "  '00005000000000070070000500000000000000000500000000000000000500000000000000000050000000',\n",
       "  '000050000000000000000050000000000000000057777777777007777750000000000000000050000000000000000050000000',\n",
       "  False,\n",
       "  False,\n",
       "  3],\n",
       " ['MoveToBoundary10_0.json',\n",
       "  '1111111111',\n",
       "  '000000000000000000003000000000000700030300000000007070300030000000070007030300000000007070003000000000000700000000000000000000',\n",
       "  False,\n",
       "  False,\n",
       "  3],\n",
       " ['SameDifferent1_1.json',\n",
       "  '000000000000330002203300020000000220000000001100333001003330011000000000000003300022033000200000002200000000011003330010033300110',\n",
       "  '0000000000000000022000000200000002200000000001100000010000000110',\n",
       "  False,\n",
       "  False,\n",
       "  3],\n",
       " ['CompleteShape3_2.json',\n",
       "  '99999999',\n",
       "  '00000000000000000000000000000000000000000000000000099999999990000009000000009000000900000000900000090000000090000009000000009000000999999999900000000000000000000000000000000000',\n",
       "  False,\n",
       "  False,\n",
       "  3],\n",
       " ['MoveToBoundary9_2.json',\n",
       "  '7777703030303000000',\n",
       "  '000000000000000000007777700000000303030377777000000000000000777770000000030000037777700000000000000000000000000003030303',\n",
       "  False,\n",
       "  False,\n",
       "  3],\n",
       " ['Order10_0.json', '246', '246', True, True, 1],\n",
       " ['Order10_2.json', '743', '743', True, True, 1],\n",
       " ['ExtendToBoundary7_0.json',\n",
       "  '555555556',\n",
       "  '566666666600005000000000000050000000000000566666666666665000000000000050000000000000',\n",
       "  False,\n",
       "  False,\n",
       "  3],\n",
       " ['CleanUp1_0.json',\n",
       "  '1111111111100700000000111111171110000000000011111111111000000000001171111711100000070007111111111110070000000011111117111',\n",
       "  '1111111111100000000000111111111110000000000011111111111000000000001111111111100000000000111111111110000000000011111111111',\n",
       "  False,\n",
       "  True,\n",
       "  3],\n",
       " ['TopBottom2D3_0.json',\n",
       "  '000000000005555550055555550555555550555555550555555550005555550000000000',\n",
       "  '000000000000000000002222200005555500005555500005555500005555500000000000000000000',\n",
       "  False,\n",
       "  False,\n",
       "  3],\n",
       " ['ExtractObjects4_2.json', '333', '33333333333333333333', False, False, 3],\n",
       " ['Order6_0.json',\n",
       "  '0000000000400000000033333330003333333000333333300033333330003333333000333333300077000000007700000000666660000066666000006666600000666660000012345',\n",
       "  '00000000004000000000770000000077000000006666600000666660000066666000006666600000333333300033333330003333333000333333300033333330003333333000',\n",
       "  False,\n",
       "  False,\n",
       "  3],\n",
       " ['FilledNotFilled6_2.json',\n",
       "  '0000000055555550',\n",
       "  '00000000000000000001111110000000111111100000111111111100001111111111000011111111110000001111111100000111111111000011111111110000111111111100000000000000000000000000000000007777777770000070000000700000700000007000007000000070000070000000700000777777777000000000000000',\n",
       "  False,\n",
       "  False,\n",
       "  3],\n",
       " ['CleanUp8_2.json',\n",
       "  '77000000000011000000000044000000003300000000005500000000006600000000770000000088',\n",
       "  '111100000000111100000000111100000000111100000000000044440000000044440000000044440000000044440000000000008888000000008888000000008888000000008888',\n",
       "  False,\n",
       "  False,\n",
       "  3],\n",
       " ['AboveBelow3_0.json',\n",
       "  '5555555',\n",
       "  '000000000000000000000000000001111100005555500005555500005555500005555500005555500000000000000000000001111100',\n",
       "  False,\n",
       "  False,\n",
       "  3],\n",
       " ['TopBottom2D10_1.json',\n",
       "  '00000000000001110000000111000000022200000002220000000333300000003333000000033330000004444440000444444000044444400',\n",
       "  '0000000000004444440000444444000044444400000333300000033330000003333000000333300000002200000000220000',\n",
       "  False,\n",
       "  False,\n",
       "  3],\n",
       " ['AboveBelow6_1.json',\n",
       "  '00000000000000000000000000000000000000088888888888888888888822222222288888888888888888888880000000000000000000000000000000000000000',\n",
       "  '0000000000000000000000000000000000000008888888888888888888882222222228888222222222888822222000000000000000000000000000000000000000',\n",
       "  False,\n",
       "  False,\n",
       "  3],\n",
       " ['TopBottom2D3_2.json',\n",
       "  '555555555',\n",
       "  '000000000000000000000000002222222200000001100000000000000000',\n",
       "  False,\n",
       "  False,\n",
       "  3],\n",
       " ['AboveBelow3_2.json',\n",
       "  '5555555000',\n",
       "  '0000000000000000000000055550000005555000000555500000055550000005555000000000000000000000000000000000',\n",
       "  False,\n",
       "  False,\n",
       "  3],\n",
       " ['ExtractObjects3_1.json',\n",
       "  '80008',\n",
       "  '555555500005500005500005500005555555',\n",
       "  False,\n",
       "  False,\n",
       "  3],\n",
       " ['FilledNotFilled5_0.json',\n",
       "  '000444000004000400040000040400000004444444444000000000',\n",
       "  '000444000004444400044444440444444444444444444000000000',\n",
       "  False,\n",
       "  True,\n",
       "  3],\n",
       " ['SameDifferent5_0.json', '6', '8', False, True, 3],\n",
       " ['Order4_2.json',\n",
       "  '888033307770555888033307770555888033307770555888033307770555888033307770555888033307770555888033307770555',\n",
       "  '000000000000000000000000000000000000000000000555088803330777555088803330777555088803330777',\n",
       "  False,\n",
       "  False,\n",
       "  3],\n",
       " ['Center9_2.json',\n",
       "  '5555555000000000000002000000555555500000000000000',\n",
       "  '5555555000000020000000000000555555500000000000000',\n",
       "  False,\n",
       "  True,\n",
       "  3],\n",
       " ['Center1_1.json',\n",
       "  '0666660000006',\n",
       "  '000000000000000000000000000000066600006666666066600006000006066600006000006000000006006006000000006000006066666006000006060006006666666060606000000000060006000000000066666000000000000000000000000000000000000000000000000000000',\n",
       "  False,\n",
       "  False,\n",
       "  3],\n",
       " ['CompleteShape4_1.json',\n",
       "  '88888888',\n",
       "  '000222222000000000000000000000000000000000000000000000000000000000000000000000000000000000000000000000000000000002222220',\n",
       "  False,\n",
       "  False,\n",
       "  3],\n",
       " ['CompleteShape8_2.json',\n",
       "  '0000000000000222000000000050500000000000000000000000006660000000666000000066600000000000000000000000',\n",
       "  '000000000000000000000000000000000000000000020000000020200000020002000000202005000002005050000005000500000050500000000500',\n",
       "  False,\n",
       "  False,\n",
       "  3],\n",
       " ['AboveBelow4_0.json',\n",
       "  '009333000000000000093330666666666666000000000000000000000000000000333333000000000000000000000000000000000000',\n",
       "  '000000000000000133330000000000000000000000000000000000000133111111111111000000000000033333100000000000000331',\n",
       "  False,\n",
       "  True,\n",
       "  3],\n",
       " ['CleanUp1_2.json',\n",
       "  '4646464684',\n",
       "  '464646464464646464464646464464646464464646464464646464464646464464646464464646464',\n",
       "  False,\n",
       "  False,\n",
       "  3],\n",
       " ['FilledNotFilled1_1.json', '33333333', '8', False, False, 3],\n",
       " ['Order2_0.json',\n",
       "  '777777777',\n",
       "  '000000000000000000000000000000000000000000000000000700000000007700000000007700000000077700000000077700000000777700000000',\n",
       "  False,\n",
       "  False,\n",
       "  3],\n",
       " ['AboveBelow3_1.json',\n",
       "  '000011110',\n",
       "  '000000000000011100004444400004000400004000400004000400004444400000000000000111100',\n",
       "  False,\n",
       "  False,\n",
       "  3],\n",
       " ['ExtractObjects4_1.json', '555000', '555555', False, True, 3],\n",
       " ['Order4_0.json',\n",
       "  '88803330555',\n",
       "  '000000000703010206703010206703010206703010206703010206703010206703010206',\n",
       "  False,\n",
       "  False,\n",
       "  3],\n",
       " ['Center9_0.json',\n",
       "  '030803',\n",
       "  '030003030003030803030003030003030003',\n",
       "  False,\n",
       "  False,\n",
       "  3],\n",
       " ['TopBottom3D5_1.json', '1111111', '444444444444', False, False, 3],\n",
       " ['TopBottom3D1_1.json',\n",
       "  '00200020000020002000002000200008888888880088888888800888888888008888888880088888888800020002000',\n",
       "  '0020002000002000200000200020000828882880082888288008288828800828882880082888288008288828800020002000',\n",
       "  False,\n",
       "  False,\n",
       "  3],\n",
       " ['TopBottom3D1_2.json',\n",
       "  '044400444403333303333333330333333333033333333303333044400444400000034443000003444300000344430000034443',\n",
       "  '0444000000344430000034443000003444300000344430000004440044400000033333000003333300000333330000033333',\n",
       "  False,\n",
       "  False,\n",
       "  3],\n",
       " ['TopBottom3D3_2.json',\n",
       "  '9999999',\n",
       "  '9000000000090000000000900000000009000000000090000000000900000000009000000000090000000000900000000009',\n",
       "  False,\n",
       "  False,\n",
       "  3],\n",
       " ['FilledNotFilled1_2.json', '9', '1', False, True, 3],\n",
       " ['ExtendToBoundary5_0.json',\n",
       "  '70000',\n",
       "  '700000007070000070007000700000707000000070000000707000007000700070000070700000007',\n",
       "  False,\n",
       "  False,\n",
       "  3],\n",
       " ['ExtendToBoundary5_1.json',\n",
       "  '70000',\n",
       "  '000000007000000070700000700070007000007070000000700000007070000070007000700000700',\n",
       "  False,\n",
       "  False,\n",
       "  3],\n",
       " ['CleanUp8_0.json',\n",
       "  '3300030009330300000000220000600022009000000065006004405500000000007700060000476006004000660000000066',\n",
       "  '3300000000330000000000220000000022000000000055000000005500000000007700000000770000000000660000000066',\n",
       "  False,\n",
       "  True,\n",
       "  3],\n",
       " ['CompleteShape3_0.json',\n",
       "  '777777777',\n",
       "  '0000000000000000000007777777700700000070070000007007000000700700000070070000007007000000700777777770',\n",
       "  False,\n",
       "  False,\n",
       "  3],\n",
       " ['CompleteShape4_0.json',\n",
       "  '0333333333033333333333333333333333333333333333333333333333333333333333333333333333333333333',\n",
       "  '0000000000000000000003000000300300000030030000003003000000300000000000000000000000000000000000000000',\n",
       "  False,\n",
       "  False,\n",
       "  3],\n",
       " ['CompleteShape8_0.json',\n",
       "  '00000000000008880000',\n",
       "  '0000000000000000000007070000000700000000077700000000000000000000000000000080800000008000000000888000',\n",
       "  False,\n",
       "  False,\n",
       "  3],\n",
       " ['CompleteShape8_1.json',\n",
       "  '00000000000008880000',\n",
       "  '0000000000000000000000300000000303000000003000008000000008080090000080090900000000900000000000000000',\n",
       "  False,\n",
       "  False,\n",
       "  3],\n",
       " ['HorizontalVertical10_0.json',\n",
       "  '999999999900000000000000000000000000000000000000000000000000000000000033333000004444400000555550000011111000000000000000',\n",
       "  '0000000008000000000800000000080000000008000000000833333000084444400008555550000811111000080000000008',\n",
       "  False,\n",
       "  False,\n",
       "  3],\n",
       " ['HorizontalVertical10_1.json',\n",
       "  '0000000009',\n",
       "  '8888888888000000000000000000000000000000000000000000023000000002300000000230000000000000000000000000',\n",
       "  False,\n",
       "  False,\n",
       "  3],\n",
       " ['HorizontalVertical10_2.json',\n",
       "  '8888888888000000000000000000000078910000007891000000789100000078910000000000000000000000000000000000',\n",
       "  '0000000008000000000800000000080000000008000000000800000000080044444448006666666800000000080000000008',\n",
       "  False,\n",
       "  True,\n",
       "  3],\n",
       " ['MoveToBoundary3_0.json',\n",
       "  '0000000000000000000000000000000222000000020200000002220000000000000000000000000000000000000000000000',\n",
       "  '0000000000000000000000000000000000000222000000020200000002220000000000000000000000000000000000000000',\n",
       "  False,\n",
       "  True,\n",
       "  3],\n",
       " ['MoveToBoundary3_1.json',\n",
       "  '6660000000',\n",
       "  '0000000000000000000000000000000000000222000000000200000002220000000000000000000000000000000000000000',\n",
       "  False,\n",
       "  False,\n",
       "  3],\n",
       " ['MoveToBoundary3_2.json',\n",
       "  '222222220',\n",
       "  '0000000000000000000000222222220000000000000000000000000000000000022222000000000000000000000000000000',\n",
       "  False,\n",
       "  False,\n",
       "  3],\n",
       " ['MoveToBoundary4_0.json',\n",
       "  '6666000000',\n",
       "  '0000000000000000000000000000000060000000666000000000600000006060000000000000000000000000000000000000',\n",
       "  False,\n",
       "  False,\n",
       "  3],\n",
       " ['MoveToBoundary4_1.json',\n",
       "  '666666666',\n",
       "  '0000000000666600000000060000000006000000000600000000060000000666000000000000000000000000000000000000',\n",
       "  False,\n",
       "  False,\n",
       "  3],\n",
       " ['MoveToBoundary4_2.json',\n",
       "  '666666666',\n",
       "  '0000000000000000000000000000006666666660000000000060000000006000000000600000000060000000006000000000',\n",
       "  False,\n",
       "  False,\n",
       "  3],\n",
       " ['MoveToBoundary5_0.json',\n",
       "  '000000000000000000000000000000000000000000000000000000000000000000000000000000000000000000',\n",
       "  '0004000000000400000000040000000004000000004440000000000000000000000000000000000000000000000000000000',\n",
       "  False,\n",
       "  False,\n",
       "  3],\n",
       " ['MoveToBoundary5_1.json',\n",
       "  '000000000000000000000000000000000000000000000000000000000000000000000000000000000000000000',\n",
       "  '0000000000000000000000000200000000020000000002000022222200000000020000000002000000000200000000000000',\n",
       "  False,\n",
       "  False,\n",
       "  3],\n",
       " ['MoveToBoundary5_2.json',\n",
       "  '00000000000088880000008000000000000000000000888800000000080000000008000000000000',\n",
       "  '0000000000000000800000000088880000008000000000000000080000008888000000000800000000000000000000000000',\n",
       "  False,\n",
       "  False,\n",
       "  3],\n",
       " ['SameDifferent4_0.json',\n",
       "  '000000333300001000000000000000000000000000000000000000000000077777700000000000000000000000',\n",
       "  '0000000000000010000000010000000010000500010000500010000500000000500000000000000000000000000000000000',\n",
       "  False,\n",
       "  False,\n",
       "  3],\n",
       " ['SameDifferent4_1.json',\n",
       "  '0000000000002000000000200000000000000000000070000000007000000000700000000070000000000000000000000000',\n",
       "  '0000000000002000000000200000000000000000000070000000007000000000700000000070000000000000000000000000',\n",
       "  True,\n",
       "  True,\n",
       "  2],\n",
       " ['SameDifferent4_2.json',\n",
       "  '3000400009',\n",
       "  '3000400000300040000030004000003000000000300000000030000000003000000000300000000030000000003000000000',\n",
       "  False,\n",
       "  False,\n",
       "  3],\n",
       " ['Order2_1.json',\n",
       "  '0111000000011100000000000111100000000000000000000000100000000010000000000000100000000000000000000000',\n",
       "  '0000000000000000000000000000000000000000000000000000000000000001000000000100000001110000001111000000',\n",
       "  False,\n",
       "  True,\n",
       "  3],\n",
       " ['TopBottom2D10_2.json',\n",
       "  '1111111',\n",
       "  '00000000000000000000000000000044400004440000110000011000',\n",
       "  False,\n",
       "  False,\n",
       "  3],\n",
       " ['TopBottom2D10_0.json',\n",
       "  '00110000110000220000220000660000660000770000770000000000111100',\n",
       "  '007700007700002200002200006600006600001100001100000000',\n",
       "  False,\n",
       "  False,\n",
       "  3],\n",
       " ['Order2_2.json',\n",
       "  '00000055000',\n",
       "  '000000000000000000000000000000000000000000000000500000000555000000055550000005555500000055555000000',\n",
       "  False,\n",
       "  False,\n",
       "  3],\n",
       " ['Count3_0.json', '3333', '33333', False, False, 3],\n",
       " ['Count4_0.json', '0000', '0000', True, True, 1],\n",
       " ['MoveToBoundary1_1.json',\n",
       "  '000111020000110020000100020000110020000111020000110020000100020000110020000111020000110020000100020000110020000111020',\n",
       "  '000011120000011020000010020000011020000011120000011020000010020000011020000011120',\n",
       "  False,\n",
       "  False,\n",
       "  3],\n",
       " ['MoveToBoundary1_2.json',\n",
       "  '2222222',\n",
       "  '000000000000000000000000000000000000000000000010001000101010101000100010222222222',\n",
       "  False,\n",
       "  False,\n",
       "  3],\n",
       " ['AboveBelow6_0.json',\n",
       "  '00000000000000000000000033333302203333330330222222033000000003300000000330000000',\n",
       "  '00000000000000000000000033333302203333330220222222022000000002200000000220000000',\n",
       "  False,\n",
       "  True,\n",
       "  3],\n",
       " ['TopBottom2D7_1.json', '', '4444', False, False, 3],\n",
       " ['TopBottom2D7_2.json', '3333333', '777777777777777', False, False, 3],\n",
       " ['CleanUp2_0.json',\n",
       "  '1',\n",
       "  '111111111111111111111111111111111111111111111111111111111111111111111111111111111111111111111111111111111111111111111111',\n",
       "  False,\n",
       "  False,\n",
       "  3],\n",
       " ['Copy7_1.json',\n",
       "  '393300444400393000444003900004440030000000400000000000000000000000000000000000',\n",
       "  '000000000000300000000400390000009400393000049400393300449400393000049400390000009400300000000400000000000000000000000000000000000000',\n",
       "  False,\n",
       "  False,\n",
       "  3],\n",
       " ['ExtractObjects3_2.json',\n",
       "  '9999999',\n",
       "  '999999999999900000000009900000000009900000000009900000000009900000000009900000000009900000000009900000000009900000000009900000000009999999999999',\n",
       "  False,\n",
       "  False,\n",
       "  3],\n",
       " ['ExtractObjects9_1.json',\n",
       "  '8888333188888888',\n",
       "  '10001111111101101110',\n",
       "  False,\n",
       "  False,\n",
       "  3],\n",
       " ['TopBottom3D5_0.json', '888666366', '4444044404444444', False, False, 3],\n",
       " ['CleanUp1_1.json',\n",
       "  '88888899999988882899999988888899999988888899999988882899999988888899999901342341117223411821939',\n",
       "  '888888999999888888999999888888999999',\n",
       "  False,\n",
       "  False,\n",
       "  3],\n",
       " ['ExtractObjects1_0.json',\n",
       "  '8848',\n",
       "  '88888880008000000800000080000008000',\n",
       "  False,\n",
       "  False,\n",
       "  3],\n",
       " ['ExtractObjects1_1.json',\n",
       "  '333',\n",
       "  '2222220002200022000222222',\n",
       "  False,\n",
       "  False,\n",
       "  3],\n",
       " ['ExtractObjects1_2.json', '773', '7777777', False, False, 3],\n",
       " ['AboveBelow4_1.json',\n",
       "  '0033300000',\n",
       "  '000034000000000000003333333333000000000000004444430000000000',\n",
       "  False,\n",
       "  False,\n",
       "  3],\n",
       " ['AboveBelow6_2.json',\n",
       "  '000000000000000000000220002111000111100011110001111000111100011',\n",
       "  '000000000000000000000220002122000212200021220002122000212200021',\n",
       "  False,\n",
       "  True,\n",
       "  3],\n",
       " ['TopBottom3D1_0.json',\n",
       "  '000500000888888008888880055555500000000000000000000000000',\n",
       "  '0000000000050000088588000885880000050000000000000000000000000000',\n",
       "  False,\n",
       "  False,\n",
       "  3],\n",
       " ['TopBottom3D3_0.json',\n",
       "  '0000000000050000088588000885880000050000000000000000000000000000',\n",
       "  '0000000000000000088888000888880000000000000000000000000000000000',\n",
       "  False,\n",
       "  True,\n",
       "  3],\n",
       " ['AboveBelow4_2.json',\n",
       "  '06666666666066666666665555555555506666666666000000000000666666666606666666666555555555550666666666600000000000',\n",
       "  '0000000000005666666666555555555550666666666500000000000',\n",
       "  False,\n",
       "  False,\n",
       "  3],\n",
       " ['ExtractObjects6_2.json',\n",
       "  '99999999999',\n",
       "  '2222222222222222',\n",
       "  False,\n",
       "  False,\n",
       "  3],\n",
       " ['TopBottom2D1_1.json', '2222', '4444444444', False, False, 3],\n",
       " ['Center4_2.json',\n",
       "  '000000000000000800000000077770000000077770006600077770006600000004000000000000000000000022200000000022200000000002220000000000000000000',\n",
       "  '0000000000000000000008000007777000000000777700000000077770006600007777000660000000000000000000000000000000002220000000000222000000000022200000000000000000000000000000000',\n",
       "  False,\n",
       "  False,\n",
       "  3],\n",
       " ['Count6_0.json', '8', '4440000', False, False, 3],\n",
       " ['ExtractObjects9_0.json', '97775', '77777770777000777777', False, False, 3],\n",
       " ['CompleteShape1_0.json',\n",
       "  '000000000000000000000000020000000040400000040004000040000040020000000000400000400004000400000040400000000200000000000000',\n",
       "  '000000000000000000000000020000000040400000040004000040000040020000000200400000400004000400000040400000000200000000000000',\n",
       "  False,\n",
       "  True,\n",
       "  3],\n",
       " ['FilledNotFilled2_0.json',\n",
       "  '00000088800000005555',\n",
       "  '000000000000000000',\n",
       "  False,\n",
       "  False,\n",
       "  3],\n",
       " ['TopBottom3D3_1.json',\n",
       "  '0555000055500075557770555000055500000000000000000055500005550007555777055500000000000000000',\n",
       "  '0000000000000000000007777777000000000000000000000',\n",
       "  False,\n",
       "  False,\n",
       "  3],\n",
       " ['Count7_0.json', '666', '222222', False, False, 3],\n",
       " ['TopBottom2D7_0.json', '2', '11', False, False, 3],\n",
       " ['Count8_0.json', '4', '22222', False, False, 3],\n",
       " ['MoveToBoundary1_0.json',\n",
       "  '000020000020111120',\n",
       "  '000020000020011120000020000020000020',\n",
       "  False,\n",
       "  False,\n",
       "  3],\n",
       " ['Center4_1.json',\n",
       "  '000000000000000000000000111111100000000000000000000000000000006600000000006600000000000000000000444444000000400004000000444444000000000000000',\n",
       "  '000000000000000000000000001111111100000000000000000000000000000000000000000000000000000000000000000444444000000400004000000444444000000000000000',\n",
       "  False,\n",
       "  False,\n",
       "  3],\n",
       " ['CompleteShape1_2.json',\n",
       "  '0000000000000000000000022202220002220222000000000000022202220002220222000000000000022200000002220000',\n",
       "  '0000000000000000000000022202220002220222000000000000022202220002220222000000000000022202220002220222',\n",
       "  False,\n",
       "  True,\n",
       "  3],\n",
       " ['CompleteShape4_2.json',\n",
       "  '055500',\n",
       "  '000000005000000000005000000000000000',\n",
       "  False,\n",
       "  False,\n",
       "  3],\n",
       " ['ExtendToBoundary1_0.json',\n",
       "  '0666666606666666066666660666666606666666066666660000000000000000000000000000000000000000',\n",
       "  '000000000666666606666666066666660666666606666666066666660000600000006000000060000000600000006000',\n",
       "  False,\n",
       "  False,\n",
       "  3],\n",
       " ['InsideOutside9_2.json',\n",
       "  '0000040000002000020002000000200020400200020000002000240002000200040020002000020040004000000000000400',\n",
       "  '0000000000002000020002000000200020400200020000002000240002000200040020002000020000000000000000000000',\n",
       "  False,\n",
       "  True,\n",
       "  3],\n",
       " ['InsideOutside9_1.json',\n",
       "  '200002000000000000000000000000000000000000000000000000000000000000000000000000000000000000000000000000000000000000000000000000000000000000000000000000000000000000000000000000000000000000000000000000000000000000000000000000000000000000000000000000000000000000000000000000000000000000000000000000000000000000000000000000000000000000000000000000000000000000000000000000000000000000000000000000000000000000000000000000000000000000000000000000000000000000000000000000000000000000000000000000000000000000000000000000000000000000000000000000000000000000000000000000000000000000000000000000000000000000000000000000000000000000000000000000000000000000000000000000000000000000000000000000000000000000000000000000000000000000000000000000000000000000000000000000000000000000000000000000000000000000000000000000000000000000000000000000000000000000000000000000000000000000000000000000000000000000000000000000000000000000000000000000000000000000000000000000000000000000000000000000000000000000000000000000000000000000000000000000000000',\n",
       "  '200002000000000000200402000000000000200002000000000000200402000000000000200002000000000000000000000000',\n",
       "  False,\n",
       "  False,\n",
       "  3],\n",
       " ['Count7_1.json', '333333333333', '22', False, False, 3],\n",
       " ['FilledNotFilled2_1.json',\n",
       "  '5555555',\n",
       "  '0000000000000000000000000000',\n",
       "  False,\n",
       "  False,\n",
       "  3],\n",
       " ['Count9_2.json', '0000', '0000', True, True, 1],\n",
       " ['Count8_1.json', '8', '2', False, True, 3],\n",
       " ['FilledNotFilled6_0.json',\n",
       "  '00000000000002222222000002000002000002000002000002222222000000000000000000777777700000066666660000006666666000000666666600000000000000000',\n",
       "  '000000000000022222220000022222220000022222220000022222220000000000000000000000077770006660070070006060070070006660077770000000000000000000000000',\n",
       "  False,\n",
       "  False,\n",
       "  3],\n",
       " ['ExtendToBoundary5_2.json', '700', '700070007', False, False, 3],\n",
       " ['CleanUp2_1.json',\n",
       "  '000990000000077777777900777777700007797777000077777970900000000000',\n",
       "  '000000000000077777770000777777700007777777000077777770000000000000',\n",
       "  False,\n",
       "  True,\n",
       "  3],\n",
       " ['ExtractObjects10_0.json',\n",
       "  '8888777778888',\n",
       "  '7777777777774777777777777',\n",
       "  False,\n",
       "  False,\n",
       "  3],\n",
       " ['InsideOutside9_0.json',\n",
       "  '222222004040400000222222000000000400000000040000000400000000000000044000004440000000',\n",
       "  '222222004040400000222222000000000000000000000000000000000000000000000000000000000000',\n",
       "  False,\n",
       "  True,\n",
       "  3],\n",
       " ['InsideOutside1_0.json', '000033030', '0000', False, False, 3],\n",
       " ['ExtractObjects7_2.json',\n",
       "  '9999999999',\n",
       "  '666666666666666666666666',\n",
       "  False,\n",
       "  False,\n",
       "  3],\n",
       " ['InsideOutside1_1.json', '113', '00000', False, False, 3],\n",
       " ['Count1_0.json', '333333', '400000', False, True, 3],\n",
       " ['Center1_0.json',\n",
       "  '0000000000088800000008080888880888080008000008000800000800080000088888000000000000000000000000000000',\n",
       "  '0000000000000000000000000222220000002000200000020202000000200020000002222200000000000000000000000000000000000000000000000',\n",
       "  False,\n",
       "  False,\n",
       "  3],\n",
       " ['TopBottom3D5_2.json',\n",
       "  '666636666',\n",
       "  '300000030000003000000300000030000003',\n",
       "  False,\n",
       "  False,\n",
       "  3],\n",
       " ['FilledNotFilled3_0.json', '85858585', '33', False, False, 3],\n",
       " ['CompleteShape1_1.json',\n",
       "  '000000000000000000005555500005500500005555500005555500005555500000000000000000000',\n",
       "  '000000000000000000003333300003333300003333300003333300003333300000000000000000000',\n",
       "  False,\n",
       "  True,\n",
       "  3],\n",
       " ['ExtendToBoundary1_1.json',\n",
       "  '000000000000',\n",
       "  '00000000000000111111101111100011100000100000010000001000000100000010000001000',\n",
       "  False,\n",
       "  False,\n",
       "  3],\n",
       " ['Copy7_0.json',\n",
       "  '111111111112221111111111100000000007777777777777777777777777',\n",
       "  '111111111112221111111111100000000007777777777722277777777777',\n",
       "  False,\n",
       "  True,\n",
       "  3],\n",
       " ['Copy7_2.json',\n",
       "  '877780200028777802000287778020002877780200028777802000288888022222',\n",
       "  '888880222228777802777287778027772877780277728777802777288888022222',\n",
       "  False,\n",
       "  True,\n",
       "  3],\n",
       " ['Count1_1.json', '4446666', '444400', False, False, 3],\n",
       " ['FilledNotFilled1_0.json', '0', '3', False, True, 3],\n",
       " ['FilledNotFilled2_2.json', '111111110', '00000000', False, False, 3],\n",
       " ['ExtractObjects9_2.json',\n",
       "  '99998',\n",
       "  '00800000880000888888808800000080000',\n",
       "  False,\n",
       "  False,\n",
       "  3],\n",
       " ['TopBottom3D2_2.json',\n",
       "  '000000000000060600005556555555000606000055565555550006060000000000000000000000000000000000000000000000060600005556555555000606000055565555550006060000000000000000000000000000000000',\n",
       "  '000000000000060000005556555555000600000055565555550006000000000000000000000000000000000000',\n",
       "  False,\n",
       "  False,\n",
       "  3],\n",
       " ['ExtractObjects6_0.json', '1111112333', '88885555', False, False, 3],\n",
       " ['TopBottom2D1_0.json', '444', '444444', False, False, 3],\n",
       " ['CleanUp2_2.json',\n",
       "  '',\n",
       "  '000000000000000000000000000000000000',\n",
       "  False,\n",
       "  False,\n",
       "  3],\n",
       " ['FilledNotFilled3_1.json', '1', '2222222222', False, False, 3],\n",
       " ['FilledNotFilled3_2.json',\n",
       "  '1',\n",
       "  '4444444444444444444444444444444444444444444444444',\n",
       "  False,\n",
       "  False,\n",
       "  3],\n",
       " ['ExtractObjects7_1.json',\n",
       "  '111155333311115530031001553003100155333311115500000000550000',\n",
       "  '11113333100130031001300311113333',\n",
       "  False,\n",
       "  False,\n",
       "  3],\n",
       " ['TopBottom3D2_1.json',\n",
       "  '000000000003300000999999999999999999003300000003300000003300000003300000000000000',\n",
       "  '000000000000000000999999999999999999000000000000000000000000000000000000000000000',\n",
       "  False,\n",
       "  True,\n",
       "  3],\n",
       " ['TopBottom2D1_2.json', '33333', '333303333', False, False, 3],\n",
       " ['ExtendToBoundary1_2.json',\n",
       "  '01212121212121212',\n",
       "  '000000000040000000044444444040000000000000000000000000',\n",
       "  False,\n",
       "  False,\n",
       "  3],\n",
       " ['AboveBelow5_0.json',\n",
       "  '00060005',\n",
       "  '0006000000060000000600000005000660050006600500065005000550050005',\n",
       "  False,\n",
       "  False,\n",
       "  3],\n",
       " ['Center10_1.json',\n",
       "  '055000050000001000000500005500000000000055',\n",
       "  '055000050000000000000100000000000005000055000000',\n",
       "  False,\n",
       "  False,\n",
       "  3],\n",
       " ['Count1_2.json', '333333333', '444000', False, False, 3],\n",
       " ['AboveBelow5_1.json',\n",
       "  '188888188888182888188888188888188888288888188888188288',\n",
       "  '000000282200282200282200288200288200288200288200888200888200',\n",
       "  False,\n",
       "  False,\n",
       "  3],\n",
       " ['Count9_0.json', '8888', '00', False, False, 3],\n",
       " ['Count9_1.json', '7000700070000000000000000000', '0', False, False, 3],\n",
       " ['FilledNotFilled6_1.json',\n",
       "  '0000880000000800800000800008000800000080888888888833333333333333333333033333330000333333000003333000123456708',\n",
       "  '0000880000000888800000888888000888888880888888888833333333333000000003030000003000300003000003333000',\n",
       "  False,\n",
       "  False,\n",
       "  3],\n",
       " ['ExtractObjects7_0.json',\n",
       "  '111111111122222888882222200000',\n",
       "  '77772222',\n",
       "  False,\n",
       "  False,\n",
       "  3],\n",
       " ['Order3_1.json',\n",
       "  '4444440444444888888044444444444404444444444440888884444444044444444444404444448888880444444444444044444444444408888844444440444444',\n",
       "  '000000000000044444404444444444440888888444444044444488888404444444444440444444',\n",
       "  False,\n",
       "  False,\n",
       "  3],\n",
       " ['Order3_2.json',\n",
       "  '2202202202200220220220020002022022002002002002200200220220220220022022022022002202202200200020220220020020020022002002202202202200',\n",
       "  '000000000000022022022022002202202200200220220020020022020020002002202202202200',\n",
       "  False,\n",
       "  False,\n",
       "  3],\n",
       " ['Center10_0.json',\n",
       "  '055050',\n",
       "  '000000000000055000051500005500000000',\n",
       "  False,\n",
       "  False,\n",
       "  3],\n",
       " ['Center10_2.json',\n",
       "  '550000',\n",
       "  '000055000005000100050000055000000000',\n",
       "  False,\n",
       "  False,\n",
       "  3],\n",
       " ['ExtractObjects8_2.json',\n",
       "  '55055555555',\n",
       "  '050555555555555555',\n",
       "  False,\n",
       "  False,\n",
       "  3],\n",
       " ['ExtractObjects6_1.json',\n",
       "  '02222222',\n",
       "  '770001000770011100770111110771111111',\n",
       "  False,\n",
       "  False,\n",
       "  3],\n",
       " ['ExtractObjects10_2.json',\n",
       "  '55551115555111555511155551915555191555111155511115551111',\n",
       "  '111111111191191111111111',\n",
       "  False,\n",
       "  False,\n",
       "  3],\n",
       " ['InsideOutside7_0.json', '82', '1113', False, False, 3],\n",
       " ['InsideOutside7_1.json', '53', '11113333', False, False, 3],\n",
       " ['InsideOutside7_2.json', '63', '1', False, False, 3],\n",
       " ['AboveBelow5_2.json',\n",
       "  '999999999999',\n",
       "  '111111111111111111111111111111111111111111111111',\n",
       "  False,\n",
       "  False,\n",
       "  3],\n",
       " ['Count10_1.json', '0003000300030003', '00', False, False, 3],\n",
       " ['Order3_0.json',\n",
       "  '11111111151101101105100110110110051011011111111115',\n",
       "  '000000000000000000000011011051015110110110511105105101111011011051',\n",
       "  False,\n",
       "  False,\n",
       "  3],\n",
       " ['TopBottom3D2_0.json',\n",
       "  '0101002010100155555530101002010100155555530101002',\n",
       "  '0000001000000155555510000001000000155555510000001',\n",
       "  False,\n",
       "  True,\n",
       "  3],\n",
       " ['Count3_1.json', '5', '33', False, False, 3],\n",
       " ['ExtendToBoundary4_0.json',\n",
       "  '006077',\n",
       "  '000000000000006000006000006777006000',\n",
       "  False,\n",
       "  False,\n",
       "  3],\n",
       " ['ExtendToBoundary4_1.json',\n",
       "  '000800000000033333000000000000000000000800000000033333000000000000000000',\n",
       "  '000800000800033333000000000000000000',\n",
       "  False,\n",
       "  False,\n",
       "  3],\n",
       " ['ExtendToBoundary4_2.json',\n",
       "  '280800080800080080008000080080800800',\n",
       "  '200008020080002800008000080000800000',\n",
       "  False,\n",
       "  True,\n",
       "  3],\n",
       " ['MoveToBoundary6_0.json',\n",
       "  '100000',\n",
       "  '000000000000000000000000000001000000',\n",
       "  False,\n",
       "  False,\n",
       "  3],\n",
       " ['MoveToBoundary6_1.json',\n",
       "  '410000',\n",
       "  '010000000000000000000000000000000000',\n",
       "  False,\n",
       "  False,\n",
       "  3],\n",
       " ['MoveToBoundary6_2.json',\n",
       "  '666666000000900000000000000000000000000090',\n",
       "  '000000000000000009000000000000000000',\n",
       "  False,\n",
       "  False,\n",
       "  3],\n",
       " ['TopBottom2D9_0.json',\n",
       "  '987654',\n",
       "  '900550990055099005009900900990990099',\n",
       "  False,\n",
       "  False,\n",
       "  3],\n",
       " ['TopBottom2D9_1.json',\n",
       "  '777770',\n",
       "  '000555555500500007007777777000000077',\n",
       "  False,\n",
       "  False,\n",
       "  3],\n",
       " ['TopBottom2D9_2.json',\n",
       "  '111111',\n",
       "  '005058555058000058555558000008888888',\n",
       "  False,\n",
       "  False,\n",
       "  3],\n",
       " ['TopBottom3D8_0.json',\n",
       "  '090001090000090000333333090000090001',\n",
       "  '090000090000090000393333090000090000',\n",
       "  False,\n",
       "  True,\n",
       "  3],\n",
       " ['TopBottom3D8_1.json',\n",
       "  '040000888888040000040000747777040000040000888888040000040000747777',\n",
       "  '040000848888040000040000777777040000',\n",
       "  False,\n",
       "  False,\n",
       "  3],\n",
       " ['TopBottom3D8_2.json',\n",
       "  '053000350000030000053000050300050030053000350000030000053000050300050030',\n",
       "  '050000350000050000053000050300050030',\n",
       "  False,\n",
       "  False,\n",
       "  3],\n",
       " ['CompleteShape2_2.json',\n",
       "  '333333',\n",
       "  '0000000060000000006066666666660000000060000000006000000000600000000060000000006000000000600000000060',\n",
       "  False,\n",
       "  False,\n",
       "  3],\n",
       " ['InsideOutside1_2.json', '5', '0', False, True, 3],\n",
       " ['Count4_1.json', '99999', '0', False, False, 3],\n",
       " ['ExtractObjects8_1.json',\n",
       "  '111111111111111111111111111111111111111111111111111111111111111111111111111111111111111111111111111',\n",
       "  '11111111',\n",
       "  False,\n",
       "  False,\n",
       "  3],\n",
       " ['Count4_2.json', '666666', '000', False, False, 3],\n",
       " ['Center4_0.json',\n",
       "  '000033030004033',\n",
       "  '0000000033333003000300300030030003003333300000000',\n",
       "  False,\n",
       "  False,\n",
       "  3],\n",
       " ['ExtractObjects8_0.json', '66666666', '066660666666066660', False, False, 3],\n",
       " ['Count6_1.json', '4', '4444000', False, False, 3],\n",
       " ['Count10_0.json', '6000000', '0000', False, False, 3],\n",
       " ['ExtractObjects10_1.json', '6666444', '616661661', False, False, 3],\n",
       " ['Count3_2.json', '6', '3', False, True, 3],\n",
       " ['CompleteShape2_0.json',\n",
       "  '000200000002000000020000888888800020000000200000002000000020000888888800020000',\n",
       "  '0002000000020000000200000002000000020000000200008888888800020000',\n",
       "  False,\n",
       "  False,\n",
       "  3],\n",
       " ['Order8_1.json', '7164', '7164', True, True, 1],\n",
       " ['Order9_0.json',\n",
       "  '000000000000000333333333333000333333000333000333333333',\n",
       "  '000000000000000333333333333000333333333000333333000333',\n",
       "  False,\n",
       "  True,\n",
       "  3],\n",
       " ['Order9_1.json',\n",
       "  '000000000000000000333',\n",
       "  '000000000000000000000333333333333333000333333333000333',\n",
       "  False,\n",
       "  False,\n",
       "  3],\n",
       " ['Order9_2.json',\n",
       "  '000000333333333000333000333333333333333000333333333333333333333',\n",
       "  '000000333333333333333000333333333333000333333333000333',\n",
       "  False,\n",
       "  False,\n",
       "  3],\n",
       " ['TopBottom2D6_2.json',\n",
       "  '8',\n",
       "  '222222200002200002200002222222',\n",
       "  False,\n",
       "  False,\n",
       "  3],\n",
       " ['CompleteShape2_1.json',\n",
       "  '900400000000000400909090000400000000',\n",
       "  '000400000400000400999999000400000400',\n",
       "  False,\n",
       "  True,\n",
       "  3],\n",
       " ['Count10_2.json', '7777777', '0', False, False, 3],\n",
       " ['CleanUp10_2.json',\n",
       "  '00000000000200000000002000000000020200000000200000022222222200002000000000000000',\n",
       "  '000000020000200000200000020002000000002020000000000200000000002020000000020002000000200000200000000000020000000000002000000000000200000000000020',\n",
       "  False,\n",
       "  False,\n",
       "  3],\n",
       " ['CleanUp9_2.json',\n",
       "  '000000000000011111000000010002002000210022000000010001002000021111000000000000000000000002021111020000020001000200010001000000010001000002021112',\n",
       "  '000000000000011111000000010001000000010001000000010001000000011111000000000000000000000000011111000000010001000000010001000000010001000000011111',\n",
       "  False,\n",
       "  True,\n",
       "  3],\n",
       " ['TopBottom2D2_0.json', '8888', '777777777', False, False, 3],\n",
       " ['TopBottom2D6_0.json', '333', '6666', False, False, 3],\n",
       " ['Order8_0.json', '831', '87315', False, False, 3],\n",
       " ['Order8_2.json', '24103', '2438249', False, False, 3],\n",
       " ['Count6_2.json', '3', '4400000', False, False, 3],\n",
       " ['Count7_2.json', '989999998', '2', False, False, 3],\n",
       " ['Count8_2.json', '4', '22', False, False, 3],\n",
       " ['Copy6_2.json',\n",
       "  '4444444444000004444444444000004444444444',\n",
       "  '4444404444444444044444000000000004444404444444444044444000000000004444404444444444044444',\n",
       "  False,\n",
       "  False,\n",
       "  3],\n",
       " ['Copy6_1.json',\n",
       "  '070717070000050565050000010131010131070717070000050565050000010131010',\n",
       "  '07000707170717070007000000000500050565056505000500000000010001013101310100010',\n",
       "  False,\n",
       "  False,\n",
       "  3],\n",
       " ['Copy6_0.json',\n",
       "  '666601111644601331644601331666601111666601111644601331644601331666601111111101331111101331111101331666601111644601331644601331666601111666601111644601331644601331666601111111101331111101331111101331',\n",
       "  '666601111644601331644601331666601111000000000666601111644601331644601331666601111',\n",
       "  False,\n",
       "  False,\n",
       "  3],\n",
       " ['TopBottom2D6_1.json', '3330', '30003000300030003333', False, False, 3],\n",
       " ['CompleteShape5_1.json',\n",
       "  '030330000033044030000003303300000000000003000000003303000000000330003000000000430003000000',\n",
       "  '4300000000330340430000033033000000000000430000000033034000000003300034000000003300430000000033000000',\n",
       "  False,\n",
       "  False,\n",
       "  3],\n",
       " ['CompleteShape5_2.json',\n",
       "  '44444444',\n",
       "  '4300000034440000004400034034004304404400440000000000034004304304400440440000000000340000000044000000',\n",
       "  False,\n",
       "  False,\n",
       "  3],\n",
       " ['CompleteShape6_2.json',\n",
       "  '666666666666666666666660000006666000000666600000066660000006666000000666600000066660000006666000000666666666666666666666666666666666666666666666666666666666666666666666666666666666666666666666699666666666666666666660000006660000006660000006660000006660000006660000006660000006162366666666666666666660000066600000666000006660000066600000666000006469666666666666666666660000006660000006660000006660000006660000006660000006660000006',\n",
       "  '6666666666666666666666666666666666666666666666666666666666666666666666666666666666666666666666666666',\n",
       "  False,\n",
       "  False,\n",
       "  3],\n",
       " ['CompleteShape7_1.json',\n",
       "  '0000000000000000000007700007000000000000000000000000007700000000000000000000000007770007000000000000902',\n",
       "  '0000000000000000000007777777000777777700077777770007777777000777777700077777770007777777000000000000',\n",
       "  False,\n",
       "  False,\n",
       "  3],\n",
       " ['TopBottom2D2_2.json', '3333333', '666666666666666666666', False, False, 3],\n",
       " ['Copy5_1.json',\n",
       "  '99991999902299099990999909999199990229909999099990',\n",
       "  '999909999999909999922909229999909999999909999',\n",
       "  False,\n",
       "  False,\n",
       "  3],\n",
       " ['CompleteShape7_2.json',\n",
       "  '000000000000000000000000001110000000010000000000001000000000000000000000',\n",
       "  '00000000000000000000000000111100001111000011110000111100000000000000000000000000',\n",
       "  False,\n",
       "  False,\n",
       "  3],\n",
       " ['Copy5_0.json',\n",
       "  '77707370777010001000',\n",
       "  '777737777000777737777000777737777',\n",
       "  False,\n",
       "  False,\n",
       "  3],\n",
       " ['Copy5_2.json',\n",
       "  '11116111110011116111110016161161616111116111110016',\n",
       "  '111161111000111161111',\n",
       "  False,\n",
       "  False,\n",
       "  3],\n",
       " ['Count5_0.json', '3330', '0000', False, True, 3],\n",
       " ['Count5_1.json', '333330', '000', False, False, 3],\n",
       " ['Count5_2.json', '111100', '00000000', False, False, 3],\n",
       " ['CleanUp10_1.json',\n",
       "  '222222000200020200022202000200200202002202200200020202200202',\n",
       "  '222222000200000200000200000200000200000200000200000200000200',\n",
       "  False,\n",
       "  True,\n",
       "  3],\n",
       " ['TopBottom3D6_1.json', '55544445', '33333333', False, True, 3],\n",
       " ['TopBottom3D6_2.json', '5522112200', '555555555', False, False, 3],\n",
       " ['Center7_1.json', '5555500000', '555', False, False, 3],\n",
       " ['TopBottom2D2_1.json', '222044', '888', False, False, 3],\n",
       " ['TopBottom3D6_0.json', '88888', '4444444444', False, False, 3],\n",
       " ['CleanUp10_0.json',\n",
       "  '00020020020220022022222200220020202200020020020220022022222200220020202212023142250220210211220032122220040220220050',\n",
       "  '002000002000002000222222002000002000',\n",
       "  False,\n",
       "  False,\n",
       "  3],\n",
       " ['CleanUp9_0.json',\n",
       "  '000809844740400040470070990799448490000809844740400040470070990799448490000809844740400040470070990799',\n",
       "  '000000444440400040400040400040444440',\n",
       "  False,\n",
       "  False,\n",
       "  3],\n",
       " ['CleanUp9_1.json',\n",
       "  '343436300003400044300003204003322434333436000003000044000003044003322434355555',\n",
       "  '333333300003300003300003300003333333',\n",
       "  False,\n",
       "  False,\n",
       "  3],\n",
       " ['CompleteShape5_0.json',\n",
       "  '340340340340430000000330040033000003340340340340430000000330040033000003',\n",
       "  '340000330340000330440000340033000043',\n",
       "  False,\n",
       "  False,\n",
       "  3],\n",
       " ['CompleteShape6_0.json',\n",
       "  '555500005500005500000000007777007777',\n",
       "  '555500555500555500000000007770007770',\n",
       "  False,\n",
       "  True,\n",
       "  3],\n",
       " ['CompleteShape6_1.json',\n",
       "  '00000000026000002600088800000022000022',\n",
       "  '000000088800088800088800000022000022',\n",
       "  False,\n",
       "  False,\n",
       "  3],\n",
       " ['CompleteShape7_0.json',\n",
       "  '00000006666606666006666000666600666690',\n",
       "  '000000066666066666066666066666066666',\n",
       "  False,\n",
       "  False,\n",
       "  3],\n",
       " ['HorizontalVertical9_0.json',\n",
       "  '6080006080006080006080000099990033336012000601200060120006012000001515151500444460120006012000601200060120000015151515004444',\n",
       "  '404000404000404000404000007777007777',\n",
       "  False,\n",
       "  False,\n",
       "  3],\n",
       " ['HorizontalVertical9_1.json',\n",
       "  '777777333338333338333338333338077777',\n",
       "  '777700400004400004400004400004007777',\n",
       "  False,\n",
       "  True,\n",
       "  3],\n",
       " ['HorizontalVertical9_2.json',\n",
       "  '685555680000680000680000066666000000687777',\n",
       "  '407777440000440000440000077777000000',\n",
       "  False,\n",
       "  False,\n",
       "  3],\n",
       " ['Center7_2.json', '55555', '55555', True, True, 1],\n",
       " ['Copy1_2.json',\n",
       "  '222222222222211112211112222222222222',\n",
       "  '222222222222222222222222211112211112211112211112222222222222222222222222',\n",
       "  False,\n",
       "  False,\n",
       "  3],\n",
       " ['Center7_0.json', '666', '66', False, False, 3],\n",
       " ['Copy1_0.json',\n",
       "  '808000000800080000000080808008808000000800080000000080808008',\n",
       "  '808808000000080080000000808808',\n",
       "  False,\n",
       "  False,\n",
       "  3],\n",
       " ['Copy1_1.json',\n",
       "  '666666666666666666666666666666666666666666',\n",
       "  '66666666666666666666',\n",
       "  False,\n",
       "  False,\n",
       "  3],\n",
       " ['Center2_1.json', '6', '6', True, True, 1],\n",
       " ['Center2_2.json', '0', '0', True, True, 2],\n",
       " ['Center2_0.json', '5', '5', True, True, 2]]"
      ]
     },
     "execution_count": 28,
     "metadata": {},
     "output_type": "execute_result"
    }
   ],
   "source": [
    "Comparison"
   ]
  },
  {
   "cell_type": "code",
   "execution_count": 29,
   "id": "tnzVSlfE9eH6",
   "metadata": {
    "id": "tnzVSlfE9eH6"
   },
   "outputs": [],
   "source": [
    "df = pd.DataFrame(Comparison, columns=['Task ', 'Raw Model Answer', 'Correct Answer' , 'Model Answer Evaluation' , 'Model Answer Dimension Evaluation', 'Number of Trials' ])"
   ]
  },
  {
   "cell_type": "code",
   "execution_count": 30,
   "id": "nZSEklzEHlz7",
   "metadata": {
    "colab": {
     "base_uri": "https://localhost:8080/",
     "height": 990
    },
    "id": "nZSEklzEHlz7",
    "outputId": "6b0ae8f1-7e42-4125-9181-a703739ef211"
   },
   "outputs": [
    {
     "data": {
      "text/html": [
       "<div>\n",
       "<style scoped>\n",
       "    .dataframe tbody tr th:only-of-type {\n",
       "        vertical-align: middle;\n",
       "    }\n",
       "\n",
       "    .dataframe tbody tr th {\n",
       "        vertical-align: top;\n",
       "    }\n",
       "\n",
       "    .dataframe thead th {\n",
       "        text-align: right;\n",
       "    }\n",
       "</style>\n",
       "<table border=\"1\" class=\"dataframe\">\n",
       "  <thead>\n",
       "    <tr style=\"text-align: right;\">\n",
       "      <th></th>\n",
       "      <th>Task</th>\n",
       "      <th>Raw Model Answer</th>\n",
       "      <th>Correct Answer</th>\n",
       "      <th>Model Answer Evaluation</th>\n",
       "      <th>Model Answer Dimension Evaluation</th>\n",
       "      <th>Number of Trials</th>\n",
       "    </tr>\n",
       "  </thead>\n",
       "  <tbody>\n",
       "    <tr>\n",
       "      <th>0</th>\n",
       "      <td>ExtendToBoundary2_1.json</td>\n",
       "      <td>55555555555555555555555555555</td>\n",
       "      <td>5555555555555555555500000030000000000550555553...</td>\n",
       "      <td>False</td>\n",
       "      <td>False</td>\n",
       "      <td>1</td>\n",
       "    </tr>\n",
       "    <tr>\n",
       "      <th>1</th>\n",
       "      <td>AboveBelow2_2.json</td>\n",
       "      <td>000000000000000055550000000000555500000000000000</td>\n",
       "      <td>0000000000000000000000000000000000000000000000...</td>\n",
       "      <td>False</td>\n",
       "      <td>False</td>\n",
       "      <td>1</td>\n",
       "    </tr>\n",
       "    <tr>\n",
       "      <th>2</th>\n",
       "      <td>ExtendToBoundary2_2.json</td>\n",
       "      <td>0000000000000000999999999999009000000000090090...</td>\n",
       "      <td>0000000000000000009999999999900009999909999900...</td>\n",
       "      <td>False</td>\n",
       "      <td>False</td>\n",
       "      <td>1</td>\n",
       "    </tr>\n",
       "    <tr>\n",
       "      <th>3</th>\n",
       "      <td>InsideOutside4_0.json</td>\n",
       "      <td>0000000000000000000000000000008888888888000080...</td>\n",
       "      <td>0000000000000000000000000000008888888888000080...</td>\n",
       "      <td>False</td>\n",
       "      <td>False</td>\n",
       "      <td>1</td>\n",
       "    </tr>\n",
       "    <tr>\n",
       "      <th>4</th>\n",
       "      <td>InsideOutside4_1.json</td>\n",
       "      <td>0000000000000000000000000000000000000000000000...</td>\n",
       "      <td>0000000000000000000000000000000000000000000000...</td>\n",
       "      <td>False</td>\n",
       "      <td>False</td>\n",
       "      <td>1</td>\n",
       "    </tr>\n",
       "    <tr>\n",
       "      <th>...</th>\n",
       "      <td>...</td>\n",
       "      <td>...</td>\n",
       "      <td>...</td>\n",
       "      <td>...</td>\n",
       "      <td>...</td>\n",
       "      <td>...</td>\n",
       "    </tr>\n",
       "    <tr>\n",
       "      <th>475</th>\n",
       "      <td>Copy1_0.json</td>\n",
       "      <td>8080000008000800000000808080088080000008000800...</td>\n",
       "      <td>808808000000080080000000808808</td>\n",
       "      <td>False</td>\n",
       "      <td>False</td>\n",
       "      <td>3</td>\n",
       "    </tr>\n",
       "    <tr>\n",
       "      <th>476</th>\n",
       "      <td>Copy1_1.json</td>\n",
       "      <td>666666666666666666666666666666666666666666</td>\n",
       "      <td>66666666666666666666</td>\n",
       "      <td>False</td>\n",
       "      <td>False</td>\n",
       "      <td>3</td>\n",
       "    </tr>\n",
       "    <tr>\n",
       "      <th>477</th>\n",
       "      <td>Center2_1.json</td>\n",
       "      <td>6</td>\n",
       "      <td>6</td>\n",
       "      <td>True</td>\n",
       "      <td>True</td>\n",
       "      <td>1</td>\n",
       "    </tr>\n",
       "    <tr>\n",
       "      <th>478</th>\n",
       "      <td>Center2_2.json</td>\n",
       "      <td>0</td>\n",
       "      <td>0</td>\n",
       "      <td>True</td>\n",
       "      <td>True</td>\n",
       "      <td>2</td>\n",
       "    </tr>\n",
       "    <tr>\n",
       "      <th>479</th>\n",
       "      <td>Center2_0.json</td>\n",
       "      <td>5</td>\n",
       "      <td>5</td>\n",
       "      <td>True</td>\n",
       "      <td>True</td>\n",
       "      <td>2</td>\n",
       "    </tr>\n",
       "  </tbody>\n",
       "</table>\n",
       "<p>480 rows × 6 columns</p>\n",
       "</div>"
      ],
      "text/plain": [
       "                        Task   \\\n",
       "0    ExtendToBoundary2_1.json   \n",
       "1          AboveBelow2_2.json   \n",
       "2    ExtendToBoundary2_2.json   \n",
       "3       InsideOutside4_0.json   \n",
       "4       InsideOutside4_1.json   \n",
       "..                        ...   \n",
       "475              Copy1_0.json   \n",
       "476              Copy1_1.json   \n",
       "477            Center2_1.json   \n",
       "478            Center2_2.json   \n",
       "479            Center2_0.json   \n",
       "\n",
       "                                      Raw Model Answer  \\\n",
       "0                        55555555555555555555555555555   \n",
       "1     000000000000000055550000000000555500000000000000   \n",
       "2    0000000000000000999999999999009000000000090090...   \n",
       "3    0000000000000000000000000000008888888888000080...   \n",
       "4    0000000000000000000000000000000000000000000000...   \n",
       "..                                                 ...   \n",
       "475  8080000008000800000000808080088080000008000800...   \n",
       "476         666666666666666666666666666666666666666666   \n",
       "477                                                  6   \n",
       "478                                                  0   \n",
       "479                                                  5   \n",
       "\n",
       "                                        Correct Answer  \\\n",
       "0    5555555555555555555500000030000000000550555553...   \n",
       "1    0000000000000000000000000000000000000000000000...   \n",
       "2    0000000000000000009999999999900009999909999900...   \n",
       "3    0000000000000000000000000000008888888888000080...   \n",
       "4    0000000000000000000000000000000000000000000000...   \n",
       "..                                                 ...   \n",
       "475                     808808000000080080000000808808   \n",
       "476                               66666666666666666666   \n",
       "477                                                  6   \n",
       "478                                                  0   \n",
       "479                                                  5   \n",
       "\n",
       "     Model Answer Evaluation  Model Answer Dimension Evaluation  \\\n",
       "0                      False                              False   \n",
       "1                      False                              False   \n",
       "2                      False                              False   \n",
       "3                      False                              False   \n",
       "4                      False                              False   \n",
       "..                       ...                                ...   \n",
       "475                    False                              False   \n",
       "476                    False                              False   \n",
       "477                     True                               True   \n",
       "478                     True                               True   \n",
       "479                     True                               True   \n",
       "\n",
       "     Number of Trials  \n",
       "0                   1  \n",
       "1                   1  \n",
       "2                   1  \n",
       "3                   1  \n",
       "4                   1  \n",
       "..                ...  \n",
       "475                 3  \n",
       "476                 3  \n",
       "477                 1  \n",
       "478                 2  \n",
       "479                 2  \n",
       "\n",
       "[480 rows x 6 columns]"
      ]
     },
     "execution_count": 30,
     "metadata": {},
     "output_type": "execute_result"
    }
   ],
   "source": [
    "df"
   ]
  },
  {
   "cell_type": "code",
   "execution_count": 31,
   "id": "3_d4E--UHmax",
   "metadata": {
    "id": "3_d4E--UHmax"
   },
   "outputs": [],
   "source": [
    "excel_filename = 'results_full.xlsx'\n",
    "df.to_excel(excel_filename, index=False)"
   ]
  },
  {
   "cell_type": "code",
   "execution_count": null,
   "id": "7e212f54",
   "metadata": {},
   "outputs": [],
   "source": []
  }
 ],
 "metadata": {
  "colab": {
   "provenance": []
  },
  "kernelspec": {
   "display_name": "Python 3 (ipykernel)",
   "language": "python",
   "name": "python3"
  },
  "language_info": {
   "codemirror_mode": {
    "name": "ipython",
    "version": 3
   },
   "file_extension": ".py",
   "mimetype": "text/x-python",
   "name": "python",
   "nbconvert_exporter": "python",
   "pygments_lexer": "ipython3",
   "version": "3.9.13"
  }
 },
 "nbformat": 4,
 "nbformat_minor": 5
}
